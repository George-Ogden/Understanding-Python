{
 "cells": [
  {
   "cell_type": "code",
   "execution_count": 1,
   "metadata": {},
   "outputs": [],
   "source": [
    "import datetime, time"
   ]
  },
  {
   "cell_type": "code",
   "execution_count": 2,
   "metadata": {},
   "outputs": [
    {
     "output_type": "stream",
     "name": "stdout",
     "text": [
      "Waiting...\n",
      "Done!\n"
     ]
    }
   ],
   "source": [
    "# adding pauses\n",
    "print(\"Waiting...\")\n",
    "time.sleep(5)\n",
    "print(\"Done!\")"
   ]
  },
  {
   "cell_type": "code",
   "execution_count": 3,
   "metadata": {},
   "outputs": [
    {
     "output_type": "stream",
     "name": "stdout",
     "text": [
      "-3600\n1\n0\n('GMT Standard Time', 'GMT Summer Time')\n"
     ]
    }
   ],
   "source": [
    "print(time.altzone)\n",
    "print(time.daylight)\n",
    "print(time.timezone)\n",
    "print(time.tzname)"
   ]
  },
  {
   "cell_type": "code",
   "execution_count": 4,
   "metadata": {},
   "outputs": [
    {
     "output_type": "stream",
     "name": "stdout",
     "text": [
      "0:00:03.141592\n1 day, 12:15:00\n38 days, 0:00:00\n"
     ]
    }
   ],
   "source": [
    "# datetime.timedelta(weeks=,days=,hours=,minutes=,seconds=,microseconds=,milliseconds=)\n",
    "print(datetime.timedelta(seconds=3,milliseconds=141,microseconds=592))\n",
    "print(datetime.timedelta(days=1,hours=12,minutes=15))\n",
    "print(datetime.timedelta(weeks=4,days=10))"
   ]
  },
  {
   "cell_type": "code",
   "execution_count": 5,
   "metadata": {},
   "outputs": [
    {
     "output_type": "execute_result",
     "data": {
      "text/plain": [
       "datetime.timedelta(days=39, seconds=44100)"
      ]
     },
     "metadata": {},
     "execution_count": 5
    }
   ],
   "source": [
    "datetime.timedelta(days=1,hours=12,minutes=15)+datetime.timedelta(weeks=4,days=10)"
   ]
  },
  {
   "cell_type": "code",
   "execution_count": 6,
   "metadata": {},
   "outputs": [
    {
     "output_type": "execute_result",
     "data": {
      "text/plain": [
       "datetime.timedelta(days=-1, seconds=44100)"
      ]
     },
     "metadata": {},
     "execution_count": 6
    }
   ],
   "source": [
    "datetime.timedelta(days=-1,hours=12,minutes=15)"
   ]
  },
  {
   "cell_type": "code",
   "execution_count": 7,
   "metadata": {},
   "outputs": [
    {
     "output_type": "execute_result",
     "data": {
      "text/plain": [
       "-42300.0"
      ]
     },
     "metadata": {},
     "execution_count": 7
    }
   ],
   "source": [
    "datetime.timedelta(days=-1,hours=12,minutes=15).total_seconds()"
   ]
  },
  {
   "cell_type": "code",
   "execution_count": 8,
   "metadata": {},
   "outputs": [
    {
     "output_type": "error",
     "ename": "TypeError",
     "evalue": "'>' not supported between instances of 'datetime.timedelta' and 'int'",
     "traceback": [
      "\u001b[1;31m---------------------------------------------------------------------------\u001b[0m",
      "\u001b[1;31mTypeError\u001b[0m                                 Traceback (most recent call last)",
      "\u001b[1;32m<ipython-input-8-4b71476e0589>\u001b[0m in \u001b[0;36m<module>\u001b[1;34m\u001b[0m\n\u001b[1;32m----> 1\u001b[1;33m \u001b[0mdatetime\u001b[0m\u001b[1;33m.\u001b[0m\u001b[0mtimedelta\u001b[0m\u001b[1;33m(\u001b[0m\u001b[0mdays\u001b[0m\u001b[1;33m=\u001b[0m\u001b[1;33m-\u001b[0m\u001b[1;36m1\u001b[0m\u001b[1;33m,\u001b[0m\u001b[0mhours\u001b[0m\u001b[1;33m=\u001b[0m\u001b[1;36m12\u001b[0m\u001b[1;33m,\u001b[0m\u001b[0mminutes\u001b[0m\u001b[1;33m=\u001b[0m\u001b[1;36m15\u001b[0m\u001b[1;33m)\u001b[0m \u001b[1;33m>\u001b[0m \u001b[1;36m0\u001b[0m\u001b[1;33m\u001b[0m\u001b[1;33m\u001b[0m\u001b[0m\n\u001b[0m",
      "\u001b[1;31mTypeError\u001b[0m: '>' not supported between instances of 'datetime.timedelta' and 'int'"
     ]
    }
   ],
   "source": [
    "datetime.timedelta(days=-1,hours=12,minutes=15) > 0"
   ]
  },
  {
   "cell_type": "code",
   "execution_count": 9,
   "metadata": {},
   "outputs": [
    {
     "output_type": "execute_result",
     "data": {
      "text/plain": [
       "False"
      ]
     },
     "metadata": {},
     "execution_count": 9
    }
   ],
   "source": [
    "datetime.timedelta(days=-1,hours=12,minutes=15).total_seconds() > 0"
   ]
  },
  {
   "cell_type": "code",
   "execution_count": 10,
   "metadata": {},
   "outputs": [
    {
     "output_type": "stream",
     "name": "stdout",
     "text": [
      "2020-12-12\n2020-12-13\n0001-12-12\n2020-12-01\n2020-12-08\n"
     ]
    }
   ],
   "source": [
    "print(datetime.date.today()) # today\n",
    "print(datetime.date.fromtimestamp(1607817600)) # milliseconds since 01/01/70\n",
    "print(datetime.date.fromordinal(346)) # days since 01/01\n",
    "print(datetime.date.fromisoformat(\"2020-12-01\")) # YYY-MM-DD\n",
    "print(datetime.date.fromisocalendar(2020,50,2)) # year, week, day"
   ]
  },
  {
   "cell_type": "code",
   "execution_count": 11,
   "metadata": {},
   "outputs": [
    {
     "output_type": "execute_result",
     "data": {
      "text/plain": [
       "datetime.date(2020, 12, 5)"
      ]
     },
     "metadata": {},
     "execution_count": 11
    }
   ],
   "source": [
    "datetime.date.today()-datetime.timedelta(weeks=1)"
   ]
  },
  {
   "cell_type": "code",
   "execution_count": 12,
   "metadata": {},
   "outputs": [
    {
     "output_type": "stream",
     "name": "stdout",
     "text": [
      "5\n6\n(2020, 50, 6)\n"
     ]
    }
   ],
   "source": [
    "today = datetime.date.today()\n",
    "print(today.weekday()) # 0-6\n",
    "print(today.isoweekday()) # 1-7\n",
    "print(today.isocalendar()) # Y-W-D"
   ]
  },
  {
   "cell_type": "code",
   "execution_count": 13,
   "metadata": {},
   "outputs": [
    {
     "output_type": "stream",
     "name": "stdout",
     "text": [
      "2020-12-12 13:29:44.572650\n2020-12-12 13:29:44.572650\n2020-12-12 13:29:44.574968\n"
     ]
    }
   ],
   "source": [
    "# current time\n",
    "print(datetime.datetime.today())\n",
    "print(datetime.datetime.now())\n",
    "print(datetime.datetime.utcnow())"
   ]
  },
  {
   "cell_type": "code",
   "execution_count": 14,
   "metadata": {},
   "outputs": [
    {
     "output_type": "execute_result",
     "data": {
      "text/plain": [
       "datetime.timedelta(seconds=5, microseconds=3985)"
      ]
     },
     "metadata": {},
     "execution_count": 14
    }
   ],
   "source": [
    "now = datetime.datetime.now(datetime.timezone.utc)\n",
    "time.sleep(5)\n",
    "datetime.datetime.now(datetime.timezone.utc) - now"
   ]
  },
  {
   "cell_type": "code",
   "execution_count": 15,
   "metadata": {},
   "outputs": [
    {
     "output_type": "stream",
     "name": "stdout",
     "text": [
      "2020-12-12\n13:30:01.249154\n13:30:01.249154+00:00\n"
     ]
    }
   ],
   "source": [
    "print(now.date())\n",
    "print(now.time())\n",
    "print(now.timetz())"
   ]
  },
  {
   "cell_type": "code",
   "execution_count": 16,
   "metadata": {},
   "outputs": [
    {
     "output_type": "stream",
     "name": "stdout",
     "text": [
      "1607779801.249154\n1607779801.249154\n"
     ]
    }
   ],
   "source": [
    "print(now.timestamp())\n",
    "print((now - datetime.datetime(1970, 1, 1, tzinfo=datetime.timezone.utc)).total_seconds())"
   ]
  },
  {
   "cell_type": "code",
   "execution_count": 17,
   "metadata": {},
   "outputs": [
    {
     "output_type": "stream",
     "name": "stdout",
     "text": [
      "12/12/2020 13:30:01\n12/12/2020\nSat Dec 12 13:30:01 2020\n01:30:01.249154 PM\n"
     ]
    }
   ],
   "source": [
    "print(now.strftime(\"%d/%m/%Y %H:%M:%S\"))\n",
    "print(now.strftime(\"%d/%m/%Y\"))\n",
    "print(now.strftime(\"%c\"))\n",
    "print(now.strftime(\"%I:%M:%S.%f %p\"))"
   ]
  },
  {
   "cell_type": "code",
   "execution_count": 18,
   "metadata": {},
   "outputs": [],
   "source": [
    "today = datetime.date.today()"
   ]
  },
  {
   "cell_type": "code",
   "execution_count": 19,
   "metadata": {},
   "outputs": [
    {
     "output_type": "stream",
     "name": "stdout",
     "text": [
      "12/12/2020 00:00:00\n12/12/2020\n"
     ]
    }
   ],
   "source": [
    "print(today.strftime(\"%d/%m/%Y %H:%M:%S\"))\n",
    "print(today.strftime(\"%d/%m/%Y\"))"
   ]
  }
 ],
 "metadata": {
  "kernelspec": {
   "display_name": "Python 3",
   "language": "python",
   "name": "python3"
  },
  "language_info": {
   "codemirror_mode": {
    "name": "ipython",
    "version": 3
   },
   "file_extension": ".py",
   "mimetype": "text/x-python",
   "name": "python",
   "nbconvert_exporter": "python",
   "pygments_lexer": "ipython3",
   "version": "3.8.5-final"
  }
 },
 "nbformat": 4,
 "nbformat_minor": 2
}