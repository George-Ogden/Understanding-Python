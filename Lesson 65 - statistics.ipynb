{
 "cells": [
  {
   "cell_type": "code",
   "execution_count": 1,
   "source": [
    "import random\r\n",
    "data = [random.randint(1,100) for i in range(10000)]"
   ],
   "outputs": [],
   "metadata": {}
  },
  {
   "cell_type": "code",
   "execution_count": 2,
   "source": [
    "random.sample(data,10)"
   ],
   "outputs": [
    {
     "output_type": "execute_result",
     "data": {
      "text/plain": [
       "[14, 47, 35, 88, 27, 87, 36, 71, 54, 84]"
      ]
     },
     "metadata": {},
     "execution_count": 2
    }
   ],
   "metadata": {}
  },
  {
   "cell_type": "code",
   "execution_count": 3,
   "source": [
    "from statistics import *"
   ],
   "outputs": [],
   "metadata": {}
  },
  {
   "cell_type": "code",
   "execution_count": 4,
   "source": [
    "# mean\r\n",
    "print(mean(data))\r\n",
    "print(fmean(data))"
   ],
   "outputs": [
    {
     "output_type": "stream",
     "name": "stdout",
     "text": [
      "50.1117\n",
      "50.1117\n"
     ]
    }
   ],
   "metadata": {}
  },
  {
   "cell_type": "markdown",
   "source": [
    "$$ \\frac{\\sum_{i=1}^{n}{x_n}}{n} $$"
   ],
   "metadata": {}
  },
  {
   "cell_type": "markdown",
   "source": [
    "$$ \\sqrt[n]{\\prod_{i=1}^{n}{x_n}} $$"
   ],
   "metadata": {}
  },
  {
   "cell_type": "markdown",
   "source": [
    "$$ \\frac{n}{\\sum_{i=1}^{n}{\\frac{1}{x_n}}} $$"
   ],
   "metadata": {}
  },
  {
   "cell_type": "code",
   "execution_count": 5,
   "source": [
    "print(f\"Arithmetic mean: {mean(data)}\")\r\n",
    "print(f\"Geometric mean: {geometric_mean(data)}\")\r\n",
    "print(f\"Harmonic mean: {harmonic_mean(data)}\")"
   ],
   "outputs": [
    {
     "output_type": "stream",
     "name": "stdout",
     "text": [
      "Arithmetic mean: 50.1117\n",
      "Geometric mean: 37.50529266491148\n",
      "Harmonic mean: 18.762190807456644\n"
     ]
    }
   ],
   "metadata": {}
  },
  {
   "cell_type": "code",
   "execution_count": 6,
   "source": [
    "# median\r\n",
    "print(median(data))\r\n",
    "print(median_low(data))\r\n",
    "print(median_high(data))"
   ],
   "outputs": [
    {
     "output_type": "stream",
     "name": "stdout",
     "text": [
      "50.0\n",
      "50\n",
      "50\n"
     ]
    }
   ],
   "metadata": {}
  },
  {
   "cell_type": "code",
   "execution_count": 7,
   "source": [
    "# mode\r\n",
    "print(mode(data))"
   ],
   "outputs": [
    {
     "output_type": "stream",
     "name": "stdout",
     "text": [
      "33\n"
     ]
    }
   ],
   "metadata": {}
  },
  {
   "cell_type": "code",
   "execution_count": 8,
   "source": [
    "print(multimode(data))"
   ],
   "outputs": [
    {
     "output_type": "stream",
     "name": "stdout",
     "text": [
      "[33]\n"
     ]
    }
   ],
   "metadata": {}
  },
  {
   "cell_type": "code",
   "execution_count": 9,
   "source": [
    "# quantiles\r\n",
    "print(quantiles(data,n=10))\r\n",
    "print(quantiles(data,n=20))"
   ],
   "outputs": [
    {
     "output_type": "stream",
     "name": "stdout",
     "text": [
      "[10.0, 20.0, 30.0, 40.0, 50.0, 60.0, 70.0, 80.0, 91.0]\n",
      "[5.0, 10.0, 16.0, 20.0, 25.0, 30.0, 35.0, 40.0, 45.0, 50.0, 54.0, 60.0, 65.0, 70.0, 75.0, 80.0, 86.0, 91.0, 96.0]\n"
     ]
    }
   ],
   "metadata": {}
  },
  {
   "cell_type": "code",
   "execution_count": 10,
   "source": [
    "# stdev and variance\r\n",
    "print(stdev(data))\r\n",
    "print(variance(data))"
   ],
   "outputs": [
    {
     "output_type": "stream",
     "name": "stdout",
     "text": [
      "28.963492736566668\n",
      "838.8839115011501\n"
     ]
    }
   ],
   "metadata": {}
  },
  {
   "cell_type": "code",
   "execution_count": 11,
   "source": [
    "# normal distribution\r\n",
    "distribution = NormalDist()"
   ],
   "outputs": [],
   "metadata": {}
  },
  {
   "cell_type": "code",
   "execution_count": 12,
   "source": [
    "print(distribution.mean)\r\n",
    "print(distribution.median)\r\n",
    "print(distribution.mode)\r\n",
    "print(distribution.stdev)\r\n",
    "print(distribution.variance)"
   ],
   "outputs": [
    {
     "output_type": "stream",
     "name": "stdout",
     "text": [
      "0.0\n",
      "0.0\n",
      "0.0\n",
      "1.0\n",
      "1.0\n"
     ]
    }
   ],
   "metadata": {}
  },
  {
   "cell_type": "code",
   "execution_count": 13,
   "source": [
    "# samples\r\n",
    "samples = distribution.samples(10)\r\n",
    "samples"
   ],
   "outputs": [
    {
     "output_type": "execute_result",
     "data": {
      "text/plain": [
       "[1.0899904158521516,\n",
       " -0.25189789552563446,\n",
       " 1.5997107923497245,\n",
       " 0.650764545271164,\n",
       " -1.0770015620448692,\n",
       " -0.18573238387509083,\n",
       " 0.5986281113378671,\n",
       " -0.4824270072727733,\n",
       " 1.4061562634888833,\n",
       " -1.0731235570887758]"
      ]
     },
     "metadata": {},
     "execution_count": 13
    }
   ],
   "metadata": {}
  },
  {
   "cell_type": "code",
   "execution_count": 14,
   "source": [
    "# cumulative distribution function\r\n",
    "print(distribution.cdf(samples[0]))"
   ],
   "outputs": [
    {
     "output_type": "stream",
     "name": "stdout",
     "text": [
      "0.8621413170410268\n"
     ]
    }
   ],
   "metadata": {}
  },
  {
   "cell_type": "code",
   "execution_count": 15,
   "source": [
    "# inverse cumulative distribution function\r\n",
    "print(distribution.inv_cdf(0.84))"
   ],
   "outputs": [
    {
     "output_type": "stream",
     "name": "stdout",
     "text": [
      "0.9944578832097528\n"
     ]
    }
   ],
   "metadata": {}
  },
  {
   "cell_type": "code",
   "execution_count": 16,
   "source": [
    "# quantiles\r\n",
    "print(distribution.quantiles(10))"
   ],
   "outputs": [
    {
     "output_type": "stream",
     "name": "stdout",
     "text": [
      "[-1.2815515655446008, -0.8416212335729142, -0.5244005127080407, -0.2533471031357998, 0.0, 0.2533471031357998, 0.5244005127080407, 0.8416212335729144, 1.2815515655446008]\n"
     ]
    }
   ],
   "metadata": {}
  }
 ],
 "metadata": {
  "orig_nbformat": 4,
  "language_info": {
   "name": "python",
   "version": "3.9.5",
   "mimetype": "text/x-python",
   "codemirror_mode": {
    "name": "ipython",
    "version": 3
   },
   "pygments_lexer": "ipython3",
   "nbconvert_exporter": "python",
   "file_extension": ".py"
  },
  "kernelspec": {
   "name": "python3",
   "display_name": "Python 3.9.5 64-bit ('base': conda)"
  },
  "interpreter": {
   "hash": "10e1abf77ddef6b5a0d462bd0c1af8a6d69cacf984b7ff54f171d3af9bd75ca1"
  }
 },
 "nbformat": 4,
 "nbformat_minor": 2
}