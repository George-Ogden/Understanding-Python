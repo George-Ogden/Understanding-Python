{
 "cells": [
  {
   "cell_type": "code",
   "execution_count": 1,
   "metadata": {},
   "outputs": [
    {
     "name": "stdout",
     "output_type": "stream",
     "text": [
      "Requirement already satisfied: pysr in c:\\miniconda3\\lib\\site-packages (0.6.13)\n",
      "Requirement already satisfied: numpy in c:\\miniconda3\\lib\\site-packages (from pysr) (1.20.2)\n",
      "Requirement already satisfied: sympy in c:\\miniconda3\\lib\\site-packages (from pysr) (1.9)\n",
      "Requirement already satisfied: pandas in c:\\miniconda3\\lib\\site-packages (from pysr) (1.2.4)\n",
      "Requirement already satisfied: python-dateutil>=2.7.3 in c:\\miniconda3\\lib\\site-packages (from pandas->pysr) (2.8.0)\n",
      "Requirement already satisfied: pytz>=2017.3 in c:\\miniconda3\\lib\\site-packages (from pandas->pysr) (2021.1)\n",
      "Requirement already satisfied: six>=1.5 in c:\\miniconda3\\lib\\site-packages (from python-dateutil>=2.7.3->pandas->pysr) (1.16.0)\n",
      "Requirement already satisfied: mpmath>=0.19 in c:\\miniconda3\\lib\\site-packages (from sympy->pysr) (1.2.1)\n"
     ]
    }
   ],
   "source": [
    "!pip install pysr"
   ]
  },
  {
   "cell_type": "code",
   "execution_count": 2,
   "id": "fa094059",
   "metadata": {},
   "outputs": [],
   "source": [
    "import matplotlib.pyplot as plt\n",
    "import seaborn as sns\n",
    "import pandas as pd\n",
    "import numpy as np\n",
    "%matplotlib inline"
   ]
  },
  {
   "cell_type": "code",
   "execution_count": 3,
   "id": "f0dcf29f",
   "metadata": {},
   "outputs": [],
   "source": [
    "from pysr import pysr, best, best_callable"
   ]
  },
  {
   "cell_type": "code",
   "execution_count": 4,
   "id": "67900f37",
   "metadata": {},
   "outputs": [],
   "source": [
    "x0 = np.random.random(100) * 2 * np.pi - np.pi\n",
    "x1 = np.random.random(100) * 2 * np.pi - np.pi\n",
    "y = np.sin(x0)\n",
    "df = pd.DataFrame(columns=[\"x0\",\"x1\",\"y\"],data=np.array([x0,x1,y]).transpose(),index=None)"
   ]
  },
  {
   "cell_type": "code",
   "execution_count": 5,
   "metadata": {},
   "outputs": [
    {
     "data": {
      "text/plain": [
       "<AxesSubplot:xlabel='x0', ylabel='Count'>"
      ]
     },
     "execution_count": 5,
     "metadata": {},
     "output_type": "execute_result"
    },
    {
     "data": {
      "image/png": "[encoded data removed]",
      "text/plain": [
       "<Figure size 432x288 with 1 Axes>"
      ]
     },
     "metadata": {
      "needs_background": "light"
     },
     "output_type": "display_data"
    }
   ],
   "source": [
    "sns.histplot(x=\"x0\",data=df)\n",
    "sns.histplot(x=\"x1\",data=df)"
   ]
  },
  {
   "cell_type": "code",
   "execution_count": 6,
   "id": "cec74b28",
   "metadata": {},
   "outputs": [
    {
     "data": {
      "text/plain": [
       "<AxesSubplot:xlabel='x0', ylabel='y'>"
      ]
     },
     "execution_count": 6,
     "metadata": {},
     "output_type": "execute_result"
    },
    {
     "data": {
      "image/png": "[encoded data removed]",
      "text/plain": [
       "<Figure size 432x288 with 1 Axes>"
      ]
     },
     "metadata": {
      "needs_background": "light"
     },
     "output_type": "display_data"
    }
   ],
   "source": [
    "sns.scatterplot(x=\"x0\",y=\"y\",data=df)"
   ]
  },
  {
   "cell_type": "code",
   "execution_count": 7,
   "id": "72bf5421",
   "metadata": {},
   "outputs": [],
   "source": [
    "df[\"y\"] += np.random.random(100) / 10"
   ]
  },
  {
   "cell_type": "code",
   "execution_count": 8,
   "id": "145c4683",
   "metadata": {},
   "outputs": [
    {
     "data": {
      "text/plain": [
       "<AxesSubplot:xlabel='x0', ylabel='y'>"
      ]
     },
     "execution_count": 8,
     "metadata": {},
     "output_type": "execute_result"
    },
    {
     "data": {
      "image/png": "[encoded data removed]",
      "text/plain": [
       "<Figure size 432x288 with 1 Axes>"
      ]
     },
     "metadata": {
      "needs_background": "light"
     },
     "output_type": "display_data"
    }
   ],
   "source": [
    "sns.scatterplot(x=\"x0\",y=\"y\",data=df)"
   ]
  },
  {
   "cell_type": "code",
   "execution_count": 9,
   "metadata": {},
   "outputs": [],
   "source": [
    "X = np.array(df.drop(\"y\",axis=1))\n",
    "y = np.array(df[\"y\"])"
   ]
  },
  {
   "cell_type": "code",
   "execution_count": 10,
   "id": "2a59eab6",
   "metadata": {},
   "outputs": [
    {
     "name": "stdout",
     "output_type": "stream",
     "text": [
      "Running on julia -O3 C:\\Users\\GEORGE~1\\AppData\\Local\\Temp\\tmp2pnwens7\\runfile.jl\n",
      "Activating environment on workers.\n",
      "      From worker 5:\t  Activating environment at `C:\\miniconda3\\Lib\\site-packages\\Project.toml`\n",
      "      From worker 4:\t  Activating environment at `C:\\miniconda3\\Lib\\site-packages\\Project.toml`\n",
      "      From worker 3:\t  Activating environment at `C:\\miniconda3\\Lib\\site-packages\\Project.toml`\n",
      "      From worker 2:\t  Activating environment at `C:\\miniconda3\\Lib\\site-packages\\Project.toml`\n",
      "Importing installed module on workers...Finished!\n",
      "Copying definition of inv to workers...Finished!\n",
      "Testing module on workers...Finished!\n",
      "Testing entire pipeline on workers...Finished!\n",
      "Started!\n",
      "\n",
      "Cycles per second: 6.560e+02\n",
      "Head worker occupation: 2.9%\n",
      "Progress: 1 / 40 total iterations (2.500%)\n",
      "==============================\n",
      "Hall of Fame:\n",
      "-----------------------------------------\n",
      "Complexity  Loss       Score     Equation\n",
      "1           5.765e-01  1.192e-07  0.0798819\n",
      "2           3.617e-03  5.071e+00  sin(x0)\n",
      "4           8.540e-04  7.218e-01  (0.052563727 + sin(x0))\n",
      "\n",
      "==============================\n",
      "\n",
      "Cycles per second: 3.320e+03\n",
      "Head worker occupation: 2.6%\n",
      "Progress: 2 / 40 total iterations (5.000%)\n",
      "==============================\n",
      "Hall of Fame:\n",
      "-----------------------------------------\n",
      "Complexity  Loss       Score     Equation\n",
      "1           5.765e-01  1.192e-07  0.0798819\n",
      "2           3.617e-03  5.071e+00  sin(x0)\n",
      "4           8.540e-04  7.218e-01  (0.052563727 + sin(x0))\n",
      "\n",
      "==============================\n",
      "\n",
      "Cycles per second: 3.680e+03\n",
      "Head worker occupation: 2.3%\n",
      "Progress: 3 / 40 total iterations (7.500%)\n",
      "==============================\n",
      "Hall of Fame:\n",
      "-----------------------------------------\n",
      "Complexity  Loss       Score     Equation\n",
      "1           5.765e-01  1.192e-07  0.0798819\n",
      "2           3.617e-03  5.071e+00  sin(x0)\n",
      "4           8.540e-04  7.218e-01  (0.052563727 + sin(x0))\n",
      "\n",
      "==============================\n",
      "\n",
      "Cycles per second: 2.990e+03\n",
      "Head worker occupation: 1.5%\n",
      "Progress: 4 / 40 total iterations (10.000%)\n",
      "==============================\n",
      "Hall of Fame:\n",
      "-----------------------------------------\n",
      "Complexity  Loss       Score     Equation\n",
      "1           5.765e-01  1.192e-07  0.0798819\n",
      "2           3.617e-03  5.071e+00  sin(x0)\n",
      "4           8.540e-04  7.218e-01  (0.052563727 + sin(x0))\n",
      "\n",
      "==============================\n",
      "\n",
      "Cycles per second: 3.590e+03\n",
      "Head worker occupation: 1.5%\n",
      "Progress: 5 / 40 total iterations (12.500%)\n",
      "==============================\n",
      "Hall of Fame:\n",
      "-----------------------------------------\n",
      "Complexity  Loss       Score     Equation\n",
      "1           5.765e-01  1.192e-07  0.0798819\n",
      "2           3.617e-03  5.071e+00  sin(x0)\n",
      "4           8.540e-04  7.218e-01  (0.052563727 + sin(x0))\n",
      "\n",
      "==============================\n",
      "\n",
      "Cycles per second: 3.530e+03\n",
      "Head worker occupation: 1.4%\n",
      "Progress: 6 / 40 total iterations (15.000%)\n",
      "==============================\n",
      "Hall of Fame:\n",
      "-----------------------------------------\n",
      "Complexity  Loss       Score     Equation\n",
      "1           5.765e-01  1.192e-07  0.0798819\n",
      "2           3.617e-03  5.071e+00  sin(x0)\n",
      "4           8.540e-04  7.218e-01  (0.052563727 + sin(x0))\n",
      "\n",
      "==============================\n",
      "\n",
      "Cycles per second: 9.020e+03\n",
      "Head worker occupation: 1.5%\n",
      "Progress: 13 / 40 total iterations (32.500%)\n",
      "==============================\n",
      "Hall of Fame:\n",
      "-----------------------------------------\n",
      "Complexity  Loss       Score     Equation\n",
      "1           5.765e-01  1.192e-07  0.0798819\n",
      "2           3.617e-03  5.071e+00  sin(x0)\n",
      "4           8.540e-04  7.218e-01  (0.052563727 + sin(x0))\n",
      "\n",
      "==============================\n",
      "\n",
      "Cycles per second: 8.640e+03\n",
      "Head worker occupation: 1.5%\n",
      "Progress: 14 / 40 total iterations (35.000%)\n",
      "==============================\n",
      "Hall of Fame:\n",
      "-----------------------------------------\n",
      "Complexity  Loss       Score     Equation\n",
      "1           5.765e-01  1.192e-07  0.0798819\n",
      "2           3.617e-03  5.071e+00  sin(x0)\n",
      "4           8.540e-04  7.218e-01  (0.052563727 + sin(x0))\n",
      "\n",
      "==============================\n",
      "\n",
      "Cycles per second: 8.340e+03\n",
      "Head worker occupation: 1.5%\n",
      "Progress: 15 / 40 total iterations (37.500%)\n",
      "==============================\n",
      "Hall of Fame:\n",
      "-----------------------------------------\n",
      "Complexity  Loss       Score     Equation\n",
      "1           5.765e-01  1.192e-07  0.0798819\n",
      "2           3.617e-03  5.071e+00  sin(x0)\n",
      "4           8.540e-04  7.218e-01  (0.052563727 + sin(x0))\n",
      "\n",
      "==============================\n",
      "\n",
      "Cycles per second: 7.830e+03\n",
      "Head worker occupation: 1.4%\n",
      "Progress: 16 / 40 total iterations (40.000%)\n",
      "==============================\n",
      "Hall of Fame:\n",
      "-----------------------------------------\n",
      "Complexity  Loss       Score     Equation\n",
      "1           5.765e-01  1.192e-07  0.0798819\n",
      "2           3.617e-03  5.071e+00  sin(x0)\n",
      "4           8.540e-04  7.218e-01  (0.052563727 + sin(x0))\n",
      "\n",
      "==============================\n",
      "\n",
      "Cycles per second: 8.060e+03\n",
      "Head worker occupation: 1.3%\n",
      "Progress: 17 / 40 total iterations (42.500%)\n",
      "==============================\n",
      "Hall of Fame:\n",
      "-----------------------------------------\n",
      "Complexity  Loss       Score     Equation\n",
      "1           5.765e-01  1.192e-07  0.0798819\n",
      "2           3.617e-03  5.071e+00  sin(x0)\n",
      "4           8.540e-04  7.218e-01  (0.052563727 + sin(x0))\n",
      "\n",
      "==============================\n",
      "\n",
      "Cycles per second: 1.050e+04\n",
      "Head worker occupation: 1.4%\n",
      "Progress: 22 / 40 total iterations (55.000%)\n",
      "==============================\n",
      "Hall of Fame:\n",
      "-----------------------------------------\n",
      "Complexity  Loss       Score     Equation\n",
      "1           5.765e-01  1.192e-07  0.0798819\n",
      "2           3.617e-03  5.071e+00  sin(x0)\n",
      "4           8.540e-04  7.218e-01  (0.052563727 + sin(x0))\n",
      "\n",
      "==============================\n",
      "\n",
      "Cycles per second: 1.060e+04\n",
      "Head worker occupation: 1.3%\n",
      "Progress: 23 / 40 total iterations (57.500%)\n",
      "==============================\n",
      "Hall of Fame:\n",
      "-----------------------------------------\n",
      "Complexity  Loss       Score     Equation\n",
      "1           5.765e-01  1.192e-07  0.0798819\n",
      "2           3.617e-03  5.071e+00  sin(x0)\n",
      "4           8.540e-04  7.218e-01  (0.052563727 + sin(x0))\n",
      "\n",
      "==============================\n",
      "\n",
      "Cycles per second: 1.350e+04\n",
      "Head worker occupation: 1.4%\n",
      "Progress: 28 / 40 total iterations (70.000%)\n",
      "==============================\n",
      "Hall of Fame:\n",
      "-----------------------------------------\n",
      "Complexity  Loss       Score     Equation\n",
      "1           5.765e-01  1.192e-07  0.0798819\n",
      "2           3.617e-03  5.071e+00  sin(x0)\n",
      "4           8.540e-04  7.218e-01  (0.052563727 + sin(x0))\n",
      "\n",
      "==============================\n",
      "\n",
      "Cycles per second: 1.350e+04\n",
      "Head worker occupation: 1.4%\n",
      "Progress: 29 / 40 total iterations (72.500%)\n",
      "==============================\n",
      "Hall of Fame:\n",
      "-----------------------------------------\n",
      "Complexity  Loss       Score     Equation\n",
      "1           5.765e-01  1.192e-07  0.0798819\n",
      "2           3.617e-03  5.071e+00  sin(x0)\n",
      "4           8.540e-04  7.218e-01  (0.052563727 + sin(x0))\n",
      "\n",
      "==============================\n",
      "\n",
      "Cycles per second: 1.340e+04\n",
      "Head worker occupation: 1.2%\n",
      "Progress: 30 / 40 total iterations (75.000%)\n",
      "==============================\n",
      "Hall of Fame:\n",
      "-----------------------------------------\n",
      "Complexity  Loss       Score     Equation\n",
      "1           5.765e-01  1.192e-07  0.0798819\n",
      "2           3.617e-03  5.071e+00  sin(x0)\n",
      "4           8.540e-04  7.218e-01  (0.052563727 + sin(x0))\n",
      "\n",
      "==============================\n",
      "\n",
      "Cycles per second: 1.040e+04\n",
      "Head worker occupation: 1.2%\n",
      "Progress: 32 / 40 total iterations (80.000%)\n",
      "==============================\n",
      "Hall of Fame:\n",
      "-----------------------------------------\n",
      "Complexity  Loss       Score     Equation\n",
      "1           5.765e-01  1.192e-07  0.0798819\n",
      "2           3.617e-03  5.071e+00  sin(x0)\n",
      "4           8.540e-04  7.218e-01  (0.052563727 + sin(x0))\n",
      "\n",
      "==============================\n",
      "\n",
      "Cycles per second: 1.220e+04\n",
      "Head worker occupation: 1.3%\n",
      "Progress: 36 / 40 total iterations (90.000%)\n",
      "==============================\n",
      "Hall of Fame:\n",
      "-----------------------------------------\n",
      "Complexity  Loss       Score     Equation\n",
      "1           5.765e-01  1.192e-07  0.0798819\n",
      "2           3.617e-03  5.071e+00  sin(x0)\n",
      "4           8.540e-04  7.218e-01  (0.052563727 + sin(x0))\n",
      "\n",
      "==============================\n",
      "\n",
      "Cycles per second: 1.270e+04\n",
      "Head worker occupation: 1.3%\n",
      "Progress: 38 / 40 total iterations (95.000%)\n",
      "==============================\n",
      "Hall of Fame:\n",
      "-----------------------------------------\n",
      "Complexity  Loss       Score     Equation\n",
      "1           5.765e-01  1.192e-07  0.0798819\n",
      "2           3.617e-03  5.071e+00  sin(x0)\n",
      "4           8.540e-04  7.218e-01  (0.052563727 + sin(x0))\n",
      "\n",
      "==============================\n",
      "\n",
      "Cycles per second: 1.280e+04\n",
      "Head worker occupation: 1.2%\n",
      "Progress: 39 / 40 total iterations (97.500%)\n",
      "==============================\n",
      "Hall of Fame:\n",
      "-----------------------------------------\n",
      "Complexity  Loss       Score     Equation\n",
      "1           5.765e-01  1.192e-07  0.0798819\n",
      "2           3.617e-03  5.071e+00  sin(x0)\n",
      "4           8.540e-04  7.218e-01  (0.052563727 + sin(x0))\n",
      "\n",
      "==============================\n"
     ]
    }
   ],
   "source": [
    "equations = pysr(\n",
    "    X,\n",
    "    y,\n",
    "    niterations=2,\n",
    "    binary_operators=[\"+\", \"*\"],\n",
    "    unary_operators=[\n",
    "        \"cos\",\n",
    "        \"exp\",\n",
    "        \"sin\",\n",
    "        \"inv(x) = 1/x\",\n",
    "    ],\n",
    ")\n"
   ]
  },
  {
   "cell_type": "code",
   "execution_count": 11,
   "id": "cf9ea521",
   "metadata": {},
   "outputs": [
    {
     "name": "stdout",
     "output_type": "stream",
     "text": [
      "sin(x0)\n"
     ]
    }
   ],
   "source": [
    "print(best(equations))"
   ]
  },
  {
   "cell_type": "code",
   "execution_count": 12,
   "metadata": {},
   "outputs": [],
   "source": [
    "df[\"r\"] = best_callable()(X)"
   ]
  },
  {
   "cell_type": "code",
   "execution_count": 13,
   "metadata": {},
   "outputs": [
    {
     "data": {
      "text/plain": [
       "<AxesSubplot:xlabel='x0', ylabel='Y'>"
      ]
     },
     "execution_count": 13,
     "metadata": {},
     "output_type": "execute_result"
    },
    {
     "data": {
      "image/png": "[encoded data removed]",
      "text/plain": [
       "<Figure size 432x288 with 1 Axes>"
      ]
     },
     "metadata": {
      "needs_background": "light"
     },
     "output_type": "display_data"
    }
   ],
   "source": [
    "sns.scatterplot(x=\"x0\",y=\"Y\",hue=\"type\",data=df.melt(id_vars=[\"x0\"],value_vars=[\"y\",\"r\"],var_name=\"type\",value_name=\"Y\"))"
   ]
  },
  {
   "cell_type": "code",
   "execution_count": 14,
   "metadata": {},
   "outputs": [
    {
     "name": "stdout",
     "output_type": "stream",
     "text": [
      "Running on julia -O3 C:\\Users\\GEORGE~1\\AppData\\Local\\Temp\\tmpyrwd3f6_\\runfile.jl\n",
      "Activating environment on workers.\n",
      "      From worker 4:\t  Activating environment at `C:\\miniconda3\\Lib\\site-packages\\Project.toml`\n",
      "      From worker 3:\t  Activating environment at `C:\\miniconda3\\Lib\\site-packages\\Project.toml`\n",
      "      From worker 5:\t  Activating environment at `C:\\miniconda3\\Lib\\site-packages\\Project.toml`\n",
      "      From worker 2:\t  Activating environment at `C:\\miniconda3\\Lib\\site-packages\\Project.toml`\n",
      "Importing installed module on workers...Finished!\n",
      "Testing module on workers...Finished!\n",
      "Testing entire pipeline on workers...Finished!\n",
      "Started!\n",
      "\n",
      "Cycles per second: 4.330e+02\n",
      "Head worker occupation: 1.9%\n",
      "Progress: 1 / 100 total iterations (1.000%)\n",
      "==============================\n",
      "Hall of Fame:\n",
      "-----------------------------------------\n",
      "Complexity  Loss       Score     Equation\n",
      "1           5.765e-01  1.192e-07  0.079908535\n",
      "3           1.576e-01  6.486e-01  (0.3497103 * x0)\n",
      "5           1.554e-01  6.884e-03  (0.04647951 + (0.34842828 * x0))\n",
      "10          2.782e-03  8.046e-01  (0.051279694 + ((0.87351865 * x0) + (-0.098690845 * cube(x0))))\n",
      "\n",
      "==============================\n",
      "\n",
      "Cycles per second: 9.180e+02\n",
      "Head worker occupation: 1.5%\n",
      "Progress: 2 / 100 total iterations (2.000%)\n",
      "==============================\n",
      "Hall of Fame:\n",
      "-----------------------------------------\n",
      "Complexity  Loss       Score     Equation\n",
      "1           5.765e-01  1.192e-07  0.079908535\n",
      "3           1.576e-01  6.486e-01  (0.3497103 * x0)\n",
      "5           1.554e-01  6.884e-03  (0.04647951 + (0.34842828 * x0))\n",
      "10          2.782e-03  8.046e-01  (0.051279694 + ((0.87351865 * x0) + (-0.098690845 * cube(x0))))\n",
      "\n",
      "==============================\n",
      "\n",
      "Cycles per second: 4.600e+03\n",
      "Head worker occupation: 1.6%\n",
      "Progress: 4 / 100 total iterations (4.000%)\n",
      "==============================\n",
      "Hall of Fame:\n",
      "-----------------------------------------\n",
      "Complexity  Loss       Score     Equation\n",
      "1           5.765e-01  1.192e-07  0.079908535\n",
      "3           1.576e-01  6.486e-01  (0.3497103 * x0)\n",
      "5           1.554e-01  6.884e-03  (0.04647951 + (0.34842828 * x0))\n",
      "8           5.405e-03  1.120e+00  ((0.874092 * x0) + (-0.09853267 * cube(x0)))\n",
      "10          2.782e-03  3.320e-01  (0.051279694 + ((0.87351865 * x0) + (-0.098690845 * cube(x0))))\n",
      "\n",
      "==============================\n",
      "\n",
      "Cycles per second: 4.950e+03\n",
      "Head worker occupation: 1.5%\n",
      "Progress: 5 / 100 total iterations (5.000%)\n",
      "==============================\n",
      "Hall of Fame:\n",
      "-----------------------------------------\n",
      "Complexity  Loss       Score     Equation\n",
      "1           5.765e-01  1.192e-07  0.079908535\n",
      "3           1.576e-01  6.486e-01  (0.3497103 * x0)\n",
      "5           1.554e-01  6.884e-03  (0.04647951 + (0.34842828 * x0))\n",
      "8           5.405e-03  1.120e+00  ((0.874092 * x0) + (-0.09853267 * cube(x0)))\n",
      "10          2.782e-03  3.320e-01  (0.051279694 + ((0.87351865 * x0) + (-0.098690845 * cube(x0))))\n",
      "\n",
      "==============================\n",
      "\n",
      "Cycles per second: 5.160e+03\n",
      "Head worker occupation: 1.5%\n",
      "Progress: 6 / 100 total iterations (6.000%)\n",
      "==============================\n",
      "Hall of Fame:\n",
      "-----------------------------------------\n",
      "Complexity  Loss       Score     Equation\n",
      "1           5.765e-01  1.192e-07  0.079908535\n",
      "3           1.576e-01  6.486e-01  (0.3497103 * x0)\n",
      "5           1.554e-01  6.884e-03  (0.04647951 + (0.34842828 * x0))\n",
      "6           6.054e-02  9.428e-01  (x0 + (-0.09853267 * cube(x0)))\n",
      "8           5.405e-03  1.208e+00  ((0.874092 * x0) + (-0.09853267 * cube(x0)))\n",
      "10          2.782e-03  3.320e-01  (0.051279694 + ((0.87351865 * x0) + (-0.098690845 * cube(x0))))\n",
      "\n",
      "==============================\n",
      "\n",
      "Cycles per second: 5.220e+03\n",
      "Head worker occupation: 1.5%\n",
      "Progress: 7 / 100 total iterations (7.000%)\n",
      "==============================\n",
      "Hall of Fame:\n",
      "-----------------------------------------\n",
      "Complexity  Loss       Score     Equation\n",
      "1           5.765e-01  1.192e-07  0.079908535\n",
      "3           1.576e-01  6.486e-01  (0.3497103 * x0)\n",
      "5           1.554e-01  6.884e-03  (0.04647951 + (0.34842828 * x0))\n",
      "6           1.297e-02  2.483e+00  (x0 + (-0.11894336 * cube(x0)))\n",
      "8           5.405e-03  4.378e-01  ((0.874092 * x0) + (-0.09853267 * cube(x0)))\n",
      "10          2.782e-03  3.320e-01  (0.051279694 + ((0.87351865 * x0) + (-0.098690845 * cube(x0))))\n",
      "\n",
      "==============================\n"
     ]
    }
   ],
   "source": [
    "equations = pysr(\n",
    "    X,\n",
    "    y,\n",
    "    niterations=5,\n",
    "    binary_operators=[\"+\", \"*\"],\n",
    "    unary_operators=[\n",
    "        \"square\",\n",
    "        \"cube\"\n",
    "    ],\n",
    ")\n"
   ]
  },
  {
   "cell_type": "code",
   "execution_count": 15,
   "metadata": {},
   "outputs": [
    {
     "name": "stdout",
     "output_type": "stream",
     "text": [
      "-0.11894336*x0**3 + x0\n"
     ]
    }
   ],
   "source": [
    "print(best(equations))"
   ]
  },
  {
   "cell_type": "code",
   "execution_count": 16,
   "metadata": {},
   "outputs": [],
   "source": [
    "df[\"t\"] = best_callable()(X)"
   ]
  },
  {
   "cell_type": "code",
   "execution_count": 17,
   "metadata": {},
   "outputs": [
    {
     "data": {
      "text/plain": [
       "<AxesSubplot:xlabel='x0', ylabel='Y'>"
      ]
     },
     "execution_count": 17,
     "metadata": {},
     "output_type": "execute_result"
    },
    {
     "data": {
      "image/png": "[encoded data removed]",
      "text/plain": [
       "<Figure size 432x288 with 1 Axes>"
      ]
     },
     "metadata": {
      "needs_background": "light"
     },
     "output_type": "display_data"
    }
   ],
   "source": [
    "sns.scatterplot(x=\"x0\",y=\"Y\",hue=\"type\",data=df.melt(id_vars=[\"x0\"],value_vars=[\"y\",\"r\",\"t\"],var_name=\"type\",value_name=\"Y\"))"
   ]
  },
  {
   "cell_type": "markdown",
   "metadata": {},
   "source": [
    "sin(x) = x - x^3 / 6 + ..."
   ]
  }
 ],
 "metadata": {
  "interpreter": {
   "hash": "10e1abf77ddef6b5a0d462bd0c1af8a6d69cacf984b7ff54f171d3af9bd75ca1"
  },
  "kernelspec": {
   "display_name": "Python 3.9.5 64-bit ('base': conda)",
   "name": "python3"
  },
  "language_info": {
   "codemirror_mode": {
    "name": "ipython",
    "version": 3
   },
   "file_extension": ".py",
   "mimetype": "text/x-python",
   "name": "python",
   "nbconvert_exporter": "python",
   "pygments_lexer": "ipython3",
   "version": "3.9.5"
  }
 },
 "nbformat": 4,
 "nbformat_minor": 5
}
