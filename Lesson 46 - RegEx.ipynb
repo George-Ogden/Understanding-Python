{
 "metadata": {
  "language_info": {
   "codemirror_mode": {
    "name": "ipython",
    "version": 3
   },
   "file_extension": ".py",
   "mimetype": "text/x-python",
   "name": "python",
   "nbconvert_exporter": "python",
   "pygments_lexer": "ipython3",
   "version": "3.8.8"
  },
  "orig_nbformat": 2,
  "kernelspec": {
   "name": "python388jvsc74a57bd0ecf5722fdaf1897a315d257d89d94520bfcaa453217d5becf09b39e73618b0de",
   "display_name": "Python 3.8.8 64-bit ('base': conda)"
  },
  "metadata": {
   "interpreter": {
    "hash": "ecf5722fdaf1897a315d257d89d94520bfcaa453217d5becf09b39e73618b0de"
   }
  }
 },
 "nbformat": 4,
 "nbformat_minor": 2,
 "cells": [
  {
   "cell_type": "code",
   "execution_count": 1,
   "metadata": {},
   "outputs": [],
   "source": [
    "import re"
   ]
  },
  {
   "cell_type": "code",
   "execution_count": 2,
   "metadata": {},
   "outputs": [
    {
     "output_type": "stream",
     "name": "stdout",
     "text": [
      "Test\tTest\nTest\\tTest\n"
     ]
    }
   ],
   "source": [
    "# string literals\n",
    "print(\"Test\\tTest\")\n",
    "print(r\"Test\\tTest\")"
   ]
  },
  {
   "cell_type": "code",
   "execution_count": 3,
   "metadata": {},
   "outputs": [
    {
     "output_type": "execute_result",
     "data": {
      "text/plain": [
       "['ing', 'ing']"
      ]
     },
     "metadata": {},
     "execution_count": 3
    }
   ],
   "source": [
    "# findall\n",
    "text = \"Writing code while recording a video\"\n",
    "re.findall(\"ing\",text)"
   ]
  },
  {
   "cell_type": "code",
   "execution_count": 4,
   "metadata": {},
   "outputs": [
    {
     "output_type": "execute_result",
     "data": {
      "text/plain": [
       "['Writing', 'code', 'while', 'recording', 'a', 'video']"
      ]
     },
     "metadata": {},
     "execution_count": 4
    }
   ],
   "source": [
    "re.findall(r\"[^ ]+\",text)"
   ]
  },
  {
   "cell_type": "code",
   "execution_count": 5,
   "metadata": {},
   "outputs": [
    {
     "output_type": "execute_result",
     "data": {
      "text/plain": [
       "[]"
      ]
     },
     "metadata": {},
     "execution_count": 5
    }
   ],
   "source": [
    "re.findall(r\"\\d\",text)"
   ]
  },
  {
   "cell_type": "code",
   "execution_count": 6,
   "metadata": {},
   "outputs": [
    {
     "output_type": "execute_result",
     "data": {
      "text/plain": [
       "<re.Match object; span=(7, 8), match=' '>"
      ]
     },
     "metadata": {},
     "execution_count": 6
    }
   ],
   "source": [
    "# search\n",
    "search = re.search(r\"\\s\",text)\n",
    "search"
   ]
  },
  {
   "cell_type": "code",
   "execution_count": 7,
   "metadata": {},
   "outputs": [
    {
     "output_type": "stream",
     "name": "stdout",
     "text": [
      "7 8\n"
     ]
    }
   ],
   "source": [
    "print(search.start(), search.end())"
   ]
  },
  {
   "cell_type": "code",
   "execution_count": 8,
   "metadata": {},
   "outputs": [],
   "source": [
    "re.search(r\"q\",text)"
   ]
  },
  {
   "cell_type": "code",
   "execution_count": 9,
   "metadata": {},
   "outputs": [
    {
     "output_type": "execute_result",
     "data": {
      "text/plain": [
       "['Wr', 't', 'ng c', 'd', ' wh', 'l', ' r', 'c', 'rd', 'ng ', ' v', 'd', '', '']"
      ]
     },
     "metadata": {},
     "execution_count": 9
    }
   ],
   "source": [
    "# split\n",
    "re.split(r\"[aeiou]\",text)"
   ]
  },
  {
   "cell_type": "code",
   "execution_count": 10,
   "metadata": {},
   "outputs": [
    {
     "output_type": "execute_result",
     "data": {
      "text/plain": [
       "'Wr1t1ng code wh11e record1ng a v1deo'"
      ]
     },
     "metadata": {},
     "execution_count": 10
    }
   ],
   "source": [
    "# sub\n",
    "re.sub(r\"i|l\",\"1\",text)"
   ]
  },
  {
   "cell_type": "code",
   "execution_count": 11,
   "metadata": {},
   "outputs": [
    {
     "output_type": "execute_result",
     "data": {
      "text/plain": [
       "'Wr1t1ng c0de wh11e rec0rd1ng a v1de0'"
      ]
     },
     "metadata": {},
     "execution_count": 11
    }
   ],
   "source": [
    "re.sub(r\"o\",\"0\",re.sub(r\"i|l\",\"1\",text))"
   ]
  },
  {
   "cell_type": "code",
   "execution_count": 12,
   "metadata": {},
   "outputs": [
    {
     "output_type": "execute_result",
     "data": {
      "text/plain": [
       "<re.Match object; span=(0, 7), match='Writing'>"
      ]
     },
     "metadata": {},
     "execution_count": 12
    }
   ],
   "source": [
    "# match\n",
    "re.match(r\"[A-Za-z]+\",text)"
   ]
  },
  {
   "cell_type": "code",
   "execution_count": 13,
   "metadata": {},
   "outputs": [],
   "source": [
    "re.match(r\"\\s\",text)"
   ]
  },
  {
   "cell_type": "code",
   "execution_count": 15,
   "metadata": {},
   "outputs": [],
   "source": [
    "def test(expression,*tests):\n",
    "    print(expression)\n",
    "    for test in tests:\n",
    "        print(test, re.search(expression,test))"
   ]
  },
  {
   "cell_type": "code",
   "execution_count": 16,
   "metadata": {},
   "outputs": [
    {
     "output_type": "stream",
     "name": "stdout",
     "text": [
      "^\\d*(\\.\\d+)?$\n123 <re.Match object; span=(0, 3), match='123'>\n3.14 <re.Match object; span=(0, 4), match='3.14'>\n1e5 None\nword None\n.5 <re.Match object; span=(0, 2), match='.5'>\n1.1.1 None\n"
     ]
    }
   ],
   "source": [
    "# numbers\n",
    "test(r\"^\\d*(\\.\\d+)?$\",\"123\",\"3.14\",\"1e5\",\"word\",\".5\",\"1.1.1\")"
   ]
  },
  {
   "cell_type": "code",
   "execution_count": 17,
   "metadata": {},
   "outputs": [
    {
     "output_type": "stream",
     "name": "stdout",
     "text": [
      "^([a-zA-Z0-9._%-]+@[a-zA-Z0-9.-]+\\.[a-zA-Z]{2,6})*$\npostmaster@email.com <re.Match object; span=(0, 20), match='postmaster@email.com'>\ntest12@email.co.uk <re.Match object; span=(0, 18), match='test12@email.co.uk'>\nemail@nowhere None\nemail.com None\n"
     ]
    }
   ],
   "source": [
    "# email addresses\n",
    "test(r\"^([a-zA-Z0-9._%-]+@[a-zA-Z0-9.-]+\\.[a-zA-Z]{2,6})*$\",\"postmaster@email.com\",\"test12@email.co.uk\",\"email@nowhere\",\"email.com\")"
   ]
  },
  {
   "cell_type": "code",
   "execution_count": 18,
   "metadata": {},
   "outputs": [
    {
     "output_type": "stream",
     "name": "stdout",
     "text": [
      "(https?:\\/\\/)?(www\\.)?[-a-zA-Z0-9:%._\\+~#=]{2,256}\\.[a-z]{2,6}\\b([-a-zA-Z0-9:%_\\+.~#?&//=]*)\ngoogle.com <re.Match object; span=(0, 10), match='google.com'>\nhttp://python.org <re.Match object; span=(0, 17), match='http://python.org'>\nemail@test.com <re.Match object; span=(6, 14), match='test.com'>\nhttps://test.com <re.Match object; span=(0, 16), match='https://test.com'>\ntest.co.uk <re.Match object; span=(0, 10), match='test.co.uk'>\ntext with a space None\nword None\ntwo..dots <re.Match object; span=(0, 9), match='two..dots'>\nsubdomain.domain.com <re.Match object; span=(0, 20), match='subdomain.domain.com'>\na.com None\necosia.org?search=Python <re.Match object; span=(0, 24), match='ecosia.org?search=Python'>\n"
     ]
    }
   ],
   "source": [
    "# domains\n",
    "test(r\"(https?:\\/\\/)?(www\\.)?[-a-zA-Z0-9:%._\\+~#=]{2,256}\\.[a-z]{2,6}\\b([-a-zA-Z0-9:%_\\+.~#?&//=]*)\",\"google.com\",\"http://python.org\",\"email@test.com\",\"https://test.com\",\"test.co.uk\",\"text with a space\",\"word\",\"two..dots\",\"subdomain.domain.com\",\"a.com\",\"ecosia.org?search=Python\")"
   ]
  },
  {
   "cell_type": "code",
   "execution_count": 19,
   "metadata": {},
   "outputs": [
    {
     "output_type": "stream",
     "name": "stdout",
     "text": [
      "^(([0-9]|[1-9][0-9]|1[0-9]{2}|2[0-4][0-9]|25[0-5])\\.){3}([0-9]|[1-9][0-9]|1[0-9]{2}|2[0-4][0-9]|25[0-5])$\n192.168.1.1 <re.Match object; span=(0, 11), match='192.168.1.1'>\n8.8.8.8 <re.Match object; span=(0, 7), match='8.8.8.8'>\n1.1 None\n257.256.255.254 None\nff.ff.ff.ff None\n19216811 None\n12.34.e5.67 None\n"
     ]
    }
   ],
   "source": [
    "# IPv4 addresses\n",
    "test(r\"^(([0-9]|[1-9][0-9]|1[0-9]{2}|2[0-4][0-9]|25[0-5])\\.){3}([0-9]|[1-9][0-9]|1[0-9]{2}|2[0-4][0-9]|25[0-5])$\",\"192.168.1.1\",\"8.8.8.8\",\"1.1\",\"257.256.255.254\",\"ff.ff.ff.ff\",\"19216811\",\"12.34.e5.67\")"
   ]
  },
  {
   "cell_type": "code",
   "execution_count": 20,
   "metadata": {},
   "outputs": [
    {
     "output_type": "stream",
     "name": "stdout",
     "text": [
      "((0[1-9]|[12]\\d|3[01]))-(0[1-9]|1[0-2])-[12]\\d{3}\n01-01-2001 <re.Match object; span=(0, 10), match='01-01-2001'>\n(01-01-2000) <re.Match object; span=(1, 11), match='01-01-2000'>\n1st Jan None\n28-3 None\n5-5-2005 None\n05-05-05 None\n31-04-2013 <re.Match object; span=(0, 10), match='31-04-2013'>\n30-02-2012 <re.Match object; span=(0, 10), match='30-02-2012'>\n28-02-2012 <re.Match object; span=(0, 10), match='28-02-2012'>\n29-02-2013 <re.Match object; span=(0, 10), match='29-02-2013'>\n29-02-2004 <re.Match object; span=(0, 10), match='29-02-2004'>\n01-01-3000 None\n"
     ]
    }
   ],
   "source": [
    "# date\n",
    "test(r\"((0[1-9]|[12]\\d|3[01]))-(0[1-9]|1[0-2])-[12]\\d{3}\",\"01-01-2001\",\"(01-01-2000)\",\"1st Jan\",\"28-3\",\"5-5-2005\",\"05-05-05\",\"31-04-2013\",\"30-02-2012\",\"28-02-2012\",\"29-02-2013\",\"29-02-2004\",\"01-01-3000\")"
   ]
  },
  {
   "cell_type": "code",
   "execution_count": 21,
   "metadata": {},
   "outputs": [
    {
     "output_type": "stream",
     "name": "stdout",
     "text": [
      "^(?:(?:31(\\/|-|\\.)(?:0?[13578]|1[02]))\\1|(?:(?:29|30)(\\/|-|\\.)(?:0?[1,3-9]|1[0-2])\\2))(?:(?:1[6-9]|[2-9]\\d)?\\d{2})$|^(?:29(\\/|-|\\.)0?2\\3(?:(?:(?:1[6-9]|[2-9]\\d)?(?:0[48]|[2468][048]|[13579][26])|(?:(?:16|[2468][048]|[3579][26])00))))$|^(?:0?[1-9]|1\\d|2[0-8])(\\/|-|\\.)(?:(?:0?[1-9])|(?:1[0-2]))\\4(?:(?:1[6-9]|[2-9]\\d)?\\d{2})$\n01-01-2001 <re.Match object; span=(0, 10), match='01-01-2001'>\n(01-01-2000) None\n1st Jan None\n28-3 None\n5-5-2005 <re.Match object; span=(0, 8), match='5-5-2005'>\n05-05-05 <re.Match object; span=(0, 8), match='05-05-05'>\n31-04-2013 None\n30-02-2012 None\n28-02-2012 <re.Match object; span=(0, 10), match='28-02-2012'>\n29-02-2013 None\n29-02-2004 <re.Match object; span=(0, 10), match='29-02-2004'>\n05/05/2005 <re.Match object; span=(0, 10), match='05/05/2005'>\n05.05/2005 None\n05.05.2005 <re.Match object; span=(0, 10), match='05.05.2005'>\n"
     ]
    }
   ],
   "source": [
    "test(r\"^(?:(?:31(\\/|-|\\.)(?:0?[13578]|1[02]))\\1|(?:(?:29|30)(\\/|-|\\.)(?:0?[1,3-9]|1[0-2])\\2))(?:(?:1[6-9]|[2-9]\\d)?\\d{2})$|^(?:29(\\/|-|\\.)0?2\\3(?:(?:(?:1[6-9]|[2-9]\\d)?(?:0[48]|[2468][048]|[13579][26])|(?:(?:16|[2468][048]|[3579][26])00))))$|^(?:0?[1-9]|1\\d|2[0-8])(\\/|-|\\.)(?:(?:0?[1-9])|(?:1[0-2]))\\4(?:(?:1[6-9]|[2-9]\\d)?\\d{2})$\",\"01-01-2001\",\"(01-01-2000)\",\"1st Jan\",\"28-3\",\"5-5-2005\",\"05-05-05\",\"31-04-2013\",\"30-02-2012\",\"28-02-2012\",\"29-02-2013\",\"29-02-2004\",\"05/05/2005\",\"05.05/2005\",\"05.05.2005\")"
   ]
  },
  {
   "cell_type": "code",
   "execution_count": 22,
   "metadata": {},
   "outputs": [
    {
     "output_type": "stream",
     "name": "stdout",
     "text": [
      "(?:[01]\\d|2[0123]):(?:[012345]\\d):(?:[012345]\\d)\n01:12:50 <re.Match object; span=(0, 8), match='01:12:50'>\n2:5:4 None\n13:59:12 <re.Match object; span=(0, 8), match='13:59:12'>\n14:61:01 None\n24:01:02 None\n00:01:02 <re.Match object; span=(0, 8), match='00:01:02'>\n00:01:62 None\n110111 None\nword None\n-5:06:07 None\n5-08-09 None\n"
     ]
    }
   ],
   "source": [
    "# time\n",
    "test(r\"(?:[01]\\d|2[0123]):(?:[012345]\\d):(?:[012345]\\d)\",\"01:12:50\",\"2:5:4\",\"13:59:12\",\"14:61:01\",\"24:01:02\",\"00:01:02\",\"00:01:62\",\"110111\",\"word\",\"-5:06:07\",\"5-08-09\")"
   ]
  },
  {
   "cell_type": "code",
   "execution_count": null,
   "metadata": {},
   "outputs": [],
   "source": []
  }
 ]
}