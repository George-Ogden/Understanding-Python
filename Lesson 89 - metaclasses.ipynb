{
 "cells": [
  {
   "cell_type": "markdown",
   "metadata": {},
   "source": [
    "# metaclasses"
   ]
  },
  {
   "cell_type": "markdown",
   "metadata": {},
   "source": [
    "## classes\n",
    "```\n",
    "class Square {\n",
    "    public:\n",
    "        int area() {\n",
    "            return length * length;\n",
    "        }\n",
    "        int perimeter(); {\n",
    "            return length * 4;\n",
    "        }\n",
    "        int length;\n",
    "};\n",
    "```"
   ]
  },
  {
   "cell_type": "code",
   "execution_count": 1,
   "metadata": {},
   "outputs": [],
   "source": [
    "class Square:\n",
    "    length = None\n",
    "    def area(self):\n",
    "        return self.length * self.length\n",
    "    def perimeter(self):\n",
    "        return self.length * 4"
   ]
  },
  {
   "cell_type": "markdown",
   "metadata": {},
   "source": [
    "```\n",
    "cout << Square << endl;\n",
    "```"
   ]
  },
  {
   "cell_type": "code",
   "execution_count": 2,
   "metadata": {},
   "outputs": [
    {
     "name": "stdout",
     "output_type": "stream",
     "text": [
      "<class '__main__.Square'>\n"
     ]
    }
   ],
   "source": [
    "print(Square)"
   ]
  },
  {
   "cell_type": "markdown",
   "metadata": {},
   "source": [
    "## Dynamic Classes\n",
    "Creating classes on the fly"
   ]
  },
  {
   "cell_type": "code",
   "execution_count": 3,
   "metadata": {},
   "outputs": [],
   "source": [
    "import random\n",
    "def choose_shape():\n",
    "    if random.choice((True,False)):\n",
    "        class Triangle():\n",
    "            pass\n",
    "        return Triangle\n",
    "    else:\n",
    "        class Circle():\n",
    "            pass\n",
    "        return Circle"
   ]
  },
  {
   "cell_type": "code",
   "execution_count": 4,
   "metadata": {},
   "outputs": [
    {
     "name": "stdout",
     "output_type": "stream",
     "text": [
      "<class '__main__.choose_shape.<locals>.Triangle'>\n",
      "<__main__.choose_shape.<locals>.Triangle object at 0x0000015C4FE66860>\n"
     ]
    }
   ],
   "source": [
    "choice = choose_shape()\n",
    "print(choice)\n",
    "print(choice())"
   ]
  },
  {
   "cell_type": "markdown",
   "metadata": {},
   "source": [
    "### Functions"
   ]
  },
  {
   "cell_type": "code",
   "execution_count": 5,
   "metadata": {},
   "outputs": [],
   "source": [
    "def f(): return x ** 2 - 1\n",
    "g = lambda x : (x + 1) * (x - 1)"
   ]
  },
  {
   "cell_type": "markdown",
   "metadata": {},
   "source": [
    "## `type`"
   ]
  },
  {
   "cell_type": "code",
   "execution_count": 6,
   "metadata": {},
   "outputs": [
    {
     "name": "stdout",
     "output_type": "stream",
     "text": [
      "<class 'int'>\n",
      "<class 'str'>\n",
      "<class 'type'>\n",
      "<class '__main__.Square'>\n"
     ]
    }
   ],
   "source": [
    "print(type(1))\n",
    "print(type(\"1\"))\n",
    "print(type(Square))\n",
    "print(type(Square()))"
   ]
  },
  {
   "cell_type": "markdown",
   "metadata": {},
   "source": [
    "```\n",
    "type(name, bases, attrs)\n",
    "```"
   ]
  },
  {
   "cell_type": "code",
   "execution_count": 7,
   "metadata": {},
   "outputs": [
    {
     "name": "stdout",
     "output_type": "stream",
     "text": [
      "<class '__main__.Constants'>\n",
      "<__main__.Constants object at 0x0000015C4FE652A0>\n"
     ]
    }
   ],
   "source": [
    "class Constants:\n",
    "    pi = 3.14\n",
    "    e = 2.72\n",
    "print(Constants)\n",
    "print(Constants())"
   ]
  },
  {
   "cell_type": "code",
   "execution_count": 8,
   "metadata": {},
   "outputs": [
    {
     "name": "stdout",
     "output_type": "stream",
     "text": [
      "<class '__main__.Constants'>\n",
      "<__main__.Constants object at 0x0000015C4FE656C0>\n"
     ]
    }
   ],
   "source": [
    "dynamic_class = type(\"Constants\",(),{\"e\":2.72,\"pi\":3.14})\n",
    "print(dynamic_class)\n",
    "print(dynamic_class())"
   ]
  },
  {
   "cell_type": "code",
   "execution_count": 9,
   "metadata": {},
   "outputs": [
    {
     "name": "stdout",
     "output_type": "stream",
     "text": [
      "<class '__main__.MoreConstants'>\n",
      "<__main__.MoreConstants object at 0x0000015C4FE665C0>\n"
     ]
    }
   ],
   "source": [
    "inherited_dynamic_class = type(\"MoreConstants\",(dynamic_class,),{\"phi\":1.62})\n",
    "print(inherited_dynamic_class)\n",
    "print(inherited_dynamic_class())"
   ]
  },
  {
   "cell_type": "code",
   "execution_count": 10,
   "metadata": {},
   "outputs": [
    {
     "name": "stdout",
     "output_type": "stream",
     "text": [
      "3.14\n",
      "1.62\n",
      "2.72\n"
     ]
    }
   ],
   "source": [
    "print(inherited_dynamic_class.pi)\n",
    "print(inherited_dynamic_class.phi)\n",
    "print(inherited_dynamic_class.e)"
   ]
  },
  {
   "cell_type": "markdown",
   "metadata": {},
   "source": [
    "## metaclasses\n",
    "The 'stuff' that creates classes\n",
    "```\n",
    "CreatorClass = MetaClass()\n",
    "object = CreatorClass()\n",
    "```"
   ]
  },
  {
   "cell_type": "markdown",
   "metadata": {},
   "source": [
    "### wrappers\n",
    "```\n",
    "function_creator = wrapper()\n",
    "function = function_creator()\n",
    "```"
   ]
  },
  {
   "cell_type": "code",
   "execution_count": 11,
   "metadata": {},
   "outputs": [
    {
     "name": "stdout",
     "output_type": "stream",
     "text": [
      "<class 'int'>\n",
      "<class 'str'>\n",
      "<class 'float'>\n",
      "<class 'function'>\n",
      "<class '__main__.Square'>\n"
     ]
    }
   ],
   "source": [
    "print((5).__class__)\n",
    "print(\"5\".__class__)\n",
    "print((5.0).__class__)\n",
    "print((lambda : 5).__class__)\n",
    "print(Square().__class__)"
   ]
  },
  {
   "cell_type": "code",
   "execution_count": 12,
   "metadata": {},
   "outputs": [
    {
     "name": "stdout",
     "output_type": "stream",
     "text": [
      "<class 'type'>\n",
      "<class 'type'>\n",
      "<class 'type'>\n",
      "<class 'type'>\n",
      "<class 'type'>\n"
     ]
    }
   ],
   "source": [
    "print((5).__class__.__class__)\n",
    "print(\"5\".__class__.__class__)\n",
    "print((5.0).__class__.__class__)\n",
    "print((lambda : 5).__class__.__class__)\n",
    "print(Square().__class__.__class__)"
   ]
  },
  {
   "cell_type": "code",
   "execution_count": 13,
   "metadata": {},
   "outputs": [
    {
     "data": {
      "text/plain": [
       "type"
      ]
     },
     "execution_count": 13,
     "metadata": {},
     "output_type": "execute_result"
    }
   ],
   "source": [
    "type.__class__"
   ]
  },
  {
   "cell_type": "markdown",
   "metadata": {},
   "source": [
    "## `metaclass`\n",
    "`metaclass` -> `super().metaclass` -> `type`"
   ]
  },
  {
   "cell_type": "code",
   "execution_count": 14,
   "metadata": {},
   "outputs": [],
   "source": [
    "class Creation(metaclass=type):\n",
    "    pass"
   ]
  },
  {
   "cell_type": "code",
   "execution_count": 15,
   "metadata": {},
   "outputs": [
    {
     "name": "stdout",
     "output_type": "stream",
     "text": [
      "<class '__main__.Creation'>\n",
      "<__main__.Creation object at 0x0000015C4FE64E80>\n"
     ]
    }
   ],
   "source": [
    "print(Creation)\n",
    "print(Creation())"
   ]
  },
  {
   "cell_type": "code",
   "execution_count": 16,
   "metadata": {},
   "outputs": [],
   "source": [
    "def upper_attr(future_class_name, future_class_parents, future_class_attrs):\n",
    "    uppercase_attrs = {\n",
    "        attr if attr.startswith(\"__\") else attr.upper(): v\n",
    "        for attr, v in future_class_attrs.items()\n",
    "    }\n",
    "    return type(future_class_name, future_class_parents, uppercase_attrs)"
   ]
  },
  {
   "cell_type": "code",
   "execution_count": 17,
   "metadata": {},
   "outputs": [
    {
     "data": {
      "text/plain": [
       "mappingproxy({'__module__': '__main__',\n",
       "              'ATTRIBUTE': 'attribute',\n",
       "              '__dict__': <attribute '__dict__' of 'ExampleClass' objects>,\n",
       "              '__weakref__': <attribute '__weakref__' of 'ExampleClass' objects>,\n",
       "              '__doc__': None})"
      ]
     },
     "execution_count": 17,
     "metadata": {},
     "output_type": "execute_result"
    }
   ],
   "source": [
    "class ExampleClass(metaclass=upper_attr):\n",
    "    attribute = \"attribute\"\n",
    "ExampleClass.__dict__"
   ]
  },
  {
   "cell_type": "code",
   "execution_count": 18,
   "metadata": {},
   "outputs": [],
   "source": [
    "class UpperAttrMetaclass(type):\n",
    "    def __new__(upperattr_metaclass, future_class_name,\n",
    "                future_class_parents, future_class_attrs):\n",
    "        uppercase_attrs = {\n",
    "            attr if attr.startswith(\"__\") else attr.upper(): v\n",
    "            for attr, v in future_class_attrs.items()\n",
    "        }\n",
    "        return super().__new__(upperattr_metaclass, future_class_name, future_class_parents, uppercase_attrs)"
   ]
  },
  {
   "cell_type": "code",
   "execution_count": 19,
   "metadata": {},
   "outputs": [
    {
     "data": {
      "text/plain": [
       "mappingproxy({'__module__': '__main__',\n",
       "              'ATTRIBUTE': 'attribute',\n",
       "              '__dict__': <attribute '__dict__' of 'ExampleClass' objects>,\n",
       "              '__weakref__': <attribute '__weakref__' of 'ExampleClass' objects>,\n",
       "              '__doc__': None})"
      ]
     },
     "execution_count": 19,
     "metadata": {},
     "output_type": "execute_result"
    }
   ],
   "source": [
    "class ExampleClass(metaclass=UpperAttrMetaclass):\n",
    "    attribute = \"attribute\"\n",
    "ExampleClass.__dict__"
   ]
  },
  {
   "cell_type": "markdown",
   "metadata": {},
   "source": [
    "Indeed, metaclasses are especially useful to do black magic, and therefore complicated stuff. But by themselves, they are simple:\n",
    "- intercept a class creation\n",
    "- modify the class\n",
    "- return the modified class\n"
   ]
  },
  {
   "cell_type": "markdown",
   "metadata": {},
   "source": [
    "## Why?\n",
    "> Metaclasses are deeper magic that 99% of users should never worry about it. If you wonder whether you need them, you don't (the people who actually need them know with certainty that they need them, and don't need an explanation about why).\n",
    "\n"
   ]
  },
  {
   "cell_type": "markdown",
   "metadata": {},
   "source": [
    "```\n",
    "class Person(models.Model):\n",
    "    name = models.CharField(max_length=30)\n",
    "    age = models.IntegerField()\n",
    "\n",
    "person = Person(name='bob', age='35')\n",
    "print(person.age) -> int\n",
    "```\n"
   ]
  },
  {
   "cell_type": "markdown",
   "metadata": {},
   "source": [
    "## Summary\n",
    "Classes are instances of a metaclass<br>\n",
    "Everything is an object in Python, and they are all either instance of classes or instances of metaclasses.<br>\n",
    "Except for `type`<br>\n",
    "`type` is its own metaclass"
   ]
  }
 ],
 "metadata": {
  "interpreter": {
   "hash": "10e1abf77ddef6b5a0d462bd0c1af8a6d69cacf984b7ff54f171d3af9bd75ca1"
  },
  "kernelspec": {
   "display_name": "Python 3.10.4 ('base')",
   "language": "python",
   "name": "python3"
  },
  "language_info": {
   "codemirror_mode": {
    "name": "ipython",
    "version": 3
   },
   "file_extension": ".py",
   "mimetype": "text/x-python",
   "name": "python",
   "nbconvert_exporter": "python",
   "pygments_lexer": "ipython3",
   "version": "3.10.4"
  },
  "orig_nbformat": 4
 },
 "nbformat": 4,
 "nbformat_minor": 2
}
