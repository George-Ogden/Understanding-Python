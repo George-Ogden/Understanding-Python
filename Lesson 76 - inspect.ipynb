{
 "cells": [
  {
   "cell_type": "code",
   "execution_count": 1,
   "metadata": {},
   "outputs": [],
   "source": [
    "from inspect import *\n",
    "import seaborn as sns"
   ]
  },
  {
   "cell_type": "code",
   "execution_count": 2,
   "metadata": {},
   "outputs": [
    {
     "name": "stdout",
     "output_type": "stream",
     "text": [
      "True\tFalse\tFalse\tFalse\tFalse\tFalse\tFalse\n",
      "False\tFalse\tTrue\tFalse\tTrue\tFalse\tTrue\n",
      "False\tFalse\tFalse\tFalse\tFalse\tTrue\tFalse\n",
      "False\tFalse\tFalse\tTrue\tFalse\tFalse\tFalse\n",
      "False\tFalse\tFalse\tFalse\tFalse\tFalse\tFalse\n",
      "False\tTrue\tFalse\tFalse\tFalse\tFalse\tFalse\n"
     ]
    }
   ],
   "source": [
    "items = [sns, print, int, sns.pairplot, sns.FacetGrid, input, range]\n",
    "functions = [ismodule, isclass, ismethod, isfunction, iscode, isbuiltin]\n",
    "for function in functions:\n",
    "    print(*[function(item) for item in items],sep=\"\\t\")"
   ]
  },
  {
   "cell_type": "code",
   "execution_count": 3,
   "metadata": {},
   "outputs": [
    {
     "data": {
      "text/plain": [
       "'C:\\\\miniconda3\\\\lib\\\\site-packages\\\\seaborn\\\\_decorators.py'"
      ]
     },
     "execution_count": 3,
     "metadata": {},
     "output_type": "execute_result"
    }
   ],
   "source": [
    "getfile(sns.kdeplot)"
   ]
  },
  {
   "cell_type": "code",
   "execution_count": 4,
   "metadata": {},
   "outputs": [
    {
     "data": {
      "text/plain": [
       "<module 'seaborn.distributions' from 'C:\\\\miniconda3\\\\lib\\\\site-packages\\\\seaborn\\\\distributions.py'>"
      ]
     },
     "execution_count": 4,
     "metadata": {},
     "output_type": "execute_result"
    }
   ],
   "source": [
    "getmodule(sns.kdeplot)"
   ]
  },
  {
   "cell_type": "code",
   "execution_count": 5,
   "metadata": {},
   "outputs": [
    {
     "data": {
      "text/plain": [
       "'C:\\\\miniconda3\\\\lib\\\\site-packages\\\\seaborn\\\\_decorators.py'"
      ]
     },
     "execution_count": 5,
     "metadata": {},
     "output_type": "execute_result"
    }
   ],
   "source": [
    "getsourcefile(sns.kdeplot)"
   ]
  },
  {
   "cell_type": "code",
   "execution_count": 6,
   "metadata": {},
   "outputs": [
    {
     "data": {
      "text/plain": [
       "(['@_deprecate_positional_args\\n',\n",
       "  'def kdeplot(\\n',\n",
       "  '    x=None,  # Allow positional x, because behavior will not change with reorg\\n',\n",
       "  '    *,\\n',\n",
       "  '    y=None,\\n',\n",
       "  '    shade=None,  # Note \"soft\" deprecation, explained below\\n',\n",
       "  '    vertical=False,  # Deprecated\\n',\n",
       "  '    kernel=None,  # Deprecated\\n',\n",
       "  '    bw=None,  # Deprecated\\n',\n",
       "  '    gridsize=200,  # TODO maybe depend on uni/bivariate?\\n',\n",
       "  '    cut=3, clip=None, legend=True, cumulative=False,\\n',\n",
       "  '    shade_lowest=None,  # Deprecated, controlled with levels now\\n',\n",
       "  '    cbar=False, cbar_ax=None, cbar_kws=None,\\n',\n",
       "  '    ax=None,\\n',\n",
       "  '\\n',\n",
       "  '    # New params\\n',\n",
       "  '    weights=None,  # TODO note that weights is grouped with semantics\\n',\n",
       "  '    hue=None, palette=None, hue_order=None, hue_norm=None,\\n',\n",
       "  '    multiple=\"layer\", common_norm=True, common_grid=False,\\n',\n",
       "  '    levels=10, thresh=.05,\\n',\n",
       "  '    bw_method=\"scott\", bw_adjust=1, log_scale=None,\\n',\n",
       "  '    color=None, fill=None,\\n',\n",
       "  '\\n',\n",
       "  '    # Renamed params\\n',\n",
       "  '    data=None, data2=None,\\n',\n",
       "  '\\n',\n",
       "  '    **kwargs,\\n',\n",
       "  '):\\n',\n",
       "  '\\n',\n",
       "  '    # Handle deprecation of `data2` as name for y variable\\n',\n",
       "  '    if data2 is not None:\\n',\n",
       "  '\\n',\n",
       "  '        y = data2\\n',\n",
       "  '\\n',\n",
       "  '        # If `data2` is present, we need to check for the `data` kwarg being\\n',\n",
       "  \"        # used to pass a vector for `x`. We'll reassign the vectors and warn.\\n\",\n",
       "  '        # We need this check because just passing a vector to `data` is now\\n',\n",
       "  '        # technically valid.\\n',\n",
       "  '\\n',\n",
       "  '        x_passed_as_data = (\\n',\n",
       "  '            x is None\\n',\n",
       "  '            and data is not None\\n',\n",
       "  '            and np.ndim(data) == 1\\n',\n",
       "  '        )\\n',\n",
       "  '\\n',\n",
       "  '        if x_passed_as_data:\\n',\n",
       "  '            msg = \"Use `x` and `y` rather than `data` `and `data2`\"\\n',\n",
       "  '            x = data\\n',\n",
       "  '        else:\\n',\n",
       "  '            msg = \"The `data2` param is now named `y`; please update your code\"\\n',\n",
       "  '\\n',\n",
       "  '        warnings.warn(msg, FutureWarning)\\n',\n",
       "  '\\n',\n",
       "  '    # Handle deprecation of `vertical`\\n',\n",
       "  '    if vertical:\\n',\n",
       "  '        msg = (\\n',\n",
       "  '            \"The `vertical` parameter is deprecated and will be removed in a \"\\n',\n",
       "  '            \"future version. Assign the data to the `y` variable instead.\"\\n',\n",
       "  '        )\\n',\n",
       "  '        warnings.warn(msg, FutureWarning)\\n',\n",
       "  '        x, y = y, x\\n',\n",
       "  '\\n',\n",
       "  '    # Handle deprecation of `bw`\\n',\n",
       "  '    if bw is not None:\\n',\n",
       "  '        msg = (\\n',\n",
       "  '            \"The `bw` parameter is deprecated in favor of `bw_method` and \"\\n',\n",
       "  '            f\"`bw_adjust`. Using {bw} for `bw_method`, but please \"\\n',\n",
       "  '            \"see the docs for the new parameters and update your code.\"\\n',\n",
       "  '        )\\n',\n",
       "  '        warnings.warn(msg, FutureWarning)\\n',\n",
       "  '        bw_method = bw\\n',\n",
       "  '\\n',\n",
       "  '    # Handle deprecation of `kernel`\\n',\n",
       "  '    if kernel is not None:\\n',\n",
       "  '        msg = (\\n',\n",
       "  '            \"Support for alternate kernels has been removed. \"\\n',\n",
       "  '            \"Using Gaussian kernel.\"\\n',\n",
       "  '        )\\n',\n",
       "  '        warnings.warn(msg, UserWarning)\\n',\n",
       "  '\\n',\n",
       "  '    # Handle deprecation of shade_lowest\\n',\n",
       "  '    if shade_lowest is not None:\\n',\n",
       "  '        if shade_lowest:\\n',\n",
       "  '            thresh = 0\\n',\n",
       "  '        msg = (\\n',\n",
       "  '            \"`shade_lowest` is now deprecated in favor of `thresh`. \"\\n',\n",
       "  '            f\"Setting `thresh={thresh}`, but please update your code.\"\\n',\n",
       "  '        )\\n',\n",
       "  '        warnings.warn(msg, UserWarning)\\n',\n",
       "  '\\n',\n",
       "  '    # Handle `n_levels`\\n',\n",
       "  '    # This was never in the formal API but it was processed, and appeared in an\\n',\n",
       "  '    # example. We can treat as an alias for `levels` now and deprecate later.\\n',\n",
       "  '    levels = kwargs.pop(\"n_levels\", levels)\\n',\n",
       "  '\\n',\n",
       "  '    # Handle \"soft\" deprecation of shade `shade` is not really the right\\n',\n",
       "  '    # terminology here, but unlike some of the other deprecated parameters it\\n',\n",
       "  '    # is probably very commonly used and much hard to remove. This is therefore\\n',\n",
       "  '    # going to be a longer process where, first, `fill` will be introduced and\\n',\n",
       "  '    # be used throughout the documentation. In 0.12, when kwarg-only\\n',\n",
       "  '    # enforcement hits, we can remove the shade/shade_lowest out of the\\n',\n",
       "  '    # function signature all together and pull them out of the kwargs. Then we\\n',\n",
       "  '    # can actually fire a FutureWarning, and eventually remove.\\n',\n",
       "  '    if shade is not None:\\n',\n",
       "  '        fill = shade\\n',\n",
       "  '\\n',\n",
       "  '    # - - - - - - - - - - - - - - - - - - - - - - - - - - - - - - - - - - - - #\\n',\n",
       "  '\\n',\n",
       "  '    p = _DistributionPlotter(\\n',\n",
       "  '        data=data,\\n',\n",
       "  '        variables=_DistributionPlotter.get_semantics(locals()),\\n',\n",
       "  '    )\\n',\n",
       "  '\\n',\n",
       "  '    p.map_hue(palette=palette, order=hue_order, norm=hue_norm)\\n',\n",
       "  '\\n',\n",
       "  '    if ax is None:\\n',\n",
       "  '        ax = plt.gca()\\n',\n",
       "  '\\n',\n",
       "  '    # Check for a specification that lacks x/y data and return early\\n',\n",
       "  '    if not p.has_xy_data:\\n',\n",
       "  '        return ax\\n',\n",
       "  '\\n',\n",
       "  '    # Pack the kwargs for statistics.KDE\\n',\n",
       "  '    estimate_kws = dict(\\n',\n",
       "  '        bw_method=bw_method,\\n',\n",
       "  '        bw_adjust=bw_adjust,\\n',\n",
       "  '        gridsize=gridsize,\\n',\n",
       "  '        cut=cut,\\n',\n",
       "  '        clip=clip,\\n',\n",
       "  '        cumulative=cumulative,\\n',\n",
       "  '    )\\n',\n",
       "  '\\n',\n",
       "  '    p._attach(ax, allowed_types=[\"numeric\", \"datetime\"], log_scale=log_scale)\\n',\n",
       "  '\\n',\n",
       "  '    if p.univariate:\\n',\n",
       "  '\\n',\n",
       "  '        plot_kws = kwargs.copy()\\n',\n",
       "  '        if color is not None:\\n',\n",
       "  '            plot_kws[\"color\"] = color\\n',\n",
       "  '\\n',\n",
       "  '        p.plot_univariate_density(\\n',\n",
       "  '            multiple=multiple,\\n',\n",
       "  '            common_norm=common_norm,\\n',\n",
       "  '            common_grid=common_grid,\\n',\n",
       "  '            fill=fill,\\n',\n",
       "  '            legend=legend,\\n',\n",
       "  '            estimate_kws=estimate_kws,\\n',\n",
       "  '            **plot_kws,\\n',\n",
       "  '        )\\n',\n",
       "  '\\n',\n",
       "  '    else:\\n',\n",
       "  '\\n',\n",
       "  '        p.plot_bivariate_density(\\n',\n",
       "  '            common_norm=common_norm,\\n',\n",
       "  '            fill=fill,\\n',\n",
       "  '            levels=levels,\\n',\n",
       "  '            thresh=thresh,\\n',\n",
       "  '            legend=legend,\\n',\n",
       "  '            color=color,\\n',\n",
       "  '            cbar=cbar,\\n',\n",
       "  '            cbar_ax=cbar_ax,\\n',\n",
       "  '            cbar_kws=cbar_kws,\\n',\n",
       "  '            estimate_kws=estimate_kws,\\n',\n",
       "  '            **kwargs,\\n',\n",
       "  '        )\\n',\n",
       "  '\\n',\n",
       "  '    return ax\\n'],\n",
       " 1588)"
      ]
     },
     "execution_count": 6,
     "metadata": {},
     "output_type": "execute_result"
    }
   ],
   "source": [
    "getsourcelines(sns.kdeplot)"
   ]
  },
  {
   "cell_type": "code",
   "execution_count": 7,
   "metadata": {},
   "outputs": [
    {
     "name": "stdout",
     "output_type": "stream",
     "text": [
      "@_deprecate_positional_args\n",
      "def kdeplot(\n",
      "    x=None,  # Allow positional x, because behavior will not change with reorg\n",
      "    *,\n",
      "    y=None,\n",
      "    shade=None,  # Note \"soft\" deprecation, explained below\n",
      "    vertical=False,  # Deprecated\n",
      "    kernel=None,  # Deprecated\n",
      "    bw=None,  # Deprecated\n",
      "    gridsize=200,  # TODO maybe depend on uni/bivariate?\n",
      "    cut=3, clip=None, legend=True, cumulative=False,\n",
      "    shade_lowest=None,  # Deprecated, controlled with levels now\n",
      "    cbar=False, cbar_ax=None, cbar_kws=None,\n",
      "    ax=None,\n",
      "\n",
      "    # New params\n",
      "    weights=None,  # TODO note that weights is grouped with semantics\n",
      "    hue=None, palette=None, hue_order=None, hue_norm=None,\n",
      "    multiple=\"layer\", common_norm=True, common_grid=False,\n",
      "    levels=10, thresh=.05,\n",
      "    bw_method=\"scott\", bw_adjust=1, log_scale=None,\n",
      "    color=None, fill=None,\n",
      "\n",
      "    # Renamed params\n",
      "    data=None, data2=None,\n",
      "\n",
      "    **kwargs,\n",
      "):\n",
      "\n",
      "    # Handle deprecation of `data2` as name for y variable\n",
      "    if data2 is not None:\n",
      "\n",
      "        y = data2\n",
      "\n",
      "        # If `data2` is present, we need to check for the `data` kwarg being\n",
      "        # used to pass a vector for `x`. We'll reassign the vectors and warn.\n",
      "        # We need this check because just passing a vector to `data` is now\n",
      "        # technically valid.\n",
      "\n",
      "        x_passed_as_data = (\n",
      "            x is None\n",
      "            and data is not None\n",
      "            and np.ndim(data) == 1\n",
      "        )\n",
      "\n",
      "        if x_passed_as_data:\n",
      "            msg = \"Use `x` and `y` rather than `data` `and `data2`\"\n",
      "            x = data\n",
      "        else:\n",
      "            msg = \"The `data2` param is now named `y`; please update your code\"\n",
      "\n",
      "        warnings.warn(msg, FutureWarning)\n",
      "\n",
      "    # Handle deprecation of `vertical`\n",
      "    if vertical:\n",
      "        msg = (\n",
      "            \"The `vertical` parameter is deprecated and will be removed in a \"\n",
      "            \"future version. Assign the data to the `y` variable instead.\"\n",
      "        )\n",
      "        warnings.warn(msg, FutureWarning)\n",
      "        x, y = y, x\n",
      "\n",
      "    # Handle deprecation of `bw`\n",
      "    if bw is not None:\n",
      "        msg = (\n",
      "            \"The `bw` parameter is deprecated in favor of `bw_method` and \"\n",
      "            f\"`bw_adjust`. Using {bw} for `bw_method`, but please \"\n",
      "            \"see the docs for the new parameters and update your code.\"\n",
      "        )\n",
      "        warnings.warn(msg, FutureWarning)\n",
      "        bw_method = bw\n",
      "\n",
      "    # Handle deprecation of `kernel`\n",
      "    if kernel is not None:\n",
      "        msg = (\n",
      "            \"Support for alternate kernels has been removed. \"\n",
      "            \"Using Gaussian kernel.\"\n",
      "        )\n",
      "        warnings.warn(msg, UserWarning)\n",
      "\n",
      "    # Handle deprecation of shade_lowest\n",
      "    if shade_lowest is not None:\n",
      "        if shade_lowest:\n",
      "            thresh = 0\n",
      "        msg = (\n",
      "            \"`shade_lowest` is now deprecated in favor of `thresh`. \"\n",
      "            f\"Setting `thresh={thresh}`, but please update your code.\"\n",
      "        )\n",
      "        warnings.warn(msg, UserWarning)\n",
      "\n",
      "    # Handle `n_levels`\n",
      "    # This was never in the formal API but it was processed, and appeared in an\n",
      "    # example. We can treat as an alias for `levels` now and deprecate later.\n",
      "    levels = kwargs.pop(\"n_levels\", levels)\n",
      "\n",
      "    # Handle \"soft\" deprecation of shade `shade` is not really the right\n",
      "    # terminology here, but unlike some of the other deprecated parameters it\n",
      "    # is probably very commonly used and much hard to remove. This is therefore\n",
      "    # going to be a longer process where, first, `fill` will be introduced and\n",
      "    # be used throughout the documentation. In 0.12, when kwarg-only\n",
      "    # enforcement hits, we can remove the shade/shade_lowest out of the\n",
      "    # function signature all together and pull them out of the kwargs. Then we\n",
      "    # can actually fire a FutureWarning, and eventually remove.\n",
      "    if shade is not None:\n",
      "        fill = shade\n",
      "\n",
      "    # - - - - - - - - - - - - - - - - - - - - - - - - - - - - - - - - - - - - #\n",
      "\n",
      "    p = _DistributionPlotter(\n",
      "        data=data,\n",
      "        variables=_DistributionPlotter.get_semantics(locals()),\n",
      "    )\n",
      "\n",
      "    p.map_hue(palette=palette, order=hue_order, norm=hue_norm)\n",
      "\n",
      "    if ax is None:\n",
      "        ax = plt.gca()\n",
      "\n",
      "    # Check for a specification that lacks x/y data and return early\n",
      "    if not p.has_xy_data:\n",
      "        return ax\n",
      "\n",
      "    # Pack the kwargs for statistics.KDE\n",
      "    estimate_kws = dict(\n",
      "        bw_method=bw_method,\n",
      "        bw_adjust=bw_adjust,\n",
      "        gridsize=gridsize,\n",
      "        cut=cut,\n",
      "        clip=clip,\n",
      "        cumulative=cumulative,\n",
      "    )\n",
      "\n",
      "    p._attach(ax, allowed_types=[\"numeric\", \"datetime\"], log_scale=log_scale)\n",
      "\n",
      "    if p.univariate:\n",
      "\n",
      "        plot_kws = kwargs.copy()\n",
      "        if color is not None:\n",
      "            plot_kws[\"color\"] = color\n",
      "\n",
      "        p.plot_univariate_density(\n",
      "            multiple=multiple,\n",
      "            common_norm=common_norm,\n",
      "            common_grid=common_grid,\n",
      "            fill=fill,\n",
      "            legend=legend,\n",
      "            estimate_kws=estimate_kws,\n",
      "            **plot_kws,\n",
      "        )\n",
      "\n",
      "    else:\n",
      "\n",
      "        p.plot_bivariate_density(\n",
      "            common_norm=common_norm,\n",
      "            fill=fill,\n",
      "            levels=levels,\n",
      "            thresh=thresh,\n",
      "            legend=legend,\n",
      "            color=color,\n",
      "            cbar=cbar,\n",
      "            cbar_ax=cbar_ax,\n",
      "            cbar_kws=cbar_kws,\n",
      "            estimate_kws=estimate_kws,\n",
      "            **kwargs,\n",
      "        )\n",
      "\n",
      "    return ax\n",
      "\n"
     ]
    }
   ],
   "source": [
    "print(getsource(sns.kdeplot))"
   ]
  },
  {
   "cell_type": "code",
   "execution_count": 8,
   "metadata": {},
   "outputs": [
    {
     "ename": "TypeError",
     "evalue": "<class 'range'> is a built-in class",
     "output_type": "error",
     "traceback": [
      "\u001b[1;31m---------------------------------------------------------------------------\u001b[0m",
      "\u001b[1;31mTypeError\u001b[0m                                 Traceback (most recent call last)",
      "\u001b[1;32m<ipython-input-8-19453bdd154b>\u001b[0m in \u001b[0;36m<module>\u001b[1;34m\u001b[0m\n\u001b[1;32m----> 1\u001b[1;33m \u001b[0mgetsourcefile\u001b[0m\u001b[1;33m(\u001b[0m\u001b[0mrange\u001b[0m\u001b[1;33m)\u001b[0m\u001b[1;33m\u001b[0m\u001b[1;33m\u001b[0m\u001b[0m\n\u001b[0m",
      "\u001b[1;32mC:\\miniconda3\\lib\\inspect.py\u001b[0m in \u001b[0;36mgetsourcefile\u001b[1;34m(object)\u001b[0m\n\u001b[0;32m    695\u001b[0m     \u001b[0mReturn\u001b[0m \u001b[1;32mNone\u001b[0m \u001b[1;32mif\u001b[0m \u001b[0mno\u001b[0m \u001b[0mway\u001b[0m \u001b[0mcan\u001b[0m \u001b[0mbe\u001b[0m \u001b[0midentified\u001b[0m \u001b[0mto\u001b[0m \u001b[0mget\u001b[0m \u001b[0mthe\u001b[0m \u001b[0msource\u001b[0m\u001b[1;33m.\u001b[0m\u001b[1;33m\u001b[0m\u001b[1;33m\u001b[0m\u001b[0m\n\u001b[0;32m    696\u001b[0m     \"\"\"\n\u001b[1;32m--> 697\u001b[1;33m     \u001b[0mfilename\u001b[0m \u001b[1;33m=\u001b[0m \u001b[0mgetfile\u001b[0m\u001b[1;33m(\u001b[0m\u001b[0mobject\u001b[0m\u001b[1;33m)\u001b[0m\u001b[1;33m\u001b[0m\u001b[1;33m\u001b[0m\u001b[0m\n\u001b[0m\u001b[0;32m    698\u001b[0m     \u001b[0mall_bytecode_suffixes\u001b[0m \u001b[1;33m=\u001b[0m \u001b[0mimportlib\u001b[0m\u001b[1;33m.\u001b[0m\u001b[0mmachinery\u001b[0m\u001b[1;33m.\u001b[0m\u001b[0mDEBUG_BYTECODE_SUFFIXES\u001b[0m\u001b[1;33m[\u001b[0m\u001b[1;33m:\u001b[0m\u001b[1;33m]\u001b[0m\u001b[1;33m\u001b[0m\u001b[1;33m\u001b[0m\u001b[0m\n\u001b[0;32m    699\u001b[0m     \u001b[0mall_bytecode_suffixes\u001b[0m \u001b[1;33m+=\u001b[0m \u001b[0mimportlib\u001b[0m\u001b[1;33m.\u001b[0m\u001b[0mmachinery\u001b[0m\u001b[1;33m.\u001b[0m\u001b[0mOPTIMIZED_BYTECODE_SUFFIXES\u001b[0m\u001b[1;33m[\u001b[0m\u001b[1;33m:\u001b[0m\u001b[1;33m]\u001b[0m\u001b[1;33m\u001b[0m\u001b[1;33m\u001b[0m\u001b[0m\n",
      "\u001b[1;32mC:\\miniconda3\\lib\\inspect.py\u001b[0m in \u001b[0;36mgetfile\u001b[1;34m(object)\u001b[0m\n\u001b[0;32m    664\u001b[0m             \u001b[1;32mif\u001b[0m \u001b[0mgetattr\u001b[0m\u001b[1;33m(\u001b[0m\u001b[0mmodule\u001b[0m\u001b[1;33m,\u001b[0m \u001b[1;34m'__file__'\u001b[0m\u001b[1;33m,\u001b[0m \u001b[1;32mNone\u001b[0m\u001b[1;33m)\u001b[0m\u001b[1;33m:\u001b[0m\u001b[1;33m\u001b[0m\u001b[1;33m\u001b[0m\u001b[0m\n\u001b[0;32m    665\u001b[0m                 \u001b[1;32mreturn\u001b[0m \u001b[0mmodule\u001b[0m\u001b[1;33m.\u001b[0m\u001b[0m__file__\u001b[0m\u001b[1;33m\u001b[0m\u001b[1;33m\u001b[0m\u001b[0m\n\u001b[1;32m--> 666\u001b[1;33m         \u001b[1;32mraise\u001b[0m \u001b[0mTypeError\u001b[0m\u001b[1;33m(\u001b[0m\u001b[1;34m'{!r} is a built-in class'\u001b[0m\u001b[1;33m.\u001b[0m\u001b[0mformat\u001b[0m\u001b[1;33m(\u001b[0m\u001b[0mobject\u001b[0m\u001b[1;33m)\u001b[0m\u001b[1;33m)\u001b[0m\u001b[1;33m\u001b[0m\u001b[1;33m\u001b[0m\u001b[0m\n\u001b[0m\u001b[0;32m    667\u001b[0m     \u001b[1;32mif\u001b[0m \u001b[0mismethod\u001b[0m\u001b[1;33m(\u001b[0m\u001b[0mobject\u001b[0m\u001b[1;33m)\u001b[0m\u001b[1;33m:\u001b[0m\u001b[1;33m\u001b[0m\u001b[1;33m\u001b[0m\u001b[0m\n\u001b[0;32m    668\u001b[0m         \u001b[0mobject\u001b[0m \u001b[1;33m=\u001b[0m \u001b[0mobject\u001b[0m\u001b[1;33m.\u001b[0m\u001b[0m__func__\u001b[0m\u001b[1;33m\u001b[0m\u001b[1;33m\u001b[0m\u001b[0m\n",
      "\u001b[1;31mTypeError\u001b[0m: <class 'range'> is a built-in class"
     ]
    }
   ],
   "source": [
    "getsourcefile(range)"
   ]
  },
  {
   "cell_type": "code",
   "execution_count": 9,
   "metadata": {},
   "outputs": [
    {
     "data": {
      "text/plain": [
       "'C:\\\\miniconda3\\\\lib\\\\site-packages\\\\ipykernel\\\\kernelbase.py'"
      ]
     },
     "execution_count": 9,
     "metadata": {},
     "output_type": "execute_result"
    }
   ],
   "source": [
    "getsourcefile(input)"
   ]
  },
  {
   "cell_type": "code",
   "execution_count": 10,
   "metadata": {},
   "outputs": [
    {
     "data": {
      "text/plain": [
       "{'self': <ipykernel.ipkernel.IPythonKernel at 0x15e904823d0>, 'prompt': ''}"
      ]
     },
     "execution_count": 10,
     "metadata": {},
     "output_type": "execute_result"
    }
   ],
   "source": [
    "getcallargs(input)"
   ]
  },
  {
   "cell_type": "code",
   "execution_count": 11,
   "metadata": {},
   "outputs": [
    {
     "data": {
      "text/plain": [
       "<Signature (prompt='')>"
      ]
     },
     "execution_count": 11,
     "metadata": {},
     "output_type": "execute_result"
    }
   ],
   "source": [
    "signature(input)"
   ]
  },
  {
   "cell_type": "code",
   "execution_count": 12,
   "metadata": {},
   "outputs": [
    {
     "data": {
      "text/plain": [
       "<Signature (x=None, *, y=None, shade=None, vertical=False, kernel=None, bw=None, gridsize=200, cut=3, clip=None, legend=True, cumulative=False, shade_lowest=None, cbar=False, cbar_ax=None, cbar_kws=None, ax=None, weights=None, hue=None, palette=None, hue_order=None, hue_norm=None, multiple='layer', common_norm=True, common_grid=False, levels=10, thresh=0.05, bw_method='scott', bw_adjust=1, log_scale=None, color=None, fill=None, data=None, data2=None, **kwargs)>"
      ]
     },
     "execution_count": 12,
     "metadata": {},
     "output_type": "execute_result"
    }
   ],
   "source": [
    "signature(sns.kdeplot)"
   ]
  },
  {
   "cell_type": "code",
   "execution_count": 13,
   "metadata": {},
   "outputs": [
    {
     "name": "stdout",
     "output_type": "stream",
     "text": [
      "[('__abs__', <slot wrapper '__abs__' of 'int' objects>), ('__add__', <slot wrapper '__add__' of 'int' objects>), ('__and__', <slot wrapper '__and__' of 'int' objects>), ('__bool__', <slot wrapper '__bool__' of 'int' objects>), ('__ceil__', <method '__ceil__' of 'int' objects>), ('__class__', <class 'type'>), ('__delattr__', <slot wrapper '__delattr__' of 'object' objects>), ('__dir__', <method '__dir__' of 'object' objects>), ('__divmod__', <slot wrapper '__divmod__' of 'int' objects>), ('__doc__', \"int([x]) -> integer\\nint(x, base=10) -> integer\\n\\nConvert a number or string to an integer, or return 0 if no arguments\\nare given.  If x is a number, return x.__int__().  For floating point\\nnumbers, this truncates towards zero.\\n\\nIf x is not a number or if base is given, then x must be a string,\\nbytes, or bytearray instance representing an integer literal in the\\ngiven base.  The literal can be preceded by '+' or '-' and be surrounded\\nby whitespace.  The base defaults to 10.  Valid bases are 0 and 2-36.\\nBase 0 means to interpret the base from the string as an integer literal.\\n>>> int('0b100', base=0)\\n4\"), ('__eq__', <slot wrapper '__eq__' of 'int' objects>), ('__float__', <slot wrapper '__float__' of 'int' objects>), ('__floor__', <method '__floor__' of 'int' objects>), ('__floordiv__', <slot wrapper '__floordiv__' of 'int' objects>), ('__format__', <method '__format__' of 'int' objects>), ('__ge__', <slot wrapper '__ge__' of 'int' objects>), ('__getattribute__', <slot wrapper '__getattribute__' of 'int' objects>), ('__getnewargs__', <method '__getnewargs__' of 'int' objects>), ('__gt__', <slot wrapper '__gt__' of 'int' objects>), ('__hash__', <slot wrapper '__hash__' of 'int' objects>), ('__index__', <slot wrapper '__index__' of 'int' objects>), ('__init__', <slot wrapper '__init__' of 'object' objects>), ('__init_subclass__', <built-in method __init_subclass__ of type object at 0x00007FF811CE0FD0>), ('__int__', <slot wrapper '__int__' of 'int' objects>), ('__invert__', <slot wrapper '__invert__' of 'int' objects>), ('__le__', <slot wrapper '__le__' of 'int' objects>), ('__lshift__', <slot wrapper '__lshift__' of 'int' objects>), ('__lt__', <slot wrapper '__lt__' of 'int' objects>), ('__mod__', <slot wrapper '__mod__' of 'int' objects>), ('__mul__', <slot wrapper '__mul__' of 'int' objects>), ('__ne__', <slot wrapper '__ne__' of 'int' objects>), ('__neg__', <slot wrapper '__neg__' of 'int' objects>), ('__new__', <built-in method __new__ of type object at 0x00007FF811CE0FD0>), ('__or__', <slot wrapper '__or__' of 'int' objects>), ('__pos__', <slot wrapper '__pos__' of 'int' objects>), ('__pow__', <slot wrapper '__pow__' of 'int' objects>), ('__radd__', <slot wrapper '__radd__' of 'int' objects>), ('__rand__', <slot wrapper '__rand__' of 'int' objects>), ('__rdivmod__', <slot wrapper '__rdivmod__' of 'int' objects>), ('__reduce__', <method '__reduce__' of 'object' objects>), ('__reduce_ex__', <method '__reduce_ex__' of 'object' objects>), ('__repr__', <slot wrapper '__repr__' of 'int' objects>), ('__rfloordiv__', <slot wrapper '__rfloordiv__' of 'int' objects>), ('__rlshift__', <slot wrapper '__rlshift__' of 'int' objects>), ('__rmod__', <slot wrapper '__rmod__' of 'int' objects>), ('__rmul__', <slot wrapper '__rmul__' of 'int' objects>), ('__ror__', <slot wrapper '__ror__' of 'int' objects>), ('__round__', <method '__round__' of 'int' objects>), ('__rpow__', <slot wrapper '__rpow__' of 'int' objects>), ('__rrshift__', <slot wrapper '__rrshift__' of 'int' objects>), ('__rshift__', <slot wrapper '__rshift__' of 'int' objects>), ('__rsub__', <slot wrapper '__rsub__' of 'int' objects>), ('__rtruediv__', <slot wrapper '__rtruediv__' of 'int' objects>), ('__rxor__', <slot wrapper '__rxor__' of 'int' objects>), ('__setattr__', <slot wrapper '__setattr__' of 'object' objects>), ('__sizeof__', <method '__sizeof__' of 'int' objects>), ('__str__', <slot wrapper '__str__' of 'object' objects>), ('__sub__', <slot wrapper '__sub__' of 'int' objects>), ('__subclasshook__', <built-in method __subclasshook__ of type object at 0x00007FF811CE0FD0>), ('__truediv__', <slot wrapper '__truediv__' of 'int' objects>), ('__trunc__', <method '__trunc__' of 'int' objects>), ('__xor__', <slot wrapper '__xor__' of 'int' objects>), ('as_integer_ratio', <method 'as_integer_ratio' of 'int' objects>), ('bit_length', <method 'bit_length' of 'int' objects>), ('conjugate', <method 'conjugate' of 'int' objects>), ('denominator', <attribute 'denominator' of 'int' objects>), ('from_bytes', <built-in method from_bytes of type object at 0x00007FF811CE0FD0>), ('imag', <attribute 'imag' of 'int' objects>), ('numerator', <attribute 'numerator' of 'int' objects>), ('real', <attribute 'real' of 'int' objects>), ('to_bytes', <method 'to_bytes' of 'int' objects>)]\n"
     ]
    }
   ],
   "source": [
    "print(getmembers(int))"
   ]
  },
  {
   "cell_type": "code",
   "execution_count": 14,
   "metadata": {},
   "outputs": [
    {
     "name": "stdout",
     "output_type": "stream",
     "text": [
      "[('__abs__', <slot wrapper '__abs__' of 'int' objects>), ('__add__', <slot wrapper '__add__' of 'int' objects>), ('__and__', <slot wrapper '__and__' of 'bool' objects>), ('__bool__', <slot wrapper '__bool__' of 'int' objects>), ('__ceil__', <method '__ceil__' of 'int' objects>), ('__class__', <class 'type'>), ('__delattr__', <slot wrapper '__delattr__' of 'object' objects>), ('__dir__', <method '__dir__' of 'object' objects>), ('__divmod__', <slot wrapper '__divmod__' of 'int' objects>), ('__doc__', 'bool(x) -> bool\\n\\nReturns True when the argument x is true, False otherwise.\\nThe builtins True and False are the only two instances of the class bool.\\nThe class bool is a subclass of the class int, and cannot be subclassed.'), ('__eq__', <slot wrapper '__eq__' of 'int' objects>), ('__float__', <slot wrapper '__float__' of 'int' objects>), ('__floor__', <method '__floor__' of 'int' objects>), ('__floordiv__', <slot wrapper '__floordiv__' of 'int' objects>), ('__format__', <method '__format__' of 'int' objects>), ('__ge__', <slot wrapper '__ge__' of 'int' objects>), ('__getattribute__', <slot wrapper '__getattribute__' of 'int' objects>), ('__getnewargs__', <method '__getnewargs__' of 'int' objects>), ('__gt__', <slot wrapper '__gt__' of 'int' objects>), ('__hash__', <slot wrapper '__hash__' of 'int' objects>), ('__index__', <slot wrapper '__index__' of 'int' objects>), ('__init__', <slot wrapper '__init__' of 'object' objects>), ('__init_subclass__', <built-in method __init_subclass__ of type object at 0x00007FF811CD59D0>), ('__int__', <slot wrapper '__int__' of 'int' objects>), ('__invert__', <slot wrapper '__invert__' of 'int' objects>), ('__le__', <slot wrapper '__le__' of 'int' objects>), ('__lshift__', <slot wrapper '__lshift__' of 'int' objects>), ('__lt__', <slot wrapper '__lt__' of 'int' objects>), ('__mod__', <slot wrapper '__mod__' of 'int' objects>), ('__mul__', <slot wrapper '__mul__' of 'int' objects>), ('__ne__', <slot wrapper '__ne__' of 'int' objects>), ('__neg__', <slot wrapper '__neg__' of 'int' objects>), ('__new__', <built-in method __new__ of type object at 0x00007FF811CD59D0>), ('__or__', <slot wrapper '__or__' of 'bool' objects>), ('__pos__', <slot wrapper '__pos__' of 'int' objects>), ('__pow__', <slot wrapper '__pow__' of 'int' objects>), ('__radd__', <slot wrapper '__radd__' of 'int' objects>), ('__rand__', <slot wrapper '__rand__' of 'bool' objects>), ('__rdivmod__', <slot wrapper '__rdivmod__' of 'int' objects>), ('__reduce__', <method '__reduce__' of 'object' objects>), ('__reduce_ex__', <method '__reduce_ex__' of 'object' objects>), ('__repr__', <slot wrapper '__repr__' of 'bool' objects>), ('__rfloordiv__', <slot wrapper '__rfloordiv__' of 'int' objects>), ('__rlshift__', <slot wrapper '__rlshift__' of 'int' objects>), ('__rmod__', <slot wrapper '__rmod__' of 'int' objects>), ('__rmul__', <slot wrapper '__rmul__' of 'int' objects>), ('__ror__', <slot wrapper '__ror__' of 'bool' objects>), ('__round__', <method '__round__' of 'int' objects>), ('__rpow__', <slot wrapper '__rpow__' of 'int' objects>), ('__rrshift__', <slot wrapper '__rrshift__' of 'int' objects>), ('__rshift__', <slot wrapper '__rshift__' of 'int' objects>), ('__rsub__', <slot wrapper '__rsub__' of 'int' objects>), ('__rtruediv__', <slot wrapper '__rtruediv__' of 'int' objects>), ('__rxor__', <slot wrapper '__rxor__' of 'bool' objects>), ('__setattr__', <slot wrapper '__setattr__' of 'object' objects>), ('__sizeof__', <method '__sizeof__' of 'int' objects>), ('__str__', <slot wrapper '__str__' of 'object' objects>), ('__sub__', <slot wrapper '__sub__' of 'int' objects>), ('__subclasshook__', <built-in method __subclasshook__ of type object at 0x00007FF811CD59D0>), ('__truediv__', <slot wrapper '__truediv__' of 'int' objects>), ('__trunc__', <method '__trunc__' of 'int' objects>), ('__xor__', <slot wrapper '__xor__' of 'bool' objects>), ('as_integer_ratio', <method 'as_integer_ratio' of 'int' objects>), ('bit_length', <method 'bit_length' of 'int' objects>), ('conjugate', <method 'conjugate' of 'int' objects>), ('denominator', <attribute 'denominator' of 'int' objects>), ('from_bytes', <built-in method from_bytes of type object at 0x00007FF811CD59D0>), ('imag', <attribute 'imag' of 'int' objects>), ('numerator', <attribute 'numerator' of 'int' objects>), ('real', <attribute 'real' of 'int' objects>), ('to_bytes', <method 'to_bytes' of 'int' objects>)]\n"
     ]
    }
   ],
   "source": [
    "print(getmembers(bool))"
   ]
  },
  {
   "cell_type": "code",
   "execution_count": 15,
   "metadata": {},
   "outputs": [
    {
     "name": "stdout",
     "output_type": "stream",
     "text": [
      "[('__add__', <slot wrapper '__add__' of 'str' objects>), ('__class__', <class 'type'>), ('__contains__', <slot wrapper '__contains__' of 'str' objects>), ('__delattr__', <slot wrapper '__delattr__' of 'object' objects>), ('__dir__', <method '__dir__' of 'object' objects>), ('__doc__', \"str(object='') -> str\\nstr(bytes_or_buffer[, encoding[, errors]]) -> str\\n\\nCreate a new string object from the given object. If encoding or\\nerrors is specified, then the object must expose a data buffer\\nthat will be decoded using the given encoding and error handler.\\nOtherwise, returns the result of object.__str__() (if defined)\\nor repr(object).\\nencoding defaults to sys.getdefaultencoding().\\nerrors defaults to 'strict'.\"), ('__eq__', <slot wrapper '__eq__' of 'str' objects>), ('__format__', <method '__format__' of 'str' objects>), ('__ge__', <slot wrapper '__ge__' of 'str' objects>), ('__getattribute__', <slot wrapper '__getattribute__' of 'str' objects>), ('__getitem__', <slot wrapper '__getitem__' of 'str' objects>), ('__getnewargs__', <method '__getnewargs__' of 'str' objects>), ('__gt__', <slot wrapper '__gt__' of 'str' objects>), ('__hash__', <slot wrapper '__hash__' of 'str' objects>), ('__init__', <slot wrapper '__init__' of 'object' objects>), ('__init_subclass__', <built-in method __init_subclass__ of type object at 0x00007FF811CE4140>), ('__iter__', <slot wrapper '__iter__' of 'str' objects>), ('__le__', <slot wrapper '__le__' of 'str' objects>), ('__len__', <slot wrapper '__len__' of 'str' objects>), ('__lt__', <slot wrapper '__lt__' of 'str' objects>), ('__mod__', <slot wrapper '__mod__' of 'str' objects>), ('__mul__', <slot wrapper '__mul__' of 'str' objects>), ('__ne__', <slot wrapper '__ne__' of 'str' objects>), ('__new__', <built-in method __new__ of type object at 0x00007FF811CE4140>), ('__reduce__', <method '__reduce__' of 'object' objects>), ('__reduce_ex__', <method '__reduce_ex__' of 'object' objects>), ('__repr__', <slot wrapper '__repr__' of 'str' objects>), ('__rmod__', <slot wrapper '__rmod__' of 'str' objects>), ('__rmul__', <slot wrapper '__rmul__' of 'str' objects>), ('__setattr__', <slot wrapper '__setattr__' of 'object' objects>), ('__sizeof__', <method '__sizeof__' of 'str' objects>), ('__str__', <slot wrapper '__str__' of 'str' objects>), ('__subclasshook__', <built-in method __subclasshook__ of type object at 0x00007FF811CE4140>), ('capitalize', <method 'capitalize' of 'str' objects>), ('casefold', <method 'casefold' of 'str' objects>), ('center', <method 'center' of 'str' objects>), ('count', <method 'count' of 'str' objects>), ('encode', <method 'encode' of 'str' objects>), ('endswith', <method 'endswith' of 'str' objects>), ('expandtabs', <method 'expandtabs' of 'str' objects>), ('find', <method 'find' of 'str' objects>), ('format', <method 'format' of 'str' objects>), ('format_map', <method 'format_map' of 'str' objects>), ('index', <method 'index' of 'str' objects>), ('isalnum', <method 'isalnum' of 'str' objects>), ('isalpha', <method 'isalpha' of 'str' objects>), ('isascii', <method 'isascii' of 'str' objects>), ('isdecimal', <method 'isdecimal' of 'str' objects>), ('isdigit', <method 'isdigit' of 'str' objects>), ('isidentifier', <method 'isidentifier' of 'str' objects>), ('islower', <method 'islower' of 'str' objects>), ('isnumeric', <method 'isnumeric' of 'str' objects>), ('isprintable', <method 'isprintable' of 'str' objects>), ('isspace', <method 'isspace' of 'str' objects>), ('istitle', <method 'istitle' of 'str' objects>), ('isupper', <method 'isupper' of 'str' objects>), ('join', <method 'join' of 'str' objects>), ('ljust', <method 'ljust' of 'str' objects>), ('lower', <method 'lower' of 'str' objects>), ('lstrip', <method 'lstrip' of 'str' objects>), ('maketrans', <built-in method maketrans of type object at 0x00007FF811CE4140>), ('partition', <method 'partition' of 'str' objects>), ('removeprefix', <method 'removeprefix' of 'str' objects>), ('removesuffix', <method 'removesuffix' of 'str' objects>), ('replace', <method 'replace' of 'str' objects>), ('rfind', <method 'rfind' of 'str' objects>), ('rindex', <method 'rindex' of 'str' objects>), ('rjust', <method 'rjust' of 'str' objects>), ('rpartition', <method 'rpartition' of 'str' objects>), ('rsplit', <method 'rsplit' of 'str' objects>), ('rstrip', <method 'rstrip' of 'str' objects>), ('split', <method 'split' of 'str' objects>), ('splitlines', <method 'splitlines' of 'str' objects>), ('startswith', <method 'startswith' of 'str' objects>), ('strip', <method 'strip' of 'str' objects>), ('swapcase', <method 'swapcase' of 'str' objects>), ('title', <method 'title' of 'str' objects>), ('translate', <method 'translate' of 'str' objects>), ('upper', <method 'upper' of 'str' objects>), ('zfill', <method 'zfill' of 'str' objects>)]\n"
     ]
    }
   ],
   "source": [
    "print(getmembers(str))"
   ]
  },
  {
   "cell_type": "code",
   "execution_count": 16,
   "metadata": {},
   "outputs": [
    {
     "name": "stdout",
     "output_type": "stream",
     "text": [
      "    def raw_input(self, prompt=''):\n",
      "        \"\"\"Forward raw_input to frontends\n",
      "\n",
      "        Raises\n",
      "        ------\n",
      "        StdinNotImplentedError if active frontend doesn't support stdin.\n",
      "        \"\"\"\n",
      "        if not self._allow_stdin:\n",
      "            raise StdinNotImplementedError(\n",
      "                \"raw_input was called, but this frontend does not support input requests.\"\n",
      "            )\n",
      "        return self._input_request(str(prompt),\n",
      "            self._parent_ident,\n",
      "            self._parent_header,\n",
      "            password=False,\n",
      "        )\n",
      "\n"
     ]
    }
   ],
   "source": [
    "print(getsource(input))"
   ]
  }
 ],
 "metadata": {
  "interpreter": {
   "hash": "10e1abf77ddef6b5a0d462bd0c1af8a6d69cacf984b7ff54f171d3af9bd75ca1"
  },
  "kernelspec": {
   "display_name": "Python 3.9.7 64-bit ('base': conda)",
   "language": "python",
   "name": "python3"
  },
  "language_info": {
   "codemirror_mode": {
    "name": "ipython",
    "version": 3
   },
   "file_extension": ".py",
   "mimetype": "text/x-python",
   "name": "python",
   "nbconvert_exporter": "python",
   "pygments_lexer": "ipython3",
   "version": "3.9.7"
  },
  "orig_nbformat": 4
 },
 "nbformat": 4,
 "nbformat_minor": 2
}
