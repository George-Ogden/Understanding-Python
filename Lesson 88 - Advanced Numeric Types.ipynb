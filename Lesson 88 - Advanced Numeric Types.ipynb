{
 "cells": [
  {
   "cell_type": "code",
   "execution_count": 5,
   "metadata": {},
   "outputs": [],
   "source": [
    "# numbers\n",
    "from numbers import Number"
   ]
  },
  {
   "cell_type": "code",
   "execution_count": 6,
   "metadata": {},
   "outputs": [
    {
     "data": {
      "text/plain": [
       "True"
      ]
     },
     "execution_count": 6,
     "metadata": {},
     "output_type": "execute_result"
    }
   ],
   "source": [
    "isinstance(8,Number)"
   ]
  },
  {
   "cell_type": "code",
   "execution_count": 7,
   "metadata": {},
   "outputs": [
    {
     "data": {
      "text/plain": [
       "False"
      ]
     },
     "execution_count": 7,
     "metadata": {},
     "output_type": "execute_result"
    }
   ],
   "source": [
    "isinstance(\"8\",Number)"
   ]
  },
  {
   "cell_type": "code",
   "execution_count": 8,
   "metadata": {},
   "outputs": [
    {
     "data": {
      "text/plain": [
       "True"
      ]
     },
     "execution_count": 8,
     "metadata": {},
     "output_type": "execute_result"
    }
   ],
   "source": [
    "isinstance(8.0,Number)"
   ]
  },
  {
   "cell_type": "code",
   "execution_count": 9,
   "metadata": {},
   "outputs": [],
   "source": [
    "# int"
   ]
  },
  {
   "cell_type": "code",
   "execution_count": 10,
   "metadata": {},
   "outputs": [
    {
     "name": "stdout",
     "output_type": "stream",
     "text": [
      "x = 7, y = 3\n",
      "x + y = 10\n",
      "x - y = 4\n",
      "x * y = 21\n",
      "x / y = 2.3333333333333335\n",
      "x // y = 2\n",
      "x % y = 1\n",
      "x ** y = 343\n",
      "\n",
      "x | y = 7\n",
      "x & y = 3\n",
      "x ^ y = 4\n",
      "x << y = 56\n",
      "x >> y = 0\n",
      "~x = -8\n"
     ]
    }
   ],
   "source": [
    "x = 7\n",
    "y = 3\n",
    "print(f\"x = {x}, y = {y}\")\n",
    "for operator in (\"+\",\"-\",\"*\",\"/\",\"//\",\"%\",\"**\"):\n",
    "    print(f\"x {operator} y = {eval(f'x {operator} y')}\")\n",
    "print()\n",
    "for operator in (\"|\",\"&\",\"^\",\"<<\",\">>\"):\n",
    "    print(f\"x {operator} y = {eval(f'x {operator} y')}\")\n",
    "print(f\"~x = {~x}\")"
   ]
  },
  {
   "cell_type": "code",
   "execution_count": 11,
   "metadata": {},
   "outputs": [],
   "source": [
    "# float"
   ]
  },
  {
   "cell_type": "code",
   "execution_count": 12,
   "metadata": {},
   "outputs": [
    {
     "name": "stdout",
     "output_type": "stream",
     "text": [
      "x = 9.1, y = 3.9\n",
      "x + y = 13.0\n",
      "x - y = 5.199999999999999\n",
      "x * y = 35.489999999999995\n",
      "x / y = 2.3333333333333335\n",
      "x // y = 2.0\n",
      "x % y = 1.2999999999999998\n",
      "x ** y = 5498.717777837354\n"
     ]
    }
   ],
   "source": [
    "x = 9.1\n",
    "y = 3.9\n",
    "print(f\"x = {x}, y = {y}\")\n",
    "for operator in (\"+\",\"-\",\"*\",\"/\",\"//\",\"%\",\"**\"):\n",
    "    print(f\"x {operator} y = {eval(f'x {operator} y')}\")"
   ]
  },
  {
   "cell_type": "code",
   "execution_count": 13,
   "metadata": {},
   "outputs": [],
   "source": [
    "# Fraction\n",
    "from fractions import Fraction\n",
    "import math"
   ]
  },
  {
   "cell_type": "code",
   "execution_count": 14,
   "metadata": {},
   "outputs": [
    {
     "name": "stdout",
     "output_type": "stream",
     "text": [
      "2\n",
      "1/2\n",
      "3/4\n",
      "1/3\n"
     ]
    }
   ],
   "source": [
    "print(Fraction(2))\n",
    "print(Fraction(1,2))\n",
    "print(Fraction(.75))\n",
    "print(Fraction(\"1/3\"))"
   ]
  },
  {
   "cell_type": "code",
   "execution_count": 15,
   "metadata": {},
   "outputs": [
    {
     "data": {
      "text/plain": [
       "Fraction(884279719003555, 281474976710656)"
      ]
     },
     "execution_count": 15,
     "metadata": {},
     "output_type": "execute_result"
    }
   ],
   "source": [
    "Fraction(math.pi)"
   ]
  },
  {
   "cell_type": "code",
   "execution_count": 17,
   "metadata": {},
   "outputs": [
    {
     "data": {
      "text/plain": [
       "Fraction(311, 99)"
      ]
     },
     "execution_count": 17,
     "metadata": {},
     "output_type": "execute_result"
    }
   ],
   "source": [
    "Fraction(math.pi).limit_denominator(100)"
   ]
  },
  {
   "cell_type": "code",
   "execution_count": 18,
   "metadata": {},
   "outputs": [
    {
     "data": {
      "text/plain": [
       "Fraction(4503599627370497, 9007199254740992)"
      ]
     },
     "execution_count": 18,
     "metadata": {},
     "output_type": "execute_result"
    }
   ],
   "source": [
    "Fraction(math.cos(math.pi/3))"
   ]
  },
  {
   "cell_type": "code",
   "execution_count": 19,
   "metadata": {},
   "outputs": [
    {
     "data": {
      "text/plain": [
       "Fraction(1, 2)"
      ]
     },
     "execution_count": 19,
     "metadata": {},
     "output_type": "execute_result"
    }
   ],
   "source": [
    "Fraction(math.cos(math.pi/3)).limit_denominator()"
   ]
  },
  {
   "cell_type": "code",
   "execution_count": 20,
   "metadata": {},
   "outputs": [
    {
     "name": "stdout",
     "output_type": "stream",
     "text": [
      "x = 7/8, y = 1/3\n",
      "x + y = 29/24\n",
      "x - y = 13/24\n",
      "x * y = 7/24\n",
      "x / y = 21/8\n",
      "x // y = 2\n",
      "x % y = 5/24\n",
      "x ** y = 0.9564655913861946\n"
     ]
    }
   ],
   "source": [
    "x = Fraction(\"7/8\")\n",
    "y = Fraction(\"1/3\")\n",
    "print(f\"x = {x}, y = {y}\")\n",
    "for operator in (\"+\",\"-\",\"*\",\"/\",\"//\",\"%\",\"**\"):\n",
    "    print(f\"x {operator} y = {eval(f'x {operator} y')}\")"
   ]
  },
  {
   "cell_type": "code",
   "execution_count": 21,
   "metadata": {},
   "outputs": [],
   "source": [
    "# Decimal\n",
    "from decimal import Decimal, getcontext"
   ]
  },
  {
   "cell_type": "code",
   "execution_count": 22,
   "metadata": {},
   "outputs": [
    {
     "name": "stdout",
     "output_type": "stream",
     "text": [
      "3\n",
      "2.79999999999999982236431605997495353221893310546875\n",
      "1.58\n",
      "96000\n"
     ]
    }
   ],
   "source": [
    "print(Decimal(3))\n",
    "print(Decimal(2.8))\n",
    "print(Decimal(\"1.58\"))\n",
    "print(Decimal(9.6e4))"
   ]
  },
  {
   "cell_type": "code",
   "execution_count": 23,
   "metadata": {},
   "outputs": [
    {
     "name": "stdout",
     "output_type": "stream",
     "text": [
      "899/100\n"
     ]
    },
    {
     "ename": "TypeError",
     "evalue": "conversion from Fraction to Decimal is not supported",
     "output_type": "error",
     "traceback": [
      "\u001b[1;31m---------------------------------------------------------------------------\u001b[0m",
      "\u001b[1;31mTypeError\u001b[0m                                 Traceback (most recent call last)",
      "\u001b[1;32mc:\\Users\\George Ogden\\OneDrive\\Desktop\\Understanding Python\\Lesson 88 - Advanced Numeric Types.ipynb Cell 18'\u001b[0m in \u001b[0;36m<cell line: 2>\u001b[1;34m()\u001b[0m\n\u001b[0;32m      <a href='vscode-notebook-cell:/c%3A/Users/George%20Ogden/OneDrive/Desktop/Understanding%20Python/Lesson%2088%20-%20Advanced%20Numeric%20Types.ipynb#ch0000017?line=0'>1</a>\u001b[0m \u001b[39mprint\u001b[39m(Fraction(Decimal(\u001b[39m\"\u001b[39m\u001b[39m8.99\u001b[39m\u001b[39m\"\u001b[39m)))\n\u001b[1;32m----> <a href='vscode-notebook-cell:/c%3A/Users/George%20Ogden/OneDrive/Desktop/Understanding%20Python/Lesson%2088%20-%20Advanced%20Numeric%20Types.ipynb#ch0000017?line=1'>2</a>\u001b[0m \u001b[39mprint\u001b[39m(Decimal(Fraction(\u001b[39m4\u001b[39;49m,\u001b[39m5\u001b[39;49m)))\n",
      "\u001b[1;31mTypeError\u001b[0m: conversion from Fraction to Decimal is not supported"
     ]
    }
   ],
   "source": [
    "print(Fraction(Decimal(\"8.99\")))\n",
    "print(Decimal(Fraction(4,5)))"
   ]
  },
  {
   "cell_type": "code",
   "execution_count": 24,
   "metadata": {},
   "outputs": [
    {
     "data": {
      "text/plain": [
       "Decimal('3.141592653589793115997963468544185161590576171875')"
      ]
     },
     "execution_count": 24,
     "metadata": {},
     "output_type": "execute_result"
    }
   ],
   "source": [
    "Decimal(math.pi)"
   ]
  },
  {
   "cell_type": "code",
   "execution_count": 25,
   "metadata": {},
   "outputs": [
    {
     "data": {
      "text/plain": [
       "Context(prec=28, rounding=ROUND_HALF_EVEN, Emin=-999999, Emax=999999, capitals=1, clamp=0, flags=[FloatOperation], traps=[InvalidOperation, DivisionByZero, Overflow])"
      ]
     },
     "execution_count": 25,
     "metadata": {},
     "output_type": "execute_result"
    }
   ],
   "source": [
    "getcontext()"
   ]
  },
  {
   "cell_type": "code",
   "execution_count": 26,
   "metadata": {},
   "outputs": [
    {
     "data": {
      "text/plain": [
       "(Decimal('3.141592653589793115997963468544185161590576171875'),\n",
       " Decimal('2.718281828459045090795598298427648842334747314453125'))"
      ]
     },
     "execution_count": 26,
     "metadata": {},
     "output_type": "execute_result"
    }
   ],
   "source": [
    "getcontext().prec = 4\n",
    "Decimal(math.pi), Decimal(math.e)"
   ]
  },
  {
   "cell_type": "code",
   "execution_count": 27,
   "metadata": {},
   "outputs": [
    {
     "data": {
      "text/plain": [
       "Decimal('5.860')"
      ]
     },
     "execution_count": 27,
     "metadata": {},
     "output_type": "execute_result"
    }
   ],
   "source": [
    "Decimal(math.pi) + Decimal(math.e)"
   ]
  },
  {
   "cell_type": "code",
   "execution_count": 28,
   "metadata": {},
   "outputs": [],
   "source": [
    "getcontext().prec = 28"
   ]
  },
  {
   "cell_type": "code",
   "execution_count": 29,
   "metadata": {},
   "outputs": [
    {
     "name": "stdout",
     "output_type": "stream",
     "text": [
      "x = 8.95, y = 7.66\n",
      "x + y = 16.61\n",
      "x - y = 1.29\n",
      "x * y = 68.5570\n",
      "x / y = 1.168407310704960835509138381\n",
      "x // y = 1\n",
      "x % y = 1.29\n",
      "x ** y = 19541794.88492597203704215387\n"
     ]
    }
   ],
   "source": [
    "x = Decimal(\"8.95\")\n",
    "y = Decimal(\"7.66\")\n",
    "print(f\"x = {x}, y = {y}\")\n",
    "for operator in (\"+\",\"-\",\"*\",\"/\",\"//\",\"%\",\"**\"):\n",
    "    print(f\"x {operator} y = {eval(f'x {operator} y')}\")"
   ]
  },
  {
   "cell_type": "code",
   "execution_count": 30,
   "metadata": {},
   "outputs": [],
   "source": [
    "# complex\n",
    "import cmath"
   ]
  },
  {
   "cell_type": "code",
   "execution_count": 31,
   "metadata": {},
   "outputs": [
    {
     "name": "stdout",
     "output_type": "stream",
     "text": [
      "(7+0j)\n",
      "(1+2j)\n",
      "(-1-1j)\n",
      "8j\n",
      "(1+8j)\n",
      "(1.5-8.2j)\n",
      "(0.6666666666666666+8.9j)\n"
     ]
    }
   ],
   "source": [
    "print(complex(7))\n",
    "print(complex(1+2j))\n",
    "print(complex(\"-1-j\"))\n",
    "print(complex(8j))\n",
    "print(complex(1,8))\n",
    "print(complex(1.5,-8.2))\n",
    "print(complex(Fraction(2/3),Decimal(\"8.9\")))"
   ]
  },
  {
   "cell_type": "code",
   "execution_count": 32,
   "metadata": {},
   "outputs": [
    {
     "name": "stdout",
     "output_type": "stream",
     "text": [
      "x = (1+2j), y = (3-1j)\n",
      "x + y = (4+1j)\n",
      "x - y = (-2+3j)\n",
      "x * y = (5+5j)\n",
      "x / y = (0.1+0.7000000000000001j)\n",
      "x ** y = (-27.43638199160605+19.789310365010714j)\n"
     ]
    }
   ],
   "source": [
    "x = 1+2j\n",
    "y = 3-1j\n",
    "print(f\"x = {x}, y = {y}\")\n",
    "for operator in (\"+\",\"-\",\"*\",\"/\",\"**\"):\n",
    "    print(f\"x {operator} y = {eval(f'x {operator} y')}\")"
   ]
  },
  {
   "cell_type": "code",
   "execution_count": 33,
   "metadata": {},
   "outputs": [
    {
     "name": "stdout",
     "output_type": "stream",
     "text": [
      "0.4121184852417566\n"
     ]
    },
    {
     "ename": "TypeError",
     "evalue": "must be real number, not complex",
     "output_type": "error",
     "traceback": [
      "\u001b[1;31m---------------------------------------------------------------------------\u001b[0m",
      "\u001b[1;31mTypeError\u001b[0m                                 Traceback (most recent call last)",
      "\u001b[1;32mc:\\Users\\George Ogden\\OneDrive\\Desktop\\Understanding Python\\Lesson 88 - Advanced Numeric Types.ipynb Cell 28'\u001b[0m in \u001b[0;36m<cell line: 2>\u001b[1;34m()\u001b[0m\n\u001b[0;32m      <a href='vscode-notebook-cell:/c%3A/Users/George%20Ogden/OneDrive/Desktop/Understanding%20Python/Lesson%2088%20-%20Advanced%20Numeric%20Types.ipynb#ch0000027?line=0'>1</a>\u001b[0m \u001b[39mprint\u001b[39m(math\u001b[39m.\u001b[39msin(\u001b[39m9\u001b[39m))\n\u001b[1;32m----> <a href='vscode-notebook-cell:/c%3A/Users/George%20Ogden/OneDrive/Desktop/Understanding%20Python/Lesson%2088%20-%20Advanced%20Numeric%20Types.ipynb#ch0000027?line=1'>2</a>\u001b[0m \u001b[39mprint\u001b[39m(math\u001b[39m.\u001b[39;49msin(\u001b[39m3\u001b[39;49m\u001b[39m-\u001b[39;49m\u001b[39m4\u001b[39;49mj))\n",
      "\u001b[1;31mTypeError\u001b[0m: must be real number, not complex"
     ]
    }
   ],
   "source": [
    "print(math.sin(9))\n",
    "print(math.sin(3-4j))"
   ]
  },
  {
   "cell_type": "code",
   "execution_count": 34,
   "metadata": {},
   "outputs": [
    {
     "name": "stdout",
     "output_type": "stream",
     "text": [
      "(0.4121184852417566-0j)\n",
      "(3.853738037919377+27.016813258003936j)\n"
     ]
    }
   ],
   "source": [
    "print(cmath.sin(9))\n",
    "print(cmath.sin(3-4j))"
   ]
  },
  {
   "cell_type": "code",
   "execution_count": 35,
   "metadata": {},
   "outputs": [
    {
     "name": "stdout",
     "output_type": "stream",
     "text": [
      "(13.0, -0.3947911196997615)\n",
      "(2.0000000000000004+3.4641016151377544j)\n"
     ]
    }
   ],
   "source": [
    "print(cmath.polar(12-5j))\n",
    "print(cmath.rect(4,math.pi/3))"
   ]
  },
  {
   "cell_type": "code",
   "execution_count": 36,
   "metadata": {},
   "outputs": [],
   "source": [
    "# overview"
   ]
  },
  {
   "cell_type": "code",
   "execution_count": 37,
   "metadata": {},
   "outputs": [
    {
     "name": "stdout",
     "output_type": "stream",
     "text": [
      "True\n",
      "True\n",
      "True\n",
      "True\n",
      "True\n"
     ]
    }
   ],
   "source": [
    "for value in (8,3.5,Fraction(8,9),Decimal(\"0.99\"),6-8j):\n",
    "    print(isinstance(value,Number))"
   ]
  }
 ],
 "metadata": {
  "interpreter": {
   "hash": "10e1abf77ddef6b5a0d462bd0c1af8a6d69cacf984b7ff54f171d3af9bd75ca1"
  },
  "kernelspec": {
   "display_name": "Python 3.10.4 ('base')",
   "language": "python",
   "name": "python3"
  },
  "language_info": {
   "codemirror_mode": {
    "name": "ipython",
    "version": 3
   },
   "file_extension": ".py",
   "mimetype": "text/x-python",
   "name": "python",
   "nbconvert_exporter": "python",
   "pygments_lexer": "ipython3",
   "version": "3.10.4"
  },
  "orig_nbformat": 4
 },
 "nbformat": 4,
 "nbformat_minor": 2
}
