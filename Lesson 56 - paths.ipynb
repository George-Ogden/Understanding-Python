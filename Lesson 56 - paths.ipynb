{
 "cells": [
  {
   "cell_type": "code",
   "execution_count": 1,
   "metadata": {},
   "outputs": [
    {
     "output_type": "execute_result",
     "data": {
      "text/plain": [
       "['.git',\n",
       " '.gitignore',\n",
       " '.ipynb_checkpoints',\n",
       " '.vscode',\n",
       " 'Lesson 01 - First Steps.py',\n",
       " 'Lesson 02 - Joke Machine.py',\n",
       " 'Lesson 03 - Maths Made Easy.py',\n",
       " 'Lesson 04 - Calculator.py',\n",
       " 'Lesson 05 - Making Tea.py',\n",
       " 'Lesson 06 - Bouncer.py',\n",
       " 'Lesson 07 - Important Items.py',\n",
       " 'Lesson 08 - Chopping and Changing.py',\n",
       " 'Lesson 09 - Python Turtle.py',\n",
       " 'Lesson 10 - N-agon.py',\n",
       " 'Lesson 11 - Guess My Number.py',\n",
       " 'Lesson 12 - Randomness.py',\n",
       " 'Lesson 13 - Capital Cities.py',\n",
       " 'Lesson 14 - Complex JSON.json',\n",
       " 'Lesson 15 - Slicing and Dicing.ipynb',\n",
       " 'Lesson 16 - Using Files',\n",
       " 'Lesson 17 - OOP.py',\n",
       " 'Lesson 18 - Classy.py',\n",
       " 'Lesson 19 - Very Advanced Functions.ipynb',\n",
       " 'Lesson 20 - Stringy Bits.ipynb',\n",
       " 'Lesson 21 - Inheritance.py',\n",
       " 'Lesson 22 - Special Words.ipynb',\n",
       " 'Lesson 23 - Sets.ipynb',\n",
       " 'Lesson 24 - Advanced Imports',\n",
       " 'Lesson 25 - Making Exceptions.py',\n",
       " 'Lesson 26 - Error Handling.py',\n",
       " 'Lesson 27 - Scope.ipynb',\n",
       " 'Lesson 28 - Magic Methods.py',\n",
       " 'Lesson 29 - Adding Decoration.ipynb',\n",
       " 'Lesson 30 - Special Decorations.ipynb',\n",
       " 'Lesson 31 - Date and Time.ipynb',\n",
       " 'Lesson 32 - In a Pickle',\n",
       " 'Lesson 33 - Cool Stuff.ipynb',\n",
       " 'Lesson 34 - Bitwise Operators.ipynb',\n",
       " 'Lesson 35 - Iterators.py',\n",
       " 'Lesson 36 - NumPy.ipynb',\n",
       " 'Lesson 37 - pandas',\n",
       " 'Lesson 38 - Matplotlib Pyplot.py',\n",
       " 'Lesson 39 - Parsing Arguments.py',\n",
       " 'Lesson 40 - Gooey (GUI)',\n",
       " 'Lesson 41 - Web Scraping.py',\n",
       " 'Lesson 42 - Web Bots',\n",
       " 'Lesson 43 - SciPy.ipynb',\n",
       " 'Lesson 44 - APIs',\n",
       " 'Lesson 45 - MySQL',\n",
       " 'Lesson 46 - RegEx.ipynb',\n",
       " 'Lesson 47 - MongoDB.py',\n",
       " 'Lesson 48 - PyYAML',\n",
       " 'Lesson 49 - os',\n",
       " 'Lesson 50 - Dynamic Execution.ipynb',\n",
       " 'Lesson 51 - Bytes.ipynb',\n",
       " 'Lesson 52 - Pillow',\n",
       " 'Lesson 53 - OpenCV',\n",
       " 'Lesson 54 - Threading.py',\n",
       " 'Lesson 55 - sys.ipynb',\n",
       " 'Lesson 56 - paths.ipynb',\n",
       " 'README.md']"
      ]
     },
     "metadata": {},
     "execution_count": 1
    }
   ],
   "source": [
    "import os\n",
    "# listdir\n",
    "os.listdir()"
   ]
  },
  {
   "cell_type": "code",
   "execution_count": 2,
   "metadata": {},
   "outputs": [
    {
     "output_type": "stream",
     "name": "stdout",
     "text": [
      "False\nTrue\n"
     ]
    }
   ],
   "source": [
    "# exists\n",
    "print(os.path.exists(\"Lesson 56 - paths.py\"))\n",
    "print(os.path.exists(\"Lesson 56 - paths.ipynb\"))"
   ]
  },
  {
   "cell_type": "code",
   "execution_count": 3,
   "metadata": {},
   "outputs": [
    {
     "output_type": "execute_result",
     "data": {
      "text/plain": [
       "28672"
      ]
     },
     "metadata": {},
     "execution_count": 3
    }
   ],
   "source": [
    "# size\n",
    "os.path.getsize(\".\")"
   ]
  },
  {
   "cell_type": "code",
   "execution_count": 4,
   "metadata": {},
   "outputs": [
    {
     "output_type": "stream",
     "name": "stdout",
     "text": [
      "False\nTrue\n"
     ]
    }
   ],
   "source": [
    "# isfile\n",
    "print(os.path.isfile(\".\"))\n",
    "print(os.path.isfile(\"Lesson 56 - paths.ipynb\"))"
   ]
  },
  {
   "cell_type": "code",
   "execution_count": 5,
   "metadata": {},
   "outputs": [
    {
     "output_type": "stream",
     "name": "stdout",
     "text": [
      "True\nFalse\n"
     ]
    }
   ],
   "source": [
    "# isdir\n",
    "print(os.path.isdir(\".\"))\n",
    "print(os.path.isdir(\"Lesson 56 - paths.ipynb\"))"
   ]
  },
  {
   "cell_type": "code",
   "execution_count": 6,
   "metadata": {},
   "outputs": [
    {
     "output_type": "execute_result",
     "data": {
      "text/plain": [
       "'c:\\\\Users\\\\George Ogden\\\\OneDrive\\\\Desktop\\\\Understanding Python'"
      ]
     },
     "metadata": {},
     "execution_count": 6
    }
   ],
   "source": [
    "# abspath\n",
    "os.path.abspath(\".\")"
   ]
  },
  {
   "cell_type": "code",
   "execution_count": 7,
   "metadata": {},
   "outputs": [
    {
     "output_type": "execute_result",
     "data": {
      "text/plain": [
       "'\\\\usr'"
      ]
     },
     "metadata": {},
     "execution_count": 7
    }
   ],
   "source": [
    "# commonpath\n",
    "os.path.commonpath([\"/usr/lib\",\"/usr/local/lib\"])"
   ]
  },
  {
   "cell_type": "code",
   "execution_count": 8,
   "metadata": {},
   "outputs": [
    {
     "output_type": "execute_result",
     "data": {
      "text/plain": [
       "'/usr/l'"
      ]
     },
     "metadata": {},
     "execution_count": 8
    }
   ],
   "source": [
    "# commonprefix\n",
    "os.path.commonprefix([\"/usr/lib\",\"/usr/local/lib\"])"
   ]
  },
  {
   "cell_type": "code",
   "execution_count": 9,
   "metadata": {},
   "outputs": [
    {
     "output_type": "execute_result",
     "data": {
      "text/plain": [
       "'/usr/bin'"
      ]
     },
     "metadata": {},
     "execution_count": 9
    }
   ],
   "source": [
    "# dirname\n",
    "os.path.dirname(\"/usr/bin/bash\")"
   ]
  },
  {
   "cell_type": "code",
   "execution_count": 10,
   "metadata": {},
   "outputs": [
    {
     "output_type": "execute_result",
     "data": {
      "text/plain": [
       "('/home/george/Documents', 'file')"
      ]
     },
     "metadata": {},
     "execution_count": 10
    }
   ],
   "source": [
    "# split\n",
    "os.path.split(\"/home/george/Documents/file\")"
   ]
  },
  {
   "cell_type": "code",
   "execution_count": 11,
   "metadata": {},
   "outputs": [
    {
     "output_type": "execute_result",
     "data": {
      "text/plain": [
       "'home\\\\george\\\\Documents\\\\file'"
      ]
     },
     "metadata": {},
     "execution_count": 11
    }
   ],
   "source": [
    "# join\n",
    "os.path.join(\"home\",\"george\",\"Documents\",\"file\")"
   ]
  },
  {
   "cell_type": "code",
   "execution_count": 12,
   "metadata": {},
   "outputs": [],
   "source": [
    "# mkdir\n",
    "os.mkdir(\"test\")"
   ]
  },
  {
   "cell_type": "code",
   "execution_count": 14,
   "metadata": {},
   "outputs": [
    {
     "output_type": "error",
     "ename": "FileExistsError",
     "evalue": "[WinError 183] Cannot create a file when that file already exists: 'test/folder/data'",
     "traceback": [
      "\u001b[1;31m---------------------------------------------------------------------------\u001b[0m",
      "\u001b[1;31mFileExistsError\u001b[0m                           Traceback (most recent call last)",
      "\u001b[1;32m<ipython-input-14-7205ad4de704>\u001b[0m in \u001b[0;36m<module>\u001b[1;34m\u001b[0m\n\u001b[0;32m      1\u001b[0m \u001b[1;31m# makedirs\u001b[0m\u001b[1;33m\u001b[0m\u001b[1;33m\u001b[0m\u001b[1;33m\u001b[0m\u001b[0m\n\u001b[1;32m----> 2\u001b[1;33m \u001b[0mos\u001b[0m\u001b[1;33m.\u001b[0m\u001b[0mmakedirs\u001b[0m\u001b[1;33m(\u001b[0m\u001b[1;34m\"test/folder/data\"\u001b[0m\u001b[1;33m)\u001b[0m\u001b[1;33m\u001b[0m\u001b[1;33m\u001b[0m\u001b[0m\n\u001b[0m",
      "\u001b[1;32mC:\\miniconda3\\lib\\os.py\u001b[0m in \u001b[0;36mmakedirs\u001b[1;34m(name, mode, exist_ok)\u001b[0m\n\u001b[0;32m    223\u001b[0m             \u001b[1;32mreturn\u001b[0m\u001b[1;33m\u001b[0m\u001b[1;33m\u001b[0m\u001b[0m\n\u001b[0;32m    224\u001b[0m     \u001b[1;32mtry\u001b[0m\u001b[1;33m:\u001b[0m\u001b[1;33m\u001b[0m\u001b[1;33m\u001b[0m\u001b[0m\n\u001b[1;32m--> 225\u001b[1;33m         \u001b[0mmkdir\u001b[0m\u001b[1;33m(\u001b[0m\u001b[0mname\u001b[0m\u001b[1;33m,\u001b[0m \u001b[0mmode\u001b[0m\u001b[1;33m)\u001b[0m\u001b[1;33m\u001b[0m\u001b[1;33m\u001b[0m\u001b[0m\n\u001b[0m\u001b[0;32m    226\u001b[0m     \u001b[1;32mexcept\u001b[0m \u001b[0mOSError\u001b[0m\u001b[1;33m:\u001b[0m\u001b[1;33m\u001b[0m\u001b[1;33m\u001b[0m\u001b[0m\n\u001b[0;32m    227\u001b[0m         \u001b[1;31m# Cannot rely on checking for EEXIST, since the operating system\u001b[0m\u001b[1;33m\u001b[0m\u001b[1;33m\u001b[0m\u001b[1;33m\u001b[0m\u001b[0m\n",
      "\u001b[1;31mFileExistsError\u001b[0m: [WinError 183] Cannot create a file when that file already exists: 'test/folder/data'"
     ]
    }
   ],
   "source": [
    "# makedirs\n",
    "os.makedirs(\"test/folder/data\")"
   ]
  },
  {
   "cell_type": "code",
   "execution_count": 15,
   "metadata": {},
   "outputs": [],
   "source": [
    "os.makedirs(\"test/folder/data\",exist_ok=True)"
   ]
  },
  {
   "cell_type": "code",
   "execution_count": 16,
   "metadata": {},
   "outputs": [],
   "source": [
    "os.removedirs(\"test/folder/data\")"
   ]
  },
  {
   "cell_type": "code",
   "execution_count": 17,
   "metadata": {},
   "outputs": [
    {
     "output_type": "execute_result",
     "data": {
      "text/plain": [
       "['Lesson 01 - First Steps.py',\n",
       " 'Lesson 02 - Joke Machine.py',\n",
       " 'Lesson 03 - Maths Made Easy.py',\n",
       " 'Lesson 04 - Calculator.py',\n",
       " 'Lesson 05 - Making Tea.py',\n",
       " 'Lesson 06 - Bouncer.py',\n",
       " 'Lesson 07 - Important Items.py',\n",
       " 'Lesson 08 - Chopping and Changing.py',\n",
       " 'Lesson 09 - Python Turtle.py',\n",
       " 'Lesson 10 - N-agon.py',\n",
       " 'Lesson 11 - Guess My Number.py',\n",
       " 'Lesson 12 - Randomness.py',\n",
       " 'Lesson 13 - Capital Cities.py',\n",
       " 'Lesson 17 - OOP.py',\n",
       " 'Lesson 18 - Classy.py',\n",
       " 'Lesson 21 - Inheritance.py',\n",
       " 'Lesson 25 - Making Exceptions.py',\n",
       " 'Lesson 26 - Error Handling.py',\n",
       " 'Lesson 28 - Magic Methods.py',\n",
       " 'Lesson 35 - Iterators.py',\n",
       " 'Lesson 38 - Matplotlib Pyplot.py',\n",
       " 'Lesson 39 - Parsing Arguments.py',\n",
       " 'Lesson 41 - Web Scraping.py',\n",
       " 'Lesson 47 - MongoDB.py',\n",
       " 'Lesson 54 - Threading.py']"
      ]
     },
     "metadata": {},
     "execution_count": 17
    }
   ],
   "source": [
    "# glob\n",
    "import glob\n",
    "glob.glob(\"*.py\")"
   ]
  },
  {
   "cell_type": "code",
   "execution_count": 18,
   "metadata": {},
   "outputs": [
    {
     "output_type": "execute_result",
     "data": {
      "text/plain": [
       "['Lesson 15 - Slicing and Dicing.ipynb',\n",
       " 'Lesson 19 - Very Advanced Functions.ipynb',\n",
       " 'Lesson 20 - Stringy Bits.ipynb',\n",
       " 'Lesson 22 - Special Words.ipynb',\n",
       " 'Lesson 23 - Sets.ipynb',\n",
       " 'Lesson 27 - Scope.ipynb',\n",
       " 'Lesson 29 - Adding Decoration.ipynb',\n",
       " 'Lesson 30 - Special Decorations.ipynb',\n",
       " 'Lesson 31 - Date and Time.ipynb',\n",
       " 'Lesson 33 - Cool Stuff.ipynb',\n",
       " 'Lesson 34 - Bitwise Operators.ipynb',\n",
       " 'Lesson 36 - NumPy.ipynb',\n",
       " 'Lesson 43 - SciPy.ipynb',\n",
       " 'Lesson 46 - RegEx.ipynb',\n",
       " 'Lesson 50 - Dynamic Execution.ipynb',\n",
       " 'Lesson 51 - Bytes.ipynb',\n",
       " 'Lesson 55 - sys.ipynb',\n",
       " 'Lesson 56 - paths.ipynb']"
      ]
     },
     "metadata": {},
     "execution_count": 18
    }
   ],
   "source": [
    "glob.glob(\"*.ipynb\")"
   ]
  }
 ],
 "metadata": {
  "interpreter": {
   "hash": "10e1abf77ddef6b5a0d462bd0c1af8a6d69cacf984b7ff54f171d3af9bd75ca1"
  },
  "kernelspec": {
   "name": "python3",
   "display_name": "Python 3.9.5 64-bit ('base': conda)"
  },
  "language_info": {
   "codemirror_mode": {
    "name": "ipython",
    "version": 3
   },
   "file_extension": ".py",
   "mimetype": "text/x-python",
   "name": "python",
   "nbconvert_exporter": "python",
   "pygments_lexer": "ipython3",
   "version": "3.9.5"
  }
 },
 "nbformat": 4,
 "nbformat_minor": 2
}