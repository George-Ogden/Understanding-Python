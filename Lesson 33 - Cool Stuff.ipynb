{
 "cells": [
  {
   "cell_type": "markdown",
   "metadata": {},
   "source": [
    "# Yield"
   ]
  },
  {
   "cell_type": "code",
   "execution_count": 1,
   "metadata": {},
   "outputs": [
    {
     "output_type": "execute_result",
     "data": {
      "text/plain": [
       "[1, 1, 2, 3, 5, 8, 13, 21, 34, 55]"
      ]
     },
     "metadata": {},
     "execution_count": 1
    }
   ],
   "source": [
    "def fibonnacci(n):\n",
    "    numbers = [1,1]\n",
    "    for _ in range(n-2):\n",
    "        numbers.append(numbers[-1]+numbers[-2])\n",
    "    return numbers\n",
    "fibonnacci(10)"
   ]
  },
  {
   "cell_type": "code",
   "execution_count": 2,
   "metadata": {},
   "outputs": [
    {
     "output_type": "execute_result",
     "data": {
      "text/plain": [
       "<generator object fibonnacci at 0x000001DA94045E40>"
      ]
     },
     "metadata": {},
     "execution_count": 2
    }
   ],
   "source": [
    "# with yield\n",
    "def fibonnacci(n):\n",
    "    n1, n2 = 1, 1\n",
    "    yield n1\n",
    "    yield n2\n",
    "    for _ in range(n-2):\n",
    "        n1,n2 = n2,n1+n2\n",
    "        yield n2\n",
    "fibonnacci(10)"
   ]
  },
  {
   "cell_type": "code",
   "execution_count": 3,
   "metadata": {},
   "outputs": [
    {
     "output_type": "execute_result",
     "data": {
      "text/plain": [
       "[1, 1, 2, 3, 5, 8, 13, 21, 34, 55]"
      ]
     },
     "metadata": {},
     "execution_count": 3
    }
   ],
   "source": [
    "list(fibonnacci(10))"
   ]
  },
  {
   "cell_type": "markdown",
   "metadata": {},
   "source": [
    "# Single Line Statements"
   ]
  },
  {
   "cell_type": "markdown",
   "metadata": {},
   "source": [
    "## If"
   ]
  },
  {
   "cell_type": "code",
   "execution_count": 4,
   "metadata": {},
   "outputs": [
    {
     "output_type": "stream",
     "name": "stdout",
     "text": [
      "0\n0.5\n1\n"
     ]
    }
   ],
   "source": [
    "def step(x):\n",
    "    if x < 0:\n",
    "        return 0\n",
    "    elif x > 0:\n",
    "        return 1\n",
    "    else:\n",
    "        return 0.5\n",
    "print(step(-1))\n",
    "print(step(0))\n",
    "print(step(1))"
   ]
  },
  {
   "cell_type": "code",
   "execution_count": 5,
   "metadata": {},
   "outputs": [
    {
     "output_type": "stream",
     "name": "stdout",
     "text": [
      "0\n0.5\n1\n"
     ]
    }
   ],
   "source": [
    "def step(x):\n",
    "    if x < 0: return 0\n",
    "    elif x > 0: return 1\n",
    "    else: return 0.5\n",
    "print(step(-1))\n",
    "print(step(0))\n",
    "print(step(1))"
   ]
  },
  {
   "cell_type": "code",
   "execution_count": 6,
   "metadata": {},
   "outputs": [
    {
     "output_type": "stream",
     "name": "stdout",
     "text": [
      "0\n0.5\n1\n"
     ]
    }
   ],
   "source": [
    "def step(x):\n",
    "    return 0 if x < 0 else 1 if x > 0 else 0.5\n",
    "print(step(-1))\n",
    "print(step(0))\n",
    "print(step(1))"
   ]
  },
  {
   "cell_type": "markdown",
   "metadata": {},
   "source": [
    "## For"
   ]
  },
  {
   "cell_type": "code",
   "execution_count": 8,
   "metadata": {},
   "outputs": [
    {
     "output_type": "execute_result",
     "data": {
      "text/plain": [
       "[1, 4, 9, 16, 25, 36, 49, 64, 81, 100]"
      ]
     },
     "metadata": {},
     "execution_count": 8
    }
   ],
   "source": [
    "def squares(n):\n",
    "    for i in range(n): yield (i+1) ** 2\n",
    "list(squares(10))"
   ]
  },
  {
   "cell_type": "code",
   "execution_count": 9,
   "metadata": {},
   "outputs": [
    {
     "output_type": "execute_result",
     "data": {
      "text/plain": [
       "[1, 4, 9, 16, 25, 36, 49, 64, 81, 100]"
      ]
     },
     "metadata": {},
     "execution_count": 9
    }
   ],
   "source": [
    "def squares(n):\n",
    "    return [(i+1) ** 2 for i in range(n)]\n",
    "squares(10)"
   ]
  },
  {
   "cell_type": "code",
   "execution_count": 10,
   "metadata": {},
   "outputs": [
    {
     "output_type": "stream",
     "name": "stdout",
     "text": [
      "[[1, 1, 1, 1], [1, 1, 1, 1], [1, 1, 1, 1], [1, 1, 1, 1], [1, 1, 1, 1]]\n[[1, 2, 1, 1], [1, 2, 1, 1], [1, 2, 1, 1], [1, 2, 1, 1], [1, 2, 1, 1]]\n"
     ]
    }
   ],
   "source": [
    "l = [[1] * 4] * 5\n",
    "print(l)\n",
    "l[0][1] = 2\n",
    "print(l)"
   ]
  },
  {
   "cell_type": "code",
   "execution_count": 11,
   "metadata": {},
   "outputs": [
    {
     "output_type": "stream",
     "name": "stdout",
     "text": [
      "[[1, 1, 1, 1], [1, 1, 1, 1], [1, 1, 1, 1], [1, 1, 1, 1], [1, 1, 1, 1]]\n[[1, 2, 1, 1], [1, 1, 1, 1], [1, 1, 1, 1], [1, 1, 1, 1], [1, 1, 1, 1]]\n"
     ]
    }
   ],
   "source": [
    "l = [[1 for i in range(4)] for j in range(5)]\n",
    "print(l)\n",
    "l[0][1] = 2\n",
    "print(l)"
   ]
  },
  {
   "cell_type": "code",
   "execution_count": 12,
   "metadata": {},
   "outputs": [
    {
     "output_type": "error",
     "ename": "SyntaxError",
     "evalue": "invalid syntax (<ipython-input-12-f3a4ce5166b3>, line 1)",
     "traceback": [
      "\u001b[1;36m  File \u001b[1;32m\"<ipython-input-12-f3a4ce5166b3>\"\u001b[1;36m, line \u001b[1;32m1\u001b[0m\n\u001b[1;33m    for i in range(4): for j in range(5): print(i,j)\u001b[0m\n\u001b[1;37m                       ^\u001b[0m\n\u001b[1;31mSyntaxError\u001b[0m\u001b[1;31m:\u001b[0m invalid syntax\n"
     ]
    }
   ],
   "source": [
    "for i in range(4): for j in range(5): print(i,j)"
   ]
  },
  {
   "cell_type": "markdown",
   "metadata": {},
   "source": [
    "# Multiline statements"
   ]
  },
  {
   "cell_type": "markdown",
   "metadata": {},
   "source": [
    "## Multiline comments"
   ]
  },
  {
   "cell_type": "code",
   "execution_count": 13,
   "metadata": {},
   "outputs": [],
   "source": [
    "def step(x):\n",
    "    # x < 0 : 0\n",
    "    # x = 0 : 0.5\n",
    "    # x > 0 : 1\n",
    "    return 0 if x < 0 else 1 if x > 0 else 0.5"
   ]
  },
  {
   "cell_type": "code",
   "execution_count": 14,
   "metadata": {},
   "outputs": [
    {
     "output_type": "stream",
     "name": "stdout",
     "text": [
      "Help on function step in module __main__:\n\nstep(x)\n    x < 0 : 0\n    x = 0 : 0.5\n    x > 0 : 1\n\n"
     ]
    }
   ],
   "source": [
    "def step(x):\n",
    "    \"\"\"\n",
    "    x < 0 : 0\n",
    "    x = 0 : 0.5\n",
    "    x > 0 : 1\n",
    "    \"\"\"\n",
    "    return 0 if x < 0 else 1 if x > 0 else 0.5\n",
    "help(step)"
   ]
  },
  {
   "cell_type": "markdown",
   "metadata": {},
   "source": [
    "## Multiline Definitions"
   ]
  },
  {
   "cell_type": "code",
   "execution_count": 15,
   "metadata": {},
   "outputs": [],
   "source": [
    "board = [\n",
    "    [ 4, 3, 2, 5, 6, 2, 3, 4],\n",
    "    [ 1, 1, 1, 1, 1, 1, 1, 1],\n",
    "    [ 0, 0, 0, 0, 0, 0, 0, 0],\n",
    "    [ 0, 0, 0, 0, 0, 0, 0, 0],\n",
    "    [ 0, 0, 0, 0, 0, 0, 0, 0],\n",
    "    [ 0, 0, 0, 0, 0, 0, 0, 0],\n",
    "    [-1,-1,-1,-1,-1,-1,-1,-1],\n",
    "    [-4,-3,-2,-5,-6,-2,-3,-4],\n",
    "]"
   ]
  },
  {
   "cell_type": "code",
   "execution_count": 16,
   "metadata": {},
   "outputs": [
    {
     "output_type": "execute_result",
     "data": {
      "text/plain": [
       "'This is an incredibly long string...'"
      ]
     },
     "metadata": {},
     "execution_count": 16
    }
   ],
   "source": [
    "very_long_string = \"This is an incredibly long string...\"\n",
    "very_long_string = \"This is an incredibly \\\n",
    "long string...\"\n",
    "very_long_string"
   ]
  },
  {
   "cell_type": "code",
   "execution_count": 17,
   "metadata": {},
   "outputs": [
    {
     "output_type": "execute_result",
     "data": {
      "text/plain": [
       "55"
      ]
     },
     "metadata": {},
     "execution_count": 17
    }
   ],
   "source": [
    "large_sum = 1 + 2 + 3 + 4 + 5 + 6 + 7 + 8 + 9 + 10\n",
    "large_sum = 1 + 2 + 3 + 4 + 5\\\n",
    "     + 6 + 7 + 8 + 9 + 10\n",
    "large_sum"
   ]
  },
  {
   "cell_type": "code",
   "execution_count": null,
   "metadata": {},
   "outputs": [],
   "source": []
  }
 ],
 "metadata": {
  "kernelspec": {
   "display_name": "Python 3",
   "language": "python",
   "name": "python3"
  },
  "language_info": {
   "codemirror_mode": {
    "name": "ipython",
    "version": 3
   },
   "file_extension": ".py",
   "mimetype": "text/x-python",
   "name": "python",
   "nbconvert_exporter": "python",
   "pygments_lexer": "ipython3",
   "version": "3.8.5-final"
  }
 },
 "nbformat": 4,
 "nbformat_minor": 2
}