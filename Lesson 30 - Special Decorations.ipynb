{
 "cells": [
  {
   "cell_type": "code",
   "execution_count": 1,
   "metadata": {},
   "outputs": [
    {
     "output_type": "stream",
     "name": "stdout",
     "text": [
      "π = 3.141592653589793\ne = 2.718281828459045\nφ = 1.618033988749895\n"
     ]
    }
   ],
   "source": [
    "# static or class variables\n",
    "\n",
    "class Constants:\n",
    "    def __init__(self):\n",
    "        self.number = 0\n",
    "    \n",
    "    PI = 3.141592653589793\n",
    "    E = 2.718281828459045\n",
    "    PHI = 1.618033988749895\n",
    "\n",
    "    @property\n",
    "    def count(self):\n",
    "        self.number += 1\n",
    "        return self.number\n",
    "    \n",
    "    @classmethod\n",
    "    def print_PI(cls):\n",
    "        print(\"\\u03C0 = {}\".format(cls.PI))\n",
    "\n",
    "print(\"\\u03C0 = {}\".format(Constants.PI))\n",
    "print(\"e = {}\".format(Constants.E))\n",
    "print(\"\\u03C6 = {}\".format(Constants.PHI))\n"
   ]
  },
  {
   "cell_type": "code",
   "execution_count": 2,
   "metadata": {},
   "outputs": [
    {
     "output_type": "stream",
     "name": "stdout",
     "text": [
      "π = 3.141592653589793\ne = 2.718281828459045\nφ = 1.618033988749895\n"
     ]
    }
   ],
   "source": [
    "constant = Constants()\n",
    "\n",
    "print(\"\\u03C0 = {}\".format(constant.PI))\n",
    "print(\"e = {}\".format(constant.E))\n",
    "print(\"\\u03C6 = {}\".format(constant.PHI))"
   ]
  },
  {
   "cell_type": "code",
   "execution_count": 3,
   "metadata": {},
   "outputs": [
    {
     "output_type": "stream",
     "name": "stdout",
     "text": [
      "π = 3.14159265 (3.141592653589793)\n"
     ]
    }
   ],
   "source": [
    "constant.PI =  3.14159265\n",
    "print(\"\\u03C0 = {} ({})\".format(constant.PI,Constants.PI))"
   ]
  },
  {
   "cell_type": "code",
   "execution_count": 6,
   "metadata": {},
   "outputs": [
    {
     "output_type": "stream",
     "name": "stdout",
     "text": [
      "count = 2\ncount = 3\n"
     ]
    }
   ],
   "source": [
    "print(\"count = {}\".format(constant.number))\n",
    "print(\"count = {}\".format(constant.count))"
   ]
  },
  {
   "cell_type": "code",
   "execution_count": 7,
   "metadata": {},
   "outputs": [
    {
     "output_type": "stream",
     "name": "stdout",
     "text": [
      "π = 3.141592653589793\nπ = 3.141592653589793\n"
     ]
    }
   ],
   "source": [
    "Constants.print_PI()\n",
    "constant.print_PI()"
   ]
  },
  {
   "cell_type": "code",
   "execution_count": 8,
   "metadata": {},
   "outputs": [],
   "source": [
    "# static methods and properties\n",
    "\n",
    "class Multiplier(Constants):\n",
    "    @staticmethod\n",
    "    def double(x):\n",
    "        return 2 * x\n",
    "    \n",
    "    @staticmethod\n",
    "    def triple(x):\n",
    "        return 3 * x\n",
    "    \n",
    "    @property\n",
    "    @staticmethod\n",
    "    def TAU():\n",
    "        return Multiplier.double(Multiplier.PI)"
   ]
  },
  {
   "cell_type": "code",
   "execution_count": 9,
   "metadata": {},
   "outputs": [
    {
     "output_type": "stream",
     "name": "stdout",
     "text": [
      "4\nτ = <property object at 0x000001C80B9A39F0>\n"
     ]
    }
   ],
   "source": [
    "print(Multiplier.double(2))\n",
    "print(\"\\u03C4 = {}\".format(Multiplier.TAU))"
   ]
  },
  {
   "cell_type": "code",
   "execution_count": 10,
   "metadata": {},
   "outputs": [],
   "source": [
    "class classproperty(property):\n",
    "    def __get__(self, cls, owner):\n",
    "        return classmethod(self.fget).__get__(None, owner)()"
   ]
  },
  {
   "cell_type": "code",
   "execution_count": 11,
   "metadata": {},
   "outputs": [],
   "source": [
    "class Multiplier(Constants):\n",
    "    @staticmethod\n",
    "    def double(x):\n",
    "        return 2 * x\n",
    "    \n",
    "    @staticmethod\n",
    "    def triple(x):\n",
    "        return 3 * x\n",
    "    \n",
    "    @classproperty\n",
    "    def TAU(self):\n",
    "        return Multiplier.double(Multiplier.PI)"
   ]
  },
  {
   "cell_type": "code",
   "execution_count": 12,
   "metadata": {},
   "outputs": [
    {
     "output_type": "stream",
     "name": "stdout",
     "text": [
      "4\nτ = 6.283185307179586\n"
     ]
    }
   ],
   "source": [
    "print(Multiplier.double(2))\n",
    "print(\"\\u03C4 = {}\".format(Multiplier.TAU))"
   ]
  }
 ],
 "metadata": {
  "kernelspec": {
   "display_name": "Python 3",
   "language": "python",
   "name": "python3"
  },
  "language_info": {
   "codemirror_mode": {
    "name": "ipython",
    "version": 3
   },
   "file_extension": ".py",
   "mimetype": "text/x-python",
   "name": "python",
   "nbconvert_exporter": "python",
   "pygments_lexer": "ipython3",
   "version": "3.8.5-final"
  }
 },
 "nbformat": 4,
 "nbformat_minor": 2
}