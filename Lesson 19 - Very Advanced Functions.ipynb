{
 "cells": [
  {
   "cell_type": "markdown",
   "metadata": {},
   "source": [
    "# Args and Kwargs"
   ]
  },
  {
   "cell_type": "code",
   "execution_count": 1,
   "metadata": {},
   "outputs": [],
   "source": [
    "def function(*args,**kwargs):\n",
    "    print(\"args: \",args,\"\\nkwargs: \",kwargs)\n",
    "    for arg in args:\n",
    "        print(arg)\n",
    "    for kwarg in kwargs.keys():\n",
    "        print(kwarg,kwargs[kwarg])"
   ]
  },
  {
   "cell_type": "code",
   "execution_count": 2,
   "metadata": {},
   "outputs": [
    {
     "name": "stdout",
     "output_type": "stream",
     "text": [
      "args:  ('a', 'b', 'd') \n",
      "kwargs:  {}\n",
      "a\n",
      "b\n",
      "d\n"
     ]
    }
   ],
   "source": [
    "function(\"a\",\"b\",\"d\")"
   ]
  },
  {
   "cell_type": "code",
   "execution_count": 3,
   "metadata": {},
   "outputs": [
    {
     "name": "stdout",
     "output_type": "stream",
     "text": [
      "args:  () \n",
      "kwargs:  {'a': 1, 'b': 2, 'd': 3}\n",
      "a 1\n",
      "b 2\n",
      "d 3\n"
     ]
    }
   ],
   "source": [
    "function(a=1,b=2,d=3)"
   ]
  },
  {
   "cell_type": "code",
   "execution_count": 4,
   "metadata": {},
   "outputs": [],
   "source": [
    "def another_function(argument,default_argument=\"nothing\",*args,**kwargs):\n",
    "    print(\"argument: \",argument,\\\n",
    "          \"\\ndefault_argument: \",default_argument,\\\n",
    "          \"\\nargs: \",args,\\\n",
    "          \"\\nkwargs: \",kwargs)"
   ]
  },
  {
   "cell_type": "code",
   "execution_count": 5,
   "metadata": {},
   "outputs": [
    {
     "name": "stdout",
     "output_type": "stream",
     "text": [
      "argument:  something \n",
      "default_argument:  nothing \n",
      "args:  () \n",
      "kwargs:  {}\n"
     ]
    }
   ],
   "source": [
    "another_function(\"something\")"
   ]
  },
  {
   "cell_type": "code",
   "execution_count": 6,
   "metadata": {},
   "outputs": [
    {
     "name": "stdout",
     "output_type": "stream",
     "text": [
      "argument:  something \n",
      "default_argument:  something else \n",
      "args:  () \n",
      "kwargs:  {}\n"
     ]
    }
   ],
   "source": [
    "another_function(\"something\",\"something else\")"
   ]
  },
  {
   "cell_type": "code",
   "execution_count": 7,
   "metadata": {},
   "outputs": [
    {
     "name": "stdout",
     "output_type": "stream",
     "text": [
      "argument:  something \n",
      "default_argument:  something else \n",
      "args:  ('part of the tuple',) \n",
      "kwargs:  {'key': 'value'}\n"
     ]
    }
   ],
   "source": [
    "another_function(\"something\",\"something else\",\"part of the tuple\",key=\"value\")"
   ]
  },
  {
   "cell_type": "markdown",
   "metadata": {},
   "source": [
    "# Lambdas"
   ]
  },
  {
   "cell_type": "code",
   "execution_count": 8,
   "metadata": {},
   "outputs": [],
   "source": [
    "\"\"\"lambda arg1, arg2: return_value\"\"\"\n",
    "function1 = lambda: 1\n",
    "function2 = lambda x: 2 * x\n",
    "function3 = lambda *sequence: len(sequence)"
   ]
  },
  {
   "cell_type": "code",
   "execution_count": 9,
   "metadata": {},
   "outputs": [
    {
     "data": {
      "text/plain": [
       "1"
      ]
     },
     "execution_count": 9,
     "metadata": {},
     "output_type": "execute_result"
    }
   ],
   "source": [
    "function1()"
   ]
  },
  {
   "cell_type": "code",
   "execution_count": 10,
   "metadata": {},
   "outputs": [
    {
     "data": {
      "text/plain": [
       "4"
      ]
     },
     "execution_count": 10,
     "metadata": {},
     "output_type": "execute_result"
    }
   ],
   "source": [
    "function2(2)"
   ]
  },
  {
   "cell_type": "code",
   "execution_count": 11,
   "metadata": {},
   "outputs": [
    {
     "data": {
      "text/plain": [
       "3"
      ]
     },
     "execution_count": 11,
     "metadata": {},
     "output_type": "execute_result"
    }
   ],
   "source": [
    "function3(\"a\",\"b\",\"d\")"
   ]
  },
  {
   "cell_type": "markdown",
   "metadata": {},
   "source": [
    "# Functions as Arguments"
   ]
  },
  {
   "cell_type": "code",
   "execution_count": 12,
   "metadata": {},
   "outputs": [],
   "source": [
    "def call(function,*args):\n",
    "    return function(args)"
   ]
  },
  {
   "cell_type": "code",
   "execution_count": 13,
   "metadata": {},
   "outputs": [
    {
     "data": {
      "text/plain": [
       "7"
      ]
     },
     "execution_count": 13,
     "metadata": {},
     "output_type": "execute_result"
    }
   ],
   "source": [
    "call(sum,2,5)"
   ]
  },
  {
   "cell_type": "code",
   "execution_count": 14,
   "metadata": {},
   "outputs": [
    {
     "data": {
      "text/plain": [
       "1"
      ]
     },
     "execution_count": 14,
     "metadata": {},
     "output_type": "execute_result"
    }
   ],
   "source": [
    "call(lambda x: len(x)-1,2,5)"
   ]
  },
  {
   "cell_type": "code",
   "execution_count": null,
   "metadata": {},
   "outputs": [],
   "source": []
  }
 ],
 "metadata": {
  "kernelspec": {
   "display_name": "Python 3",
   "language": "python",
   "name": "python3"
  },
  "language_info": {
   "codemirror_mode": {
    "name": "ipython",
    "version": 3
   },
   "file_extension": ".py",
   "mimetype": "text/x-python",
   "name": "python",
   "nbconvert_exporter": "python",
   "pygments_lexer": "ipython3",
   "version": "3.8.5"
  }
 },
 "nbformat": 4,
 "nbformat_minor": 4
}
