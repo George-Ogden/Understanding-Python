{
 "metadata": {
  "language_info": {
   "codemirror_mode": {
    "name": "ipython",
    "version": 3
   },
   "file_extension": ".py",
   "mimetype": "text/x-python",
   "name": "python",
   "nbconvert_exporter": "python",
   "pygments_lexer": "ipython3",
   "version": "3.8.5-final"
  },
  "orig_nbformat": 2,
  "kernelspec": {
   "name": "python3",
   "display_name": "Python 3"
  }
 },
 "nbformat": 4,
 "nbformat_minor": 2,
 "cells": [
  {
   "cell_type": "code",
   "execution_count": 10,
   "metadata": {},
   "outputs": [
    {
     "output_type": "stream",
     "name": "stdout",
     "text": [
      "<function function at 0x00000214D2281280>\nThis is running\n"
     ]
    }
   ],
   "source": [
    "# calling functions\n",
    "\n",
    "def function():\n",
    "    return \"This is running\"\n",
    "\n",
    "print(function)\n",
    "print(function())"
   ]
  },
  {
   "cell_type": "code",
   "execution_count": 11,
   "metadata": {},
   "outputs": [
    {
     "output_type": "execute_result",
     "data": {
      "text/plain": [
       "6"
      ]
     },
     "metadata": {},
     "execution_count": 11
    }
   ],
   "source": [
    "# functions as variables\n",
    "\n",
    "def increment(number):\n",
    "    return number + 1\n",
    "\n",
    "add_one = increment\n",
    "\n",
    "add_one(5)"
   ]
  },
  {
   "cell_type": "code",
   "execution_count": 12,
   "metadata": {},
   "outputs": [
    {
     "output_type": "execute_result",
     "data": {
      "text/plain": [
       "5"
      ]
     },
     "metadata": {},
     "execution_count": 12
    }
   ],
   "source": [
    "# defining functions inside functions\n",
    "\n",
    "def increment(number):\n",
    "    def add_one(number):\n",
    "        return number + 1\n",
    "\n",
    "\n",
    "    result = add_one(number)\n",
    "    return result\n",
    "\n",
    "increment(4)"
   ]
  },
  {
   "cell_type": "code",
   "execution_count": 13,
   "metadata": {},
   "outputs": [
    {
     "output_type": "execute_result",
     "data": {
      "text/plain": [
       "4"
      ]
     },
     "metadata": {},
     "execution_count": 13
    }
   ],
   "source": [
    "# functions as arguments\n",
    "\n",
    "def increment(number):\n",
    "    return number + 1\n",
    "\n",
    "def function_call(function):\n",
    "    number_to_add = 3\n",
    "    return function(number_to_add)\n",
    "\n",
    "function_call(increment)\n"
   ]
  },
  {
   "cell_type": "code",
   "execution_count": 14,
   "metadata": {},
   "outputs": [
    {
     "output_type": "execute_result",
     "data": {
      "text/plain": [
       "'Hi'"
      ]
     },
     "metadata": {},
     "execution_count": 14
    }
   ],
   "source": [
    "# returning other functions\n",
    "\n",
    "def hello_function():\n",
    "    def say_hi():\n",
    "        return \"Hi\"\n",
    "    return say_hi\n",
    "    \n",
    "hello = hello_function()\n",
    "hello() # hello_function()()"
   ]
  },
  {
   "cell_type": "code",
   "execution_count": 15,
   "metadata": {},
   "outputs": [
    {
     "output_type": "stream",
     "name": "stdout",
     "text": [
      "Some random message\n"
     ]
    }
   ],
   "source": [
    "# nested function scope\n",
    "\n",
    "def print_message(message):\n",
    "    def message_sender():\n",
    "        print(message)\n",
    "\n",
    "    message_sender()\n",
    "\n",
    "print_message(\"Some random message\")\n"
   ]
  },
  {
   "cell_type": "code",
   "execution_count": 16,
   "metadata": {},
   "outputs": [
    {
     "output_type": "execute_result",
     "data": {
      "text/plain": [
       "'HELLO THERE'"
      ]
     },
     "metadata": {},
     "execution_count": 16
    }
   ],
   "source": [
    "# decorator function\n",
    "\n",
    "def uppercase_decorator(function):\n",
    "    def wrapper():\n",
    "        func = function()\n",
    "        make_uppercase = func.upper()\n",
    "        return make_uppercase\n",
    "\n",
    "    return wrapper\n",
    "\n",
    "def say_hi():\n",
    "    return 'hello there'\n",
    "\n",
    "decorate = uppercase_decorator(say_hi)\n",
    "decorate()"
   ]
  },
  {
   "cell_type": "code",
   "execution_count": 17,
   "metadata": {},
   "outputs": [
    {
     "output_type": "execute_result",
     "data": {
      "text/plain": [
       "'HELLO THERE'"
      ]
     },
     "metadata": {},
     "execution_count": 17
    }
   ],
   "source": [
    "# decorator function\n",
    "\n",
    "def uppercase_decorator(function):\n",
    "    def wrapper():\n",
    "        func = function()\n",
    "        make_uppercase = func.upper()\n",
    "        return make_uppercase\n",
    "\n",
    "    return wrapper\n",
    "\n",
    "@uppercase_decorator\n",
    "def say_hi():\n",
    "    return 'hello there'\n",
    "\n",
    "say_hi()"
   ]
  },
  {
   "cell_type": "code",
   "execution_count": 18,
   "metadata": {},
   "outputs": [
    {
     "output_type": "execute_result",
     "data": {
      "text/plain": [
       "['HELLO', 'THERE']"
      ]
     },
     "metadata": {},
     "execution_count": 18
    }
   ],
   "source": [
    "# multiple decorators\n",
    "\n",
    "def split_string(function):\n",
    "    def wrapper():\n",
    "        func = function()\n",
    "        splitted_string = func.split()\n",
    "        return splitted_string\n",
    "\n",
    "    return wrapper\n",
    "\n",
    "@split_string\n",
    "@uppercase_decorator\n",
    "def say_hi():\n",
    "    return 'hello there'\n",
    "\n",
    "say_hi()"
   ]
  },
  {
   "cell_type": "code",
   "execution_count": 19,
   "metadata": {},
   "outputs": [
    {
     "output_type": "stream",
     "name": "stdout",
     "text": [
      "Argument is: Python\nMy favourite language is Python\n"
     ]
    }
   ],
   "source": [
    "# decorators with arguments\n",
    "\n",
    "def decorator_with_arguments(function):\n",
    "    def wrapper_accepting_arguments(argument):\n",
    "        print(\"Argument is: {}\".format(argument))\n",
    "        function(argument)\n",
    "    return wrapper_accepting_arguments\n",
    "\n",
    "@decorator_with_arguments\n",
    "def favourite_language(language):\n",
    "    print(\"My favourite language is {}\".format(language))\n",
    "\n",
    "favourite_language(\"Python\")"
   ]
  },
  {
   "cell_type": "code",
   "execution_count": 20,
   "metadata": {},
   "outputs": [
    {
     "output_type": "stream",
     "name": "stdout",
     "text": [
      "The positional arguments are ()\nThe keyword arguments are {}\nNo arguments here.\n"
     ]
    }
   ],
   "source": [
    "# args and kwargs\n",
    "\n",
    "def decorator_with_arbitrary_arguments(function):\n",
    "    def wrapper_with_arbitrary_arguments(*args,**kwargs):\n",
    "        print('The positional arguments are', args)\n",
    "        print('The keyword arguments are', kwargs)\n",
    "        function(*args,**kwargs)\n",
    "    return wrapper_with_arbitrary_arguments\n",
    "\n",
    "@decorator_with_arbitrary_arguments\n",
    "def function_with_no_argument():\n",
    "    print(\"No arguments here.\")\n",
    "\n",
    "function_with_no_argument()"
   ]
  },
  {
   "cell_type": "code",
   "execution_count": 21,
   "metadata": {},
   "outputs": [
    {
     "output_type": "stream",
     "name": "stdout",
     "text": [
      "The positional arguments are (1, 2, 3)\nThe keyword arguments are {}\n6\n"
     ]
    }
   ],
   "source": [
    "@decorator_with_arbitrary_arguments\n",
    "def sum(a, b, c):\n",
    "    print(a + b + c)\n",
    "\n",
    "sum(1,2,3)"
   ]
  },
  {
   "cell_type": "code",
   "execution_count": 22,
   "metadata": {},
   "outputs": [
    {
     "output_type": "stream",
     "name": "stdout",
     "text": [
      "The positional arguments are ()\nThe keyword arguments are {'name': 'George Ogden', 'skill': 'Programming'}\n{'name': 'George Ogden', 'skill': 'Programming'}\n"
     ]
    }
   ],
   "source": [
    "@decorator_with_arbitrary_arguments\n",
    "def display_dictionary(**kwargs):\n",
    "    print(kwargs)\n",
    "\n",
    "display_dictionary(name=\"George Ogden\", skill=\"Programming\")"
   ]
  },
  {
   "cell_type": "code",
   "execution_count": 23,
   "metadata": {},
   "outputs": [
    {
     "output_type": "stream",
     "name": "stdout",
     "text": [
      "The wrapper can access all the variables\n\t- from the decorator generator: decorator argument 1, decorator argument 2 and decorator argument 3\n\t- from the function call: function argument 1, function argument 2 and function argument 3 and pass them to the decorated function\nThis is the decorated function and it only knows about its arguments: function argument 1, function argument 2, and function argument 3\n"
     ]
    }
   ],
   "source": [
    "# passing arguments into decorator\n",
    "\n",
    "def decorator_maker_with_arguments(decorator_argument_1, decorator_argument_2, decorator_argument_3):\n",
    "    def decorator(function):\n",
    "        def wrapper(function_argument_1, function_argument_2, function_argument_3) :\n",
    "            \"This is the wrapper function\"\n",
    "            print(\"The wrapper can access all the variables\\n\\t- from the decorator generator: {}, {} and {}\\n\\t- from the function call: {}, {} and {} and pass them to the decorated function\"\n",
    "                .format(decorator_argument_1, decorator_argument_2,decorator_argument_3,function_argument_1, function_argument_2,function_argument_3))\n",
    "            return function(function_argument_1, function_argument_2,function_argument_3)\n",
    "        return wrapper\n",
    "    return decorator\n",
    "\n",
    "@decorator_maker_with_arguments(\"decorator argument 1\",\"decorator argument 2\",\"decorator argument 3\")\n",
    "def decorated_function_with_arguments(function_argument_1, function_argument_2,function_argument_3):\n",
    "    print(\"This is the decorated function and it only knows about its arguments: {}, {}, and {}\".format(function_argument_1, function_argument_2,function_argument_3))\n",
    "\n",
    "decorated_function_with_arguments(\"function argument 1\",\"function argument 2\",\"function argument 3\")"
   ]
  },
  {
   "cell_type": "code",
   "execution_count": null,
   "metadata": {},
   "outputs": [],
   "source": []
  }
 ]
}