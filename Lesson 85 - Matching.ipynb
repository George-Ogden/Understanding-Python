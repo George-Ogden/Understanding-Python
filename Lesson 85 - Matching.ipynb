{
 "cells": [
  {
   "cell_type": "code",
   "execution_count": 1,
   "metadata": {},
   "outputs": [],
   "source": [
    "def http_error(status):\n",
    "    match status:\n",
    "        case 400:\n",
    "            return \"Bad request\"\n",
    "        case 404:\n",
    "            return \"Not found\"\n",
    "        case 418:\n",
    "            return \"I'm a teapot\"\n",
    "        case _:\n",
    "            return \"Something's wrong with the internet\""
   ]
  },
  {
   "cell_type": "code",
   "execution_count": 2,
   "metadata": {},
   "outputs": [
    {
     "name": "stdout",
     "output_type": "stream",
     "text": [
      "Bad request\n",
      "Not found\n",
      "I'm a teapot\n",
      "Something's wrong with the internet\n"
     ]
    }
   ],
   "source": [
    "print(http_error(400))\n",
    "print(http_error(404))\n",
    "print(http_error(418))\n",
    "print(http_error(500))"
   ]
  },
  {
   "cell_type": "code",
   "execution_count": 3,
   "metadata": {},
   "outputs": [],
   "source": [
    "def http_error(status):\n",
    "    match status:\n",
    "        case 400:\n",
    "            return \"Bad request\"\n",
    "        case 401 | 403 | 404:\n",
    "            return \"Not allowed\"\n",
    "        case 418:\n",
    "            return \"I'm a teapot\"\n",
    "        case _:\n",
    "            return \"Something's wrong with the internet\""
   ]
  },
  {
   "cell_type": "code",
   "execution_count": 4,
   "metadata": {},
   "outputs": [
    {
     "name": "stdout",
     "output_type": "stream",
     "text": [
      "Bad request\n",
      "Not allowed\n",
      "Not allowed\n",
      "I'm a teapot\n",
      "Something's wrong with the internet\n"
     ]
    }
   ],
   "source": [
    "print(http_error(400))\n",
    "print(http_error(401))\n",
    "print(http_error(404))\n",
    "print(http_error(418))\n",
    "print(http_error(500))"
   ]
  },
  {
   "cell_type": "code",
   "execution_count": 5,
   "metadata": {},
   "outputs": [],
   "source": [
    "def http_error(status):\n",
    "    match status:\n",
    "        case 400:\n",
    "            return \"Bad request\"\n",
    "        case 401 | 403 | 404:\n",
    "            return \"Not allowed\"\n",
    "        case 418:\n",
    "            return \"I'm a teapot\""
   ]
  },
  {
   "cell_type": "code",
   "execution_count": 6,
   "metadata": {},
   "outputs": [
    {
     "name": "stdout",
     "output_type": "stream",
     "text": [
      "Bad request\n",
      "Not allowed\n",
      "Not allowed\n",
      "I'm a teapot\n",
      "None\n"
     ]
    }
   ],
   "source": [
    "print(http_error(400))\n",
    "print(http_error(401))\n",
    "print(http_error(404))\n",
    "print(http_error(418))\n",
    "print(http_error(500))"
   ]
  },
  {
   "cell_type": "code",
   "execution_count": 7,
   "metadata": {},
   "outputs": [],
   "source": [
    "def location(point):\n",
    "    # point is an (x, y) tuple\n",
    "    match point:\n",
    "        case (0, 0):\n",
    "            print(\"Origin\")\n",
    "        case (0, y):\n",
    "            print(f\"Y={y}\")\n",
    "        case (x, 0):\n",
    "            print(f\"X={x}\")\n",
    "        case (x, y):\n",
    "            print(f\"X={x}, Y={y}\")\n",
    "        case _:\n",
    "            raise ValueError(\"Not a point\")"
   ]
  },
  {
   "cell_type": "code",
   "execution_count": 8,
   "metadata": {},
   "outputs": [
    {
     "name": "stdout",
     "output_type": "stream",
     "text": [
      "Y=5\n",
      "X=4\n",
      "Origin\n",
      "X=8, Y=5\n"
     ]
    },
    {
     "ename": "ValueError",
     "evalue": "Not a point",
     "output_type": "error",
     "traceback": [
      "\u001b[1;31m---------------------------------------------------------------------------\u001b[0m",
      "\u001b[1;31mValueError\u001b[0m                                Traceback (most recent call last)",
      "\u001b[1;32mc:\\Users\\George Ogden\\OneDrive\\Desktop\\Understanding Python\\Lesson 85 - Matching.ipynb Cell 8'\u001b[0m in \u001b[0;36m<cell line: 5>\u001b[1;34m()\u001b[0m\n\u001b[0;32m      <a href='vscode-notebook-cell:/c%3A/Users/George%20Ogden/OneDrive/Desktop/Understanding%20Python/Lesson%2085%20-%20Matching.ipynb#ch0000007?line=2'>3</a>\u001b[0m location((\u001b[39m0\u001b[39m,\u001b[39m0\u001b[39m))\n\u001b[0;32m      <a href='vscode-notebook-cell:/c%3A/Users/George%20Ogden/OneDrive/Desktop/Understanding%20Python/Lesson%2085%20-%20Matching.ipynb#ch0000007?line=3'>4</a>\u001b[0m location((\u001b[39m8\u001b[39m,\u001b[39m5\u001b[39m))\n\u001b[1;32m----> <a href='vscode-notebook-cell:/c%3A/Users/George%20Ogden/OneDrive/Desktop/Understanding%20Python/Lesson%2085%20-%20Matching.ipynb#ch0000007?line=4'>5</a>\u001b[0m location(\u001b[39m\"\u001b[39;49m\u001b[39mlost\u001b[39;49m\u001b[39m\"\u001b[39;49m)\n",
      "\u001b[1;32mc:\\Users\\George Ogden\\OneDrive\\Desktop\\Understanding Python\\Lesson 85 - Matching.ipynb Cell 7'\u001b[0m in \u001b[0;36mlocation\u001b[1;34m(point)\u001b[0m\n\u001b[0;32m      <a href='vscode-notebook-cell:/c%3A/Users/George%20Ogden/OneDrive/Desktop/Understanding%20Python/Lesson%2085%20-%20Matching.ipynb#ch0000006?line=0'>1</a>\u001b[0m \u001b[39mdef\u001b[39;00m \u001b[39mlocation\u001b[39m(point):\n\u001b[0;32m      <a href='vscode-notebook-cell:/c%3A/Users/George%20Ogden/OneDrive/Desktop/Understanding%20Python/Lesson%2085%20-%20Matching.ipynb#ch0000006?line=1'>2</a>\u001b[0m     \u001b[39m# point is an (x, y) tuple\u001b[39;00m\n\u001b[0;32m      <a href='vscode-notebook-cell:/c%3A/Users/George%20Ogden/OneDrive/Desktop/Understanding%20Python/Lesson%2085%20-%20Matching.ipynb#ch0000006?line=2'>3</a>\u001b[0m     \u001b[39mmatch\u001b[39;00m point:\n\u001b[0;32m      <a href='vscode-notebook-cell:/c%3A/Users/George%20Ogden/OneDrive/Desktop/Understanding%20Python/Lesson%2085%20-%20Matching.ipynb#ch0000006?line=3'>4</a>\u001b[0m         \u001b[39mcase\u001b[39;00m (\u001b[39m0\u001b[39m, \u001b[39m0\u001b[39m):\n\u001b[0;32m      <a href='vscode-notebook-cell:/c%3A/Users/George%20Ogden/OneDrive/Desktop/Understanding%20Python/Lesson%2085%20-%20Matching.ipynb#ch0000006?line=4'>5</a>\u001b[0m             \u001b[39mprint\u001b[39m(\u001b[39m\"\u001b[39m\u001b[39mOrigin\u001b[39m\u001b[39m\"\u001b[39m)\n\u001b[0;32m      <a href='vscode-notebook-cell:/c%3A/Users/George%20Ogden/OneDrive/Desktop/Understanding%20Python/Lesson%2085%20-%20Matching.ipynb#ch0000006?line=5'>6</a>\u001b[0m         \u001b[39mcase\u001b[39;00m (\u001b[39m0\u001b[39m, y):\n\u001b[0;32m      <a href='vscode-notebook-cell:/c%3A/Users/George%20Ogden/OneDrive/Desktop/Understanding%20Python/Lesson%2085%20-%20Matching.ipynb#ch0000006?line=6'>7</a>\u001b[0m             \u001b[39mprint\u001b[39m(\u001b[39mf\u001b[39m\u001b[39m\"\u001b[39m\u001b[39mY=\u001b[39m\u001b[39m{\u001b[39;00my\u001b[39m}\u001b[39;00m\u001b[39m\"\u001b[39m)\n\u001b[0;32m      <a href='vscode-notebook-cell:/c%3A/Users/George%20Ogden/OneDrive/Desktop/Understanding%20Python/Lesson%2085%20-%20Matching.ipynb#ch0000006?line=7'>8</a>\u001b[0m         \u001b[39mcase\u001b[39;00m (x, \u001b[39m0\u001b[39m):\n\u001b[0;32m      <a href='vscode-notebook-cell:/c%3A/Users/George%20Ogden/OneDrive/Desktop/Understanding%20Python/Lesson%2085%20-%20Matching.ipynb#ch0000006?line=8'>9</a>\u001b[0m             \u001b[39mprint\u001b[39m(\u001b[39mf\u001b[39m\u001b[39m\"\u001b[39m\u001b[39mX=\u001b[39m\u001b[39m{\u001b[39;00mx\u001b[39m}\u001b[39;00m\u001b[39m\"\u001b[39m)\n\u001b[0;32m     <a href='vscode-notebook-cell:/c%3A/Users/George%20Ogden/OneDrive/Desktop/Understanding%20Python/Lesson%2085%20-%20Matching.ipynb#ch0000006?line=9'>10</a>\u001b[0m         \u001b[39mcase\u001b[39;00m (x, y):\n\u001b[0;32m     <a href='vscode-notebook-cell:/c%3A/Users/George%20Ogden/OneDrive/Desktop/Understanding%20Python/Lesson%2085%20-%20Matching.ipynb#ch0000006?line=10'>11</a>\u001b[0m             \u001b[39mprint\u001b[39m(\u001b[39mf\u001b[39m\u001b[39m\"\u001b[39m\u001b[39mX=\u001b[39m\u001b[39m{\u001b[39;00mx\u001b[39m}\u001b[39;00m\u001b[39m, Y=\u001b[39m\u001b[39m{\u001b[39;00my\u001b[39m}\u001b[39;00m\u001b[39m\"\u001b[39m)\n\u001b[0;32m     <a href='vscode-notebook-cell:/c%3A/Users/George%20Ogden/OneDrive/Desktop/Understanding%20Python/Lesson%2085%20-%20Matching.ipynb#ch0000006?line=11'>12</a>\u001b[0m         \u001b[39mcase\u001b[39;00m \u001b[39m_\u001b[39;00m:\n\u001b[1;32m---> <a href='vscode-notebook-cell:/c%3A/Users/George%20Ogden/OneDrive/Desktop/Understanding%20Python/Lesson%2085%20-%20Matching.ipynb#ch0000006?line=12'>13</a>\u001b[0m             \u001b[39mraise\u001b[39;00m \u001b[39mValueError\u001b[39;00m(\u001b[39m\"\u001b[39m\u001b[39mNot a point\u001b[39m\u001b[39m\"\u001b[39m)\n",
      "\u001b[1;31mValueError\u001b[0m: Not a point"
     ]
    }
   ],
   "source": [
    "location((0,5))\n",
    "location((4,0))\n",
    "location((0,0))\n",
    "location((8,5))\n",
    "location(\"lost\")"
   ]
  },
  {
   "cell_type": "code",
   "execution_count": 9,
   "metadata": {},
   "outputs": [],
   "source": [
    "class Point:\n",
    "    x: int\n",
    "    y: int                                                                        \n",
    "    __match_args__ = (\"x\", \"y\")\n",
    "    def __init__(self,x,y):\n",
    "        self.x = x\n",
    "        self.y = y"
   ]
  },
  {
   "cell_type": "code",
   "execution_count": 10,
   "metadata": {},
   "outputs": [],
   "source": [
    "def location(point):\n",
    "    match point:\n",
    "        case Point(x=0, y=0):\n",
    "            print(\"Origin is the point's location.\")\n",
    "        case Point(x=0, y=y):\n",
    "            print(f\"Y={y} and the point is on the y-axis.\")\n",
    "        case Point(x=x, y=0):\n",
    "            print(f\"X={x} and the point is on the x-axis.\")\n",
    "        case Point():\n",
    "            print(\"The point is located somewhere else on the plane.\")\n",
    "        case _:\n",
    "            print(\"Not a point\")\n"
   ]
  },
  {
   "cell_type": "code",
   "execution_count": 11,
   "metadata": {},
   "outputs": [
    {
     "name": "stdout",
     "output_type": "stream",
     "text": [
      "Y=5 and the point is on the y-axis.\n",
      "X=4 and the point is on the x-axis.\n",
      "Origin is the point's location.\n",
      "The point is located somewhere else on the plane.\n",
      "Not a point\n"
     ]
    }
   ],
   "source": [
    "location(Point(0,5))\n",
    "location(Point(4,0))\n",
    "location(Point(0,0))\n",
    "location(Point(8,5))\n",
    "location(\"lost\")"
   ]
  },
  {
   "cell_type": "code",
   "execution_count": 14,
   "metadata": {},
   "outputs": [],
   "source": [
    "def location(point):\n",
    "    match point:\n",
    "        case Point(x=0, y=0):\n",
    "            print(\"Origin is the point's location.\")\n",
    "        case Point(x=0, y=y):\n",
    "            print(f\"Y={y} and the point is on the y-axis.\")\n",
    "        case Point(x=x, y=0):\n",
    "            print(f\"X={x} and the point is on the x-axis.\")\n",
    "        case Point(x, y) if x == y:\n",
    "            print(f\"The point is located on the diagonal Y=X at {x}.\")\n",
    "        case Point():\n",
    "            print(\"The point is located somewhere else on the plane.\")\n",
    "        case _:\n",
    "            print(\"Not a point\")\n"
   ]
  },
  {
   "cell_type": "code",
   "execution_count": 15,
   "metadata": {},
   "outputs": [
    {
     "name": "stdout",
     "output_type": "stream",
     "text": [
      "Y=5 and the point is on the y-axis.\n",
      "X=4 and the point is on the x-axis.\n",
      "Origin is the point's location.\n",
      "The point is located on the diagonal Y=X at 6.\n",
      "The point is located somewhere else on the plane.\n"
     ]
    }
   ],
   "source": [
    "location(Point(0,5))\n",
    "location(Point(4,0))\n",
    "location(Point(0,0))\n",
    "location(Point(6,6))\n",
    "location(Point(8,5))"
   ]
  },
  {
   "cell_type": "code",
   "execution_count": 16,
   "metadata": {},
   "outputs": [],
   "source": [
    "def location(points):\n",
    "    match points:\n",
    "        case []:\n",
    "            print(\"No points in the list.\")\n",
    "        case [Point(0, 0)]:\n",
    "            print(\"The origin is the only point in the list.\")\n",
    "        case [Point(x, y)]:\n",
    "            print(f\"A single point {x}, {y} is in the list.\")\n",
    "        case [Point(0, y1), Point(0, y2)]:\n",
    "            print(f\"Two points on the Y axis at {y1}, {y2} are in the list.\")\n",
    "        case _:\n",
    "            print(\"Something else is found in the list.\")"
   ]
  },
  {
   "cell_type": "code",
   "execution_count": 17,
   "metadata": {},
   "outputs": [
    {
     "name": "stdout",
     "output_type": "stream",
     "text": [
      "Two points on the Y axis at 5, 4 are in the list.\n",
      "No points in the list.\n",
      "The origin is the only point in the list.\n",
      "Something else is found in the list.\n",
      "A single point 8, 5 is in the list.\n",
      "Something else is found in the list.\n"
     ]
    }
   ],
   "source": [
    "location([Point(0,5),Point(0,4)])\n",
    "location([])\n",
    "location([Point(0,0)])\n",
    "location([Point(6,6),Point(6,7)])\n",
    "location([Point(8,5)])\n",
    "location(\"lost\")"
   ]
  },
  {
   "cell_type": "code",
   "execution_count": 18,
   "metadata": {},
   "outputs": [],
   "source": [
    "def error_code(error):\n",
    "    match error:\n",
    "        case ('warning', code, 40):\n",
    "            print(\"A warning has been received.\")\n",
    "        case ('error', code, _):\n",
    "            print(f\"An error {code} occurred.\")"
   ]
  },
  {
   "cell_type": "code",
   "execution_count": 19,
   "metadata": {},
   "outputs": [
    {
     "name": "stdout",
     "output_type": "stream",
     "text": [
      "A warning has been received.\n",
      "An error 50 occurred.\n",
      "An error 70 occurred.\n"
     ]
    }
   ],
   "source": [
    "error_code((\"warning\",45,40))\n",
    "error_code((\"error\",50,85))\n",
    "error_code((\"error\",70,94))\n",
    "error_code((\"warning\",90,21))"
   ]
  },
  {
   "cell_type": "code",
   "execution_count": 20,
   "metadata": {},
   "outputs": [],
   "source": [
    "def check_list(data):\n",
    "    match data:\n",
    "        case [x]:\n",
    "            print(\"Single element\")\n",
    "        case [x,y]:\n",
    "            print(\"Two elements\")\n",
    "        case [x,y,*z]:\n",
    "            print(\"Multiple elements\")\n",
    "        case _:\n",
    "            print(\"Not a list\")"
   ]
  },
  {
   "cell_type": "code",
   "execution_count": 21,
   "metadata": {},
   "outputs": [
    {
     "name": "stdout",
     "output_type": "stream",
     "text": [
      "Single element\n",
      "Two elements\n",
      "Multiple elements\n",
      "Multiple elements\n",
      "Not a list\n"
     ]
    }
   ],
   "source": [
    "check_list([1])\n",
    "check_list([1,2])\n",
    "check_list([1,2,3])\n",
    "check_list([1,2,3,4])\n",
    "check_list(5)"
   ]
  }
 ],
 "metadata": {
  "interpreter": {
   "hash": "10e1abf77ddef6b5a0d462bd0c1af8a6d69cacf984b7ff54f171d3af9bd75ca1"
  },
  "kernelspec": {
   "display_name": "Python 3.10.0 ('base')",
   "language": "python",
   "name": "python3"
  },
  "language_info": {
   "codemirror_mode": {
    "name": "ipython",
    "version": 3
   },
   "file_extension": ".py",
   "mimetype": "text/x-python",
   "name": "python",
   "nbconvert_exporter": "python",
   "pygments_lexer": "ipython3",
   "version": "3.10.0"
  },
  "orig_nbformat": 4
 },
 "nbformat": 4,
 "nbformat_minor": 2
}
