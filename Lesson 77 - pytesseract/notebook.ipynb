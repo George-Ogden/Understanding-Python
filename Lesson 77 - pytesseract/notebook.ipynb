{
 "cells": [
  {
   "cell_type": "code",
   "execution_count": 1,
   "metadata": {},
   "outputs": [
    {
     "name": "stdout",
     "output_type": "stream",
     "text": [
      "Requirement already satisfied: pytesseract in c:\\miniconda3\\lib\\site-packages (0.3.8)\n",
      "Requirement already satisfied: Pillow in c:\\miniconda3\\lib\\site-packages (from pytesseract) (8.4.0)\n"
     ]
    }
   ],
   "source": [
    "!pip install pytesseract"
   ]
  },
  {
   "cell_type": "code",
   "execution_count": 2,
   "metadata": {},
   "outputs": [],
   "source": [
    "import pytesseract"
   ]
  },
  {
   "cell_type": "code",
   "execution_count": 3,
   "metadata": {},
   "outputs": [],
   "source": [
    "pytesseract.pytesseract.tesseract_cmd = r\"tesseract/tesseract\""
   ]
  },
  {
   "cell_type": "code",
   "execution_count": 4,
   "metadata": {},
   "outputs": [
    {
     "name": "stdout",
     "output_type": "stream",
     "text": [
      "This is a lot of 12 point text to test the\n",
      "ocr code and see if it works on all types\n",
      "of file format.\n",
      "\n",
      "The quick brown dog jumped over the\n",
      "lazy fox. The quick brown dog jumped\n",
      "over the lazy fox. The quick brown dog\n",
      "jumped over the lazy fox. The quick\n",
      "brown dog jumped over the lazy fox.\n",
      "\n"
     ]
    }
   ],
   "source": [
    "print(pytesseract.image_to_string(\"test.jpg\"))"
   ]
  },
  {
   "cell_type": "code",
   "execution_count": 5,
   "metadata": {},
   "outputs": [
    {
     "name": "stdout",
     "output_type": "stream",
     "text": [
      "The (quick) [brown] {fox} jumps!\n",
      "Over the $43,456.78 <lazy> #90 dog\n",
      "& duck/goose, as 12.5% of E-mail\n",
      "from aspammer@website.com is spam.\n",
      "Der ,.schnelle” braune Fuchs springt\n",
      "iiber den faulen Hund. Le renard brun\n",
      "«rapide» saute par-dessus le chien\n",
      "paresseux. La volpe marrone rapida\n",
      "salta sopra il cane pigro. El zorro\n",
      "marron rapido salta sobre el perro\n",
      "perezoso. A raposa marrom rapida\n",
      "salta sobre o cdo preguicoso.\n",
      "\n"
     ]
    }
   ],
   "source": [
    "print(pytesseract.image_to_string(\"test-european.jpg\"))"
   ]
  },
  {
   "cell_type": "code",
   "execution_count": 6,
   "metadata": {},
   "outputs": [
    {
     "data": {
      "text/plain": [
       "['deu', 'eng', 'fra', 'ita', 'osd', 'spa']"
      ]
     },
     "execution_count": 6,
     "metadata": {},
     "output_type": "execute_result"
    }
   ],
   "source": [
    "pytesseract.get_languages()"
   ]
  },
  {
   "cell_type": "code",
   "execution_count": 7,
   "metadata": {},
   "outputs": [
    {
     "name": "stdout",
     "output_type": "stream",
     "text": [
      "The (quick) [brown] {fox} jumps!\n",
      "Over the $43,456.78 <lazy> #90 dog\n",
      "& duck/goose, as 12.5% of E—mail\n",
      "from aspammer@website.com is spam.\n",
      "Der ..schnelle” braune Fuchs springt\n",
      "diber den faulen Hund. Le renard brun\n",
      "«rapide» saute par—dessus le chien\n",
      "paresseux. La volpe marrone rapida\n",
      "salta sopra il cane pigro. El zorro\n",
      "marròn ràpido salta sobre el perro\n",
      "perezoso. A raposa marrom ràpida\n",
      "salta sobre o cào preguicoso.\n",
      "\n"
     ]
    }
   ],
   "source": [
    "print(pytesseract.image_to_string(\"test-european.jpg\",lang=\"ita\"))"
   ]
  },
  {
   "cell_type": "code",
   "execution_count": 8,
   "metadata": {},
   "outputs": [
    {
     "name": "stdout",
     "output_type": "stream",
     "text": [
      "The (quick) [brown] {fox} jumps!\n",
      "Over the $43,456.78 <lazy> #90 dog\n",
      "& duck/goose, as 12.5% of E-mail\n",
      "from aspammer@website.com is spam.\n",
      "Der ,.schnelle” braune Fuchs springt\n",
      "iiber den faulen Hund. Le renard brun\n",
      "«rapide» saute par-dessus le chien\n",
      "paresseux. La volpe marrone rapida\n",
      "salta sopra il cane pigro. El zorro\n",
      "marron rapido salta sobre el perro\n",
      "perezoso. A raposa marrom rapida\n",
      "salta sobre o cdo preguicoso.\n",
      "\n"
     ]
    }
   ],
   "source": [
    "print(pytesseract.image_to_string(\"test-european.jpg\",lang=\"deu+eng+fra+ita+spa\"))"
   ]
  },
  {
   "cell_type": "code",
   "execution_count": 9,
   "metadata": {},
   "outputs": [
    {
     "name": "stdout",
     "output_type": "stream",
     "text": [
      "This is a lot of 12 point text to test the\n",
      "ocr code and see if it works on all types\n",
      "of file format.\n",
      "\n",
      "The quick brown dog jumped over the\n",
      "lazy fox. The quick brown dog jumped\n",
      "over the lazy fox. The quick brown dog\n",
      "jumped over the lazy fox. The quick\n",
      "brown dog jumped over the lazy fox.\n",
      "\fThe (quick) [brown] {fox} jumps!\n",
      "Over the $43,456.78 <lazy> #90 dog\n",
      "& duck/goose, as 12.5% of E-mail\n",
      "from aspammer@website.com is spam.\n",
      "Der ,.schnelle” braune Fuchs springt\n",
      "iiber den faulen Hund. Le renard brun\n",
      "«rapide» saute par-dessus le chien\n",
      "paresseux. La volpe marrone rapida\n",
      "salta sopra il cane pigro. El zorro\n",
      "marron rapido salta sobre el perro\n",
      "perezoso. A raposa marrom rapida\n",
      "salta sobre o cdo preguicoso.\n",
      "\n"
     ]
    }
   ],
   "source": [
    "print(pytesseract.image_to_string(\"images.txt\"))"
   ]
  },
  {
   "cell_type": "code",
   "execution_count": 10,
   "metadata": {},
   "outputs": [
    {
     "name": "stdout",
     "output_type": "stream",
     "text": [
      "T 36 364 55 388 0\n",
      "h 47 364 64 388 0\n",
      "i 57 364 71 388 0\n",
      "s 76 364 96 388 0\n",
      "i 109 364 112 388 0\n",
      "s 115 364 129 382 0\n",
      "a 141 364 156 382 0\n",
      "l 169 364 172 388 0\n",
      "o 175 364 191 382 0\n",
      "t 193 364 201 387 0\n",
      "o 212 364 228 382 0\n",
      "f 229 364 240 388 0\n",
      "1 251 364 260 388 0\n",
      "2 267 364 282 388 0\n",
      "p 296 358 311 382 0\n",
      "o 313 364 329 382 0\n",
      "i 332 364 335 388 0\n",
      "n 339 364 353 382 0\n",
      "t 356 364 364 387 0\n",
      "t 374 364 383 387 0\n",
      "e 384 364 400 382 0\n",
      "x 402 364 417 382 0\n",
      "t 418 364 427 387 0\n",
      "t 437 364 445 387 0\n",
      "o 447 364 463 382 0\n",
      "t 474 364 482 387 0\n",
      "e 484 364 500 382 0\n",
      "s 502 364 516 382 0\n",
      "t 518 364 526 387 0\n",
      "t 536 364 545 387 0\n",
      "h 547 364 561 388 0\n",
      "e 564 364 580 382 0\n",
      "o 36 330 52 348 0\n",
      "c 54 330 69 348 0\n",
      "r 72 330 81 348 0\n",
      "c 91 330 106 348 0\n",
      "o 108 330 124 348 0\n",
      "d 126 330 141 354 0\n",
      "e 144 330 160 348 0\n",
      "a 172 330 187 348 0\n",
      "n 184 330 198 354 0\n",
      "d 191 330 223 354 0\n",
      "s 236 330 244 348 0\n",
      "e 236 330 250 348 0\n",
      "e 252 330 286 348 0\n",
      "i 299 330 300 354 0\n",
      "f 299 330 314 354 0\n",
      "i 325 330 328 354 0\n",
      "t 330 330 339 353 0\n",
      "w 348 330 372 348 0\n",
      "o 373 330 389 348 0\n",
      "r 392 330 402 348 0\n",
      "k 403 330 417 354 0\n",
      "s 419 330 433 348 0\n",
      "o 445 330 461 348 0\n",
      "n 464 330 478 348 0\n",
      "a 500 330 504 354 0\n",
      "l 500 330 515 348 0\n",
      "l 519 330 529 354 0\n",
      "t 541 323 565 353 0\n",
      "y 558 323 572 353 0\n",
      "p 568 324 584 348 0\n",
      "e 586 330 602 348 0\n",
      "s 604 330 618 348 0\n",
      "o 36 296 52 314 0\n",
      "f 53 296 64 320 0\n",
      "f 72 296 82 320 0\n",
      "i 83 296 86 320 0\n",
      "l 90 296 94 320 0\n",
      "e 97 296 113 314 0\n",
      "f 123 296 133 320 0\n",
      "o 133 296 149 314 0\n",
      "r 153 296 162 314 0\n",
      "m 164 296 187 314 0\n",
      "a 182 296 196 320 0\n",
      "t 190 296 206 314 0\n",
      ". 208 296 223 319 0\n",
      "T 36 262 55 286 0\n",
      "h 57 262 71 286 0\n",
      "e 75 262 91 280 0\n",
      "q 102 256 117 280 0\n",
      "u 121 262 135 280 0\n",
      "i 140 262 143 286 0\n",
      "c 146 262 161 280 0\n",
      "k 163 262 177 286 0\n",
      "b 189 262 204 286 0\n",
      "r 207 262 217 280 0\n",
      "o 217 262 233 280 0\n",
      "w 235 262 258 280 0\n",
      "n 260 262 274 280 0\n",
      "d 287 262 302 286 0\n",
      "o 305 262 321 280 0\n",
      "g 323 255 339 280 0\n",
      "j 348 255 355 286 0\n",
      "u 359 262 373 280 0\n",
      "m 377 262 401 280 0\n",
      "p 405 256 420 280 0\n",
      "e 422 262 438 280 0\n",
      "d 440 262 456 286 0\n",
      "o 468 262 484 280 0\n",
      "v 477 262 494 280 0\n",
      "e 486 262 501 280 0\n",
      "r 503 262 531 280 0\n",
      "t 540 262 549 285 0\n",
      "h 551 262 565 286 0\n",
      "e 569 262 585 280 0\n",
      "l 37 228 40 252 0\n",
      "a 43 228 59 246 0\n",
      "z 62 228 77 246 0\n",
      "y 78 221 92 246 0\n",
      "f 103 228 113 252 0\n",
      "o 113 228 129 246 0\n",
      "x 131 228 146 246 0\n",
      ". 150 228 153 231 0\n",
      "T 165 228 184 252 0\n",
      "h 187 228 201 252 0\n",
      "e 204 228 220 246 0\n",
      "q 232 222 247 246 0\n",
      "u 251 228 265 246 0\n",
      "i 269 228 273 252 0\n",
      "c 276 228 291 246 0\n",
      "k 293 228 307 252 0\n",
      "b 319 228 334 252 0\n",
      "r 337 228 346 246 0\n",
      "o 347 228 363 246 0\n",
      "w 364 228 388 246 0\n",
      "n 390 228 404 246 0\n",
      "d 417 228 432 252 0\n",
      "o 435 228 451 246 0\n",
      "g 453 221 468 246 0\n",
      "j 478 221 503 252 0\n",
      "u 497 221 514 252 0\n",
      "m 507 228 531 246 0\n",
      "p 535 222 550 246 0\n",
      "e 552 228 568 246 0\n",
      "d 570 228 585 252 0\n",
      "o 36 194 52 212 0\n",
      "v 48 194 62 212 0\n",
      "e 54 194 69 212 0\n",
      "r 71 194 99 212 0\n",
      "t 109 194 117 217 0\n",
      "h 120 194 134 218 0\n",
      "e 137 194 153 212 0\n",
      "l 165 194 169 218 0\n",
      "a 172 194 187 212 0\n",
      "z 190 194 205 212 0\n",
      "y 206 187 221 212 0\n",
      "f 231 194 241 218 0\n",
      "o 241 194 257 212 0\n",
      "x 259 194 274 212 0\n",
      ". 278 194 281 197 0\n",
      "T 294 194 313 218 0\n",
      "h 315 194 329 218 0\n",
      "e 333 194 349 212 0\n",
      "q 360 188 375 212 0\n",
      "u 379 194 393 212 0\n",
      "i 398 194 401 218 0\n",
      "c 404 194 419 212 0\n",
      "k 421 194 435 218 0\n",
      "b 447 194 462 218 0\n",
      "r 465 194 475 212 0\n",
      "o 475 194 491 212 0\n",
      "w 493 194 516 212 0\n",
      "n 518 194 532 212 0\n",
      "d 545 194 560 218 0\n",
      "o 563 194 579 212 0\n",
      "g 581 187 597 212 0\n",
      "j 43 153 50 184 0\n",
      "u 54 160 68 178 0\n",
      "m 72 160 96 178 0\n",
      "p 91 153 108 184 0\n",
      "e 99 154 115 178 0\n",
      "d 117 160 150 184 0\n",
      "o 162 160 178 178 0\n",
      "v 172 160 186 178 0\n",
      "e 180 160 195 178 0\n",
      "r 197 160 226 178 0\n",
      "t 235 160 243 183 0\n",
      "h 246 160 260 184 0\n",
      "e 263 160 279 178 0\n",
      "l 292 160 295 184 0\n",
      "a 298 160 313 178 0\n",
      "z 316 160 331 178 0\n",
      "y 332 153 347 178 0\n",
      "f 357 160 368 184 0\n",
      "o 368 160 384 178 0\n",
      "x 385 160 401 178 0\n",
      ". 404 160 407 163 0\n",
      "T 420 160 439 184 0\n",
      "h 442 160 456 184 0\n",
      "e 459 160 475 178 0\n",
      "q 486 154 501 178 0\n",
      "u 506 160 520 178 0\n",
      "i 524 160 527 184 0\n",
      "c 530 160 545 178 0\n",
      "k 548 160 561 184 0\n",
      "b 37 126 52 150 0\n",
      "r 55 126 65 144 0\n",
      "o 65 126 81 144 0\n",
      "w 83 126 106 144 0\n",
      "n 108 126 122 144 0\n",
      "d 135 126 150 150 0\n",
      "o 153 126 169 144 0\n",
      "g 171 119 187 144 0\n",
      "j 196 119 221 150 0\n",
      "u 215 119 232 150 0\n",
      "m 225 126 249 144 0\n",
      "p 253 120 268 144 0\n",
      "e 270 126 286 144 0\n",
      "d 288 126 304 150 0\n",
      "o 316 126 332 144 0\n",
      "v 325 126 339 144 0\n",
      "e 334 126 349 144 0\n",
      "r 351 126 379 144 0\n",
      "t 388 126 397 149 0\n",
      "h 399 126 413 150 0\n",
      "e 417 126 433 144 0\n",
      "l 445 126 448 150 0\n",
      "a 451 126 467 144 0\n",
      "z 470 126 485 144 0\n",
      "y 486 119 500 144 0\n",
      "f 511 126 521 150 0\n",
      "o 521 126 537 144 0\n",
      "x 533 126 547 150 0\n",
      ". 539 126 561 144 0\n",
      "\n"
     ]
    }
   ],
   "source": [
    "print(pytesseract.image_to_boxes(\"test.jpg\"))"
   ]
  },
  {
   "cell_type": "code",
   "execution_count": 11,
   "metadata": {},
   "outputs": [
    {
     "name": "stdout",
     "output_type": "stream",
     "text": [
      "level\tpage_num\tblock_num\tpar_num\tline_num\tword_num\tleft\ttop\twidth\theight\tconf\ttext\n",
      "1\t1\t0\t0\t0\t0\t0\t0\t640\t480\t-1\t\n",
      "2\t1\t1\t0\t0\t0\t36\t92\t582\t269\t-1\t\n",
      "3\t1\t1\t1\t0\t0\t36\t92\t582\t92\t-1\t\n",
      "4\t1\t1\t1\t1\t0\t36\t92\t544\t30\t-1\t\n",
      "5\t1\t1\t1\t1\t1\t36\t92\t60\t24\t96.801230\tThis\n",
      "5\t1\t1\t1\t1\t2\t109\t92\t20\t24\t96.907339\tis\n",
      "5\t1\t1\t1\t1\t3\t141\t98\t15\t18\t96.358161\ta\n",
      "5\t1\t1\t1\t1\t4\t169\t92\t32\t24\t96.358161\tlot\n",
      "5\t1\t1\t1\t1\t5\t212\t92\t28\t24\t96.457388\tof\n",
      "5\t1\t1\t1\t1\t6\t251\t92\t31\t24\t96.457388\t12\n",
      "5\t1\t1\t1\t1\t7\t296\t92\t68\t30\t96.140487\tpoint\n",
      "5\t1\t1\t1\t1\t8\t374\t93\t53\t23\t96.140487\ttext\n",
      "5\t1\t1\t1\t1\t9\t437\t93\t26\t23\t96.850448\tto\n",
      "5\t1\t1\t1\t1\t10\t474\t93\t52\t23\t96.980877\ttest\n",
      "5\t1\t1\t1\t1\t11\t536\t92\t44\t24\t96.232796\tthe\n",
      "4\t1\t1\t1\t2\t0\t36\t126\t582\t31\t-1\t\n",
      "5\t1\t1\t1\t2\t1\t36\t132\t45\t18\t95.283323\tocr\n",
      "5\t1\t1\t1\t2\t2\t91\t126\t69\t24\t95.283323\tcode\n",
      "5\t1\t1\t1\t2\t3\t172\t126\t51\t24\t96.604032\tand\n",
      "5\t1\t1\t1\t2\t4\t236\t132\t50\t18\t96.492960\tsee\n",
      "5\t1\t1\t1\t2\t5\t299\t126\t15\t24\t94.212430\tif\n",
      "5\t1\t1\t1\t2\t6\t325\t126\t14\t24\t94.212430\tit\n",
      "5\t1\t1\t1\t2\t7\t348\t126\t85\t24\t96.040317\tworks\n",
      "5\t1\t1\t1\t2\t8\t445\t132\t33\t18\t94.807673\ton\n",
      "5\t1\t1\t1\t2\t9\t500\t126\t29\t24\t93.705578\tall\n",
      "5\t1\t1\t1\t2\t10\t541\t127\t77\t30\t96.158067\ttypes\n",
      "4\t1\t1\t1\t3\t0\t36\t160\t187\t24\t-1\t\n",
      "5\t1\t1\t1\t3\t1\t36\t160\t28\t24\t96.862713\tof\n",
      "5\t1\t1\t1\t3\t2\t72\t160\t41\t24\t95.853665\tfile\n",
      "5\t1\t1\t1\t3\t3\t123\t160\t100\t24\t95.939012\tformat.\n",
      "3\t1\t1\t2\t0\t0\t36\t194\t561\t167\t-1\t\n",
      "4\t1\t1\t2\t1\t0\t36\t194\t549\t31\t-1\t\n",
      "5\t1\t1\t2\t1\t1\t36\t194\t55\t24\t96.441546\tThe\n",
      "5\t1\t1\t2\t1\t2\t102\t194\t75\t30\t96.634303\tquick\n",
      "5\t1\t1\t2\t1\t3\t189\t194\t85\t24\t96.816710\tbrown\n",
      "5\t1\t1\t2\t1\t4\t287\t194\t52\t31\t96.328161\tdog\n",
      "5\t1\t1\t2\t1\t5\t348\t194\t108\t31\t96.328161\tjumped\n",
      "5\t1\t1\t2\t1\t6\t468\t200\t63\t18\t96.503444\tover\n",
      "5\t1\t1\t2\t1\t7\t540\t194\t45\t24\t96.504233\tthe\n",
      "4\t1\t1\t2\t2\t0\t37\t228\t548\t31\t-1\t\n",
      "5\t1\t1\t2\t2\t1\t37\t228\t55\t31\t96.750872\tlazy\n",
      "5\t1\t1\t2\t2\t2\t103\t228\t50\t24\t96.445667\tfox.\n",
      "5\t1\t1\t2\t2\t3\t165\t228\t55\t24\t96.703056\tThe\n",
      "5\t1\t1\t2\t2\t4\t232\t228\t75\t30\t96.565883\tquick\n",
      "5\t1\t1\t2\t2\t5\t319\t228\t85\t24\t96.305872\tbrown\n",
      "5\t1\t1\t2\t2\t6\t417\t228\t51\t31\t96.619081\tdog\n",
      "5\t1\t1\t2\t2\t7\t478\t228\t107\t31\t95.582782\tjumped\n",
      "4\t1\t1\t2\t3\t0\t36\t262\t561\t31\t-1\t\n",
      "5\t1\t1\t2\t3\t1\t36\t268\t63\t18\t96.795634\tover\n",
      "5\t1\t1\t2\t3\t2\t109\t262\t44\t24\t96.281285\tthe\n",
      "5\t1\t1\t2\t3\t3\t165\t262\t56\t31\t96.925338\tlazy\n",
      "5\t1\t1\t2\t3\t4\t231\t262\t50\t24\t96.222223\tfox.\n",
      "5\t1\t1\t2\t3\t5\t294\t262\t55\t24\t96.626598\tThe\n",
      "5\t1\t1\t2\t3\t6\t360\t262\t75\t30\t96.669083\tquick\n",
      "5\t1\t1\t2\t3\t7\t447\t262\t85\t24\t96.672259\tbrown\n",
      "5\t1\t1\t2\t3\t8\t545\t262\t52\t31\t96.426528\tdog\n",
      "4\t1\t1\t2\t4\t0\t43\t296\t518\t31\t-1\t\n",
      "5\t1\t1\t2\t4\t1\t43\t296\t107\t31\t96.790642\tjumped\n",
      "5\t1\t1\t2\t4\t2\t162\t302\t64\t18\t96.275668\tover\n",
      "5\t1\t1\t2\t4\t3\t235\t296\t44\t24\t96.275668\tthe\n",
      "5\t1\t1\t2\t4\t4\t292\t296\t55\t31\t95.920305\tlazy\n",
      "5\t1\t1\t2\t4\t5\t357\t296\t50\t24\t95.920305\tfox.\n",
      "5\t1\t1\t2\t4\t6\t420\t296\t55\t24\t96.752413\tThe\n",
      "5\t1\t1\t2\t4\t7\t486\t296\t75\t30\t96.783698\tquick\n",
      "4\t1\t1\t2\t5\t0\t37\t330\t524\t31\t-1\t\n",
      "5\t1\t1\t2\t5\t1\t37\t330\t85\t24\t96.061274\tbrown\n",
      "5\t1\t1\t2\t5\t2\t135\t330\t52\t31\t96.061274\tdog\n",
      "5\t1\t1\t2\t5\t3\t196\t330\t108\t31\t96.607953\tjumped\n",
      "5\t1\t1\t2\t5\t4\t316\t336\t63\t18\t96.978389\tover\n",
      "5\t1\t1\t2\t5\t5\t388\t330\t45\t24\t96.541626\tthe\n",
      "5\t1\t1\t2\t5\t6\t445\t330\t55\t31\t95.809469\tlazy\n",
      "5\t1\t1\t2\t5\t7\t511\t330\t50\t24\t96.945517\tfox.\n",
      "\n"
     ]
    }
   ],
   "source": [
    "print(pytesseract.image_to_data(\"test.jpg\"))"
   ]
  },
  {
   "cell_type": "code",
   "execution_count": null,
   "metadata": {},
   "outputs": [],
   "source": [
    "with open(\"test.pdf\",\"wb\") as file:\n",
    "    file.write(pytesseract.image_to_pdf_or_hocr(\"test.jpg\",extension=\"pdf\"))"
   ]
  },
  {
   "cell_type": "code",
   "execution_count": null,
   "metadata": {},
   "outputs": [],
   "source": [
    "!explorer test.pdf"
   ]
  }
 ],
 "metadata": {
  "interpreter": {
   "hash": "10e1abf77ddef6b5a0d462bd0c1af8a6d69cacf984b7ff54f171d3af9bd75ca1"
  },
  "kernelspec": {
   "display_name": "Python 3.9.7 64-bit ('base': conda)",
   "language": "python",
   "name": "python3"
  },
  "language_info": {
   "codemirror_mode": {
    "name": "ipython",
    "version": 3
   },
   "file_extension": ".py",
   "mimetype": "text/x-python",
   "name": "python",
   "nbconvert_exporter": "python",
   "pygments_lexer": "ipython3",
   "version": "3.9.7"
  },
  "orig_nbformat": 4
 },
 "nbformat": 4,
 "nbformat_minor": 2
}
