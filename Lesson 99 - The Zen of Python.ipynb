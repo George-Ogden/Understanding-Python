{
 "cells": [
  {
   "cell_type": "code",
   "execution_count": 1,
   "metadata": {},
   "outputs": [
    {
     "name": "stdout",
     "output_type": "stream",
     "text": [
      "Hello world!\n"
     ]
    }
   ],
   "source": [
    "import __hello__"
   ]
  },
  {
   "cell_type": "code",
   "execution_count": 2,
   "metadata": {},
   "outputs": [
    {
     "name": "stdout",
     "output_type": "stream",
     "text": [
      "The Zen of Python, by Tim Peters\n",
      "\n",
      "Beautiful is better than ugly.\n",
      "Explicit is better than implicit.\n",
      "Simple is better than complex.\n",
      "Complex is better than complicated.\n",
      "Flat is better than nested.\n",
      "Sparse is better than dense.\n",
      "Readability counts.\n",
      "Special cases aren't special enough to break the rules.\n",
      "Although practicality beats purity.\n",
      "Errors should never pass silently.\n",
      "Unless explicitly silenced.\n",
      "In the face of ambiguity, refuse the temptation to guess.\n",
      "There should be one-- and preferably only one --obvious way to do it.\n",
      "Although that way may not be obvious at first unless you're Dutch.\n",
      "Now is better than never.\n",
      "Although never is often better than *right* now.\n",
      "If the implementation is hard to explain, it's a bad idea.\n",
      "If the implementation is easy to explain, it may be a good idea.\n",
      "Namespaces are one honking great idea -- let's do more of those!\n"
     ]
    }
   ],
   "source": [
    "import this"
   ]
  },
  {
   "cell_type": "code",
   "execution_count": 3,
   "metadata": {},
   "outputs": [
    {
     "data": {
      "text/plain": [
       "<os._wrap_close at 0x2458c4c6530>"
      ]
     },
     "execution_count": 3,
     "metadata": {},
     "output_type": "execute_result"
    }
   ],
   "source": [
    "import os\n",
    "os.popen(f\"code {this.__file__}\")"
   ]
  },
  {
   "cell_type": "markdown",
   "metadata": {},
   "source": [
    "> Beautiful is better than ugly.\n",
    "```\n",
    "isEven=lambda Num:True if str(Num)[-1]==\"2\" or str(Num)[-1]==\"4\" or str(Num)[-1]==\"8\" or str(Num)[-1]==\"0\" or str(Num)[-1]==\"6\" else False \n",
    "\n",
    "def is_even(num):\n",
    "    return num % 2 == 0\n",
    "```"
   ]
  },
  {
   "cell_type": "markdown",
   "metadata": {},
   "source": [
    "> Explicit is better than implicit.\n",
    "```\n",
    ">>> array = np.array([1,2,3])\n",
    ">>> array\n",
    "array([1, 2, 3])\n",
    "\n",
    ">>> array[None]\n",
    "array([[1, 2, 3]])\n",
    "\n",
    ">>> array[np.newaxis]\n",
    "array([[1, 2, 3]])\n",
    "```"
   ]
  },
  {
   "cell_type": "markdown",
   "metadata": {},
   "source": [
    "> Simple is better than complex.\n",
    "```\n",
    ">>> array = list([1,2,3,4])\n",
    ">>> array\n",
    "[1, 2, 3, 4]\n",
    "\n",
    ">>> np.array(map(lambda x : x + 1, array))\n",
    "array([2, 3, 4, 5])\n",
    "\n",
    ">>> np.array(array) + 1\n",
    "array([2, 3, 4, 5])\n",
    "```"
   ]
  },
  {
   "cell_type": "markdown",
   "metadata": {},
   "source": [
    "> Complex is better than complicated.\n",
    "```\n",
    "# socket\n",
    "# smtplib\n",
    "# googleapiclient\n",
    "```"
   ]
  },
  {
   "cell_type": "markdown",
   "metadata": {},
   "source": [
    "> Flat is better than nested.\n",
    "```\n",
    ">>> from somemodule.random.distributions.continuous import uniform\n",
    ">>> from random import uniform\n",
    "````"
   ]
  },
  {
   "cell_type": "markdown",
   "metadata": {},
   "source": [
    "> Sparse is better than dense.\n",
    "```\n",
    "writer.write(cv2.line(cv2.filter2D(cv2.resize(spectrogram[:, left:left + padding * 2], shape), -1, kernel), (shape[0]//2, 0), (shape[0]//2, shape[1]), 255, 1))\n",
    "\n",
    "image = cv2.resize(spectrogram[:, left:left + padding * 2], shape)\n",
    "image = cv2.filter2D(image, -1, kernel)\n",
    "image = cv2.line(image, (shape[0]//2, 0), (shape[0]//2, shape[1]), 255, 1)\n",
    "writer.write(image)\n",
    "```"
   ]
  },
  {
   "cell_type": "markdown",
   "metadata": {},
   "source": [
    "> Readability counts.\n",
    "```\n",
    ">>> m = max(range(10))      \n",
    ">>> n = min(range(10))\n",
    ">>> m, n\n",
    "(9, 0)\n",
    "\n",
    ">>> max_value = max(range(10))      \n",
    ">>> min_value = min(range(10))\n",
    ">>> max_value, min_value\n",
    "(9, 0)\n",
    "```"
   ]
  },
  {
   "cell_type": "markdown",
   "metadata": {},
   "source": [
    "> Special cases aren't special enough to break the rules.\n",
    "```\n",
    "object.__private = 0\n",
    "\n",
    "object.reset()\n",
    "```"
   ]
  },
  {
   "cell_type": "markdown",
   "metadata": {},
   "source": [
    "> Although practicality beats purity.\n",
    "```\n",
    "p = prime_number(digits=20)\n",
    "\n",
    "p = probable_prime(digits=20)\n",
    "```"
   ]
  },
  {
   "cell_type": "markdown",
   "metadata": {},
   "source": [
    "> Errors should never pass silently.\n",
    "```\n",
    "try:\n",
    "    main()\n",
    "except:\n",
    "    pass\n",
    "\n",
    "try:\n",
    "    main()\n",
    "except Exception as e:\n",
    "    logging.error(f\"{type(e).__name__}: {e}\")\n",
    "```"
   ]
  },
  {
   "cell_type": "markdown",
   "metadata": {},
   "source": [
    "> Unless explicitly silenced\n",
    "```\n",
    "try:\n",
    "    upload_progress()\n",
    "except NoInternetError:\n",
    "    pass\n",
    "```"
   ]
  },
  {
   "cell_type": "markdown",
   "metadata": {},
   "source": [
    "> In the face of ambiguity, refuse the temptation to guess.\n",
    "```\n",
    "> python main.py\n",
    "RuntimeError: execution failed\n",
    "\n",
    "> python main.py\n",
    "Execution completed successfully\n",
    "\n",
    "> python main.py\n",
    "Execution completed successfully\n",
    "```"
   ]
  },
  {
   "cell_type": "markdown",
   "metadata": {},
   "source": [
    "> There should be one-- and preferably only one --obvious way to do it.\n",
    "```\n",
    ">>> value = 15\n",
    ">>> value\n",
    "15\n",
    "\n",
    ">>> \"Value is %d\" % value\n",
    "'Value is 15'\n",
    "\n",
    ">>> f\"Value is {value}\" \n",
    "'Value is 15'\n",
    "```"
   ]
  },
  {
   "cell_type": "markdown",
   "metadata": {},
   "source": [
    "> Although that way may not be obvious at first unless you're Dutch."
   ]
  },
  {
   "cell_type": "markdown",
   "metadata": {},
   "source": [
    "> Now is better than never.\n",
    "```\n",
    "def function():\n",
    "    \"\"\"\n",
    "    This function will ... in the most optimum manner\n",
    "    \"\"\"\n",
    "\n",
    "def function()\n",
    "    \"\"\"\n",
    "    Perform this task\n",
    "    TODO: optimisation\n",
    "    \"\"\"\n",
    "```"
   ]
  },
  {
   "cell_type": "markdown",
   "metadata": {},
   "source": [
    "> Although never is often better than *right* now.\n",
    "```\n",
    "def function():\n",
    "    \"\"\"\n",
    "    This function carries out this task\n",
    "    \"\"\"\n",
    "\n",
    "```"
   ]
  },
  {
   "cell_type": "markdown",
   "metadata": {},
   "source": [
    "> If the implementation is hard to explain, it's a bad idea.\n",
    "```\n",
    "# apply complex algorithm to select n Nums\n",
    "y = list(f(x, n))\n",
    "```"
   ]
  },
  {
   "cell_type": "markdown",
   "metadata": {},
   "source": [
    "> If the implementation is easy to explain, it may be a good idea.\n",
    "```\n",
    "# shuffle and take first n Nums\n",
    "y = random.shuffle(x)[:n]\n",
    "```"
   ]
  },
  {
   "cell_type": "markdown",
   "metadata": {},
   "source": [
    "> Namespaces are one honking great idea -- let's do more of those!\n",
    "```\n",
    ">>> definition = \"x = 5\\ny = 6\"      \n",
    ">>> print(definition)\n",
    "x = 5\n",
    "y = 6\n",
    "\n",
    ">>> for assignment in definition.splitlines():    \n",
    "...     exec(assignment)\n",
    "...\n",
    ">>> x\n",
    "5\n",
    ">>> y\n",
    "6\n",
    "\n",
    ">>> for assignment in definition.splitlines():    \n",
    "...     variable, value = assignment.split(\" = \")\n",
    "...     locals()[variable] = int(value)\n",
    "...\n",
    ">>> x                                             \n",
    "5\n",
    ">>> y\n",
    "6\n",
    "```"
   ]
  }
 ],
 "metadata": {
  "kernelspec": {
   "display_name": "Python 3.10.4 ('base')",
   "language": "python",
   "name": "python3"
  },
  "language_info": {
   "codemirror_mode": {
    "name": "ipython",
    "version": 3
   },
   "file_extension": ".py",
   "mimetype": "text/x-python",
   "name": "python",
   "nbconvert_exporter": "python",
   "pygments_lexer": "ipython3",
   "version": "3.10.4"
  },
  "orig_nbformat": 4,
  "vscode": {
   "interpreter": {
    "hash": "5a356e9517e14dc2ad259a2123438b15b3972e1e2b3dbfde245c14a47e88b3a8"
   }
  }
 },
 "nbformat": 4,
 "nbformat_minor": 2
}
